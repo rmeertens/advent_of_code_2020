{
 "cells": [
  {
   "cell_type": "code",
   "execution_count": 2,
   "metadata": {},
   "outputs": [],
   "source": [
    "# Read the inputs\n",
    "inputs = \"\"\"1-3 a: abcde\n",
    "1-3 b: cdefg\n",
    "2-9 c: ccccccccc\"\"\"\n",
    "inputs = inputs.split(\"\\n\")\n",
    "\n",
    "with open('inputs/day02.txt') as f:\n",
    "    inputs = f.readlines()"
   ]
  },
  {
   "cell_type": "code",
   "execution_count": 5,
   "metadata": {},
   "outputs": [
    {
     "name": "stdout",
     "output_type": "stream",
     "text": [
      "524\n"
     ]
    }
   ],
   "source": [
    "from collections import Counter\n",
    "\n",
    "# Part 1\n",
    "num_accepted = 0\n",
    "for line in inputs: \n",
    "    policy, password = line.split(\":\")\n",
    "    counts, letter = policy.split(\" \")\n",
    "    mincount, maxcount = counts.split(\"-\")\n",
    "    \n",
    "    c = Counter(password)\n",
    "    if c[letter] >= int(mincount) and c[letter] <= int(maxcount):\n",
    "        num_accepted += 1\n",
    "        \n",
    "print(num_accepted)"
   ]
  },
  {
   "cell_type": "code",
   "execution_count": 6,
   "metadata": {
    "scrolled": false
   },
   "outputs": [
    {
     "name": "stdout",
     "output_type": "stream",
     "text": [
      "485\n"
     ]
    }
   ],
   "source": [
    "# Part 2\n",
    "\n",
    "num_accepted = 0\n",
    "for line in inputs: \n",
    "    policy, password = line.split(\":\")\n",
    "    password = password.strip()\n",
    "    counts, letter = policy.split(\" \")\n",
    "    mincount, maxcount = counts.split(\"-\")\n",
    "    mincount, maxcount = int(mincount), int(maxcount)\n",
    "    \n",
    "    num_correct = 0\n",
    "    if password[mincount-1] == letter:\n",
    "        num_correct+=1\n",
    "        \n",
    "    if password[maxcount-1] == letter:\n",
    "        num_correct +=1\n",
    "\n",
    "    if num_correct == 1:\n",
    "        num_accepted += 1\n",
    "print(num_accepted)        "
   ]
  },
  {
   "cell_type": "code",
   "execution_count": null,
   "metadata": {},
   "outputs": [],
   "source": []
  },
  {
   "cell_type": "code",
   "execution_count": null,
   "metadata": {},
   "outputs": [],
   "source": []
  },
  {
   "cell_type": "code",
   "execution_count": null,
   "metadata": {},
   "outputs": [],
   "source": []
  }
 ],
 "metadata": {
  "kernelspec": {
   "display_name": "Python 3",
   "language": "python",
   "name": "python3"
  },
  "language_info": {
   "codemirror_mode": {
    "name": "ipython",
    "version": 3
   },
   "file_extension": ".py",
   "mimetype": "text/x-python",
   "name": "python",
   "nbconvert_exporter": "python",
   "pygments_lexer": "ipython3",
   "version": "3.7.2"
  }
 },
 "nbformat": 4,
 "nbformat_minor": 4
}
