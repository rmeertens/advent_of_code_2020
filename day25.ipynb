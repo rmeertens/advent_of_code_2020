{
 "cells": [
  {
   "cell_type": "code",
   "execution_count": 24,
   "metadata": {},
   "outputs": [],
   "source": [
    "# public_key1 = 5764801\n",
    "# public_key2 = 17807724\n",
    "\n",
    "# Actual input\n",
    "public_key1 = 11404017\n",
    "public_key2 = 13768789"
   ]
  },
  {
   "cell_type": "code",
   "execution_count": 25,
   "metadata": {},
   "outputs": [],
   "source": [
    "def transform(loop_size, subject_number):\n",
    "    value = 1\n",
    "    for i in range(loop_size):\n",
    "        value *= subject_number\n",
    "        value = value %20201227\n",
    "    return value"
   ]
  },
  {
   "cell_type": "code",
   "execution_count": 26,
   "metadata": {},
   "outputs": [
    {
     "name": "stdout",
     "output_type": "stream",
     "text": [
      "Found it\n"
     ]
    }
   ],
   "source": [
    "key_loop_size = dict()\n",
    "# for loop_size in range(1000000):\n",
    "# while 13768789 not in key_loop_size:\n",
    "value = 1\n",
    "subject_number = 7\n",
    "for loop_size in range(1,10000000000):\n",
    "    value *= subject_number\n",
    "    value = value %20201227\n",
    "    key_loop_size[value] = loop_size\n",
    "    if public_key1 in key_loop_size and public_key2 in key_loop_size:\n",
    "        print(\"Found it\")\n",
    "        break\n",
    "\n",
    "#     key = transform(11, 7)\n",
    "#     key_loop_size[key] = loop_size"
   ]
  },
  {
   "cell_type": "code",
   "execution_count": 27,
   "metadata": {},
   "outputs": [
    {
     "data": {
      "text/plain": [
       "11710225"
      ]
     },
     "execution_count": 27,
     "metadata": {},
     "output_type": "execute_result"
    }
   ],
   "source": [
    "key_loop_size[public_key1]\n"
   ]
  },
  {
   "cell_type": "code",
   "execution_count": 28,
   "metadata": {},
   "outputs": [
    {
     "data": {
      "text/plain": [
       "8516638"
      ]
     },
     "execution_count": 28,
     "metadata": {},
     "output_type": "execute_result"
    }
   ],
   "source": [
    "key_loop_size[public_key2]"
   ]
  },
  {
   "cell_type": "code",
   "execution_count": 29,
   "metadata": {},
   "outputs": [
    {
     "data": {
      "text/plain": [
       "18862163"
      ]
     },
     "execution_count": 29,
     "metadata": {},
     "output_type": "execute_result"
    }
   ],
   "source": [
    "transform(key_loop_size[public_key2], public_key1)"
   ]
  },
  {
   "cell_type": "code",
   "execution_count": 30,
   "metadata": {},
   "outputs": [
    {
     "data": {
      "text/plain": [
       "18862163"
      ]
     },
     "execution_count": 30,
     "metadata": {},
     "output_type": "execute_result"
    }
   ],
   "source": [
    "transform(key_loop_size[public_key1], public_key2)"
   ]
  },
  {
   "cell_type": "code",
   "execution_count": null,
   "metadata": {},
   "outputs": [],
   "source": []
  }
 ],
 "metadata": {
  "kernelspec": {
   "display_name": "py39",
   "language": "python",
   "name": "py39"
  },
  "language_info": {
   "codemirror_mode": {
    "name": "ipython",
    "version": 3
   },
   "file_extension": ".py",
   "mimetype": "text/x-python",
   "name": "python",
   "nbconvert_exporter": "python",
   "pygments_lexer": "ipython3",
   "version": "3.9.1"
  }
 },
 "nbformat": 4,
 "nbformat_minor": 2
}
