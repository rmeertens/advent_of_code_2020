{
 "cells": [
  {
   "cell_type": "code",
   "execution_count": 1,
   "metadata": {},
   "outputs": [],
   "source": [
    "inputs = \"\"\"light red bags contain 1 bright white bag, 2 muted yellow bags.\n",
    "dark orange bags contain 3 bright white bags, 4 muted yellow bags.\n",
    "bright white bags contain 1 shiny gold bag.\n",
    "muted yellow bags contain 2 shiny gold bags, 9 faded blue bags.\n",
    "shiny gold bags contain 1 dark olive bag, 2 vibrant plum bags.\n",
    "dark olive bags contain 3 faded blue bags, 4 dotted black bags.\n",
    "vibrant plum bags contain 5 faded blue bags, 6 dotted black bags.\n",
    "faded blue bags contain no other bags.\n",
    "dotted black bags contain no other bags.\"\"\"\n",
    "\n",
    "from collections import defaultdict\n",
    "\n",
    "\n",
    "inputs = [x[:-1] for x in inputs.split(\"\\n\")]\n",
    "\n",
    "\n",
    "inputs = [x[:-2] for x in open('inputs/day07.txt')] # remove the last dot\n",
    "inputs = [x.replace(\"bags\", '').replace('bag', '').split(\"contain\") for x in inputs] # remove those pesky bags\n",
    "\n",
    "contain_dict = dict()\n",
    "contained_by = defaultdict(list)\n",
    "for outer_bag, inner_bags in inputs:\n",
    "    outer_bag = outer_bag.strip()\n",
    "    inner_bags = [x.strip() for x in inner_bags.split(',')]\n",
    "\n",
    "    if 'no other' in inner_bags:\n",
    "        contain_dict[outer_bag] = []\n",
    "    else:\n",
    "        contain_dict[outer_bag] = inner_bags\n",
    "        \n",
    "        for bag in inner_bags:\n",
    "            contained_by[bag[2:]].append(outer_bag)\n"
   ]
  },
  {
   "cell_type": "code",
   "execution_count": 2,
   "metadata": {},
   "outputs": [
    {
     "name": "stdout",
     "output_type": "stream",
     "text": [
      "part 1: 287\n",
      "Part 1 better: 287\n",
      "part 2: 48160\n"
     ]
    }
   ],
   "source": [
    "# Build the shiny_gold containing dictionary, to see if the bag contains the shiny gold bags\n",
    "contains_shiny_gold = {key: False for key in contain_dict.keys()}\n",
    "for i in range(100): # Not sure \n",
    "    for outer_bag in contain_dict:\n",
    "        inner_bag_names = [bag[2:] for bag in contain_dict[outer_bag]]\n",
    "        if 'shiny gold' in inner_bag_names:\n",
    "            contains_shiny_gold[outer_bag] = True\n",
    "        for ibag in inner_bag_names:\n",
    "            if contains_shiny_gold[ibag]: \n",
    "                contains_shiny_gold[outer_bag] = True\n",
    "\n",
    "total = 0\n",
    "for key in contains_shiny_gold:\n",
    "    total += contains_shiny_gold[key] # Abuse that true evaluates to 1. \n",
    "print('part 1:', total)\n"
   ]
  },
  {
   "cell_type": "code",
   "execution_count": null,
   "metadata": {},
   "outputs": [],
   "source": [
    "# Now an actually better part 1 with depth-first-search\n",
    "to_expand = list(contained_by['shiny gold']) # make sure to copy this and not pop from the reference...\n",
    "expanded = set()\n",
    "while to_expand: \n",
    "    first = to_expand.pop()\n",
    "    if first not in expanded:\n",
    "        expanded.add(first)\n",
    "        to_expand.extend(contained_by[first])\n",
    "print('Part 1 better:', len(expanded))"
   ]
  },
  {
   "cell_type": "code",
   "execution_count": null,
   "metadata": {},
   "outputs": [],
   "source": [
    "\n",
    "def num_needed(bag):\n",
    "    total = 1 # this bag\n",
    "    for required in contain_dict[bag]:\n",
    "        number, colour = int(required[0]), required[2:]\n",
    "        total += number * num_needed(colour)\n",
    "    return total\n",
    "    \n",
    "print('part 2:', num_needed('shiny gold')-1)"
   ]
  }
 ],
 "metadata": {
  "kernelspec": {
   "display_name": "Python 3",
   "language": "python",
   "name": "python3"
  },
  "language_info": {
   "codemirror_mode": {
    "name": "ipython",
    "version": 3
   },
   "file_extension": ".py",
   "mimetype": "text/x-python",
   "name": "python",
   "nbconvert_exporter": "python",
   "pygments_lexer": "ipython3",
   "version": "3.7.2"
  }
 },
 "nbformat": 4,
 "nbformat_minor": 4
}
