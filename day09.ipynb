{
 "cells": [
  {
   "cell_type": "code",
   "execution_count": 1,
   "metadata": {},
   "outputs": [
    {
     "name": "stderr",
     "output_type": "stream",
     "text": [
      "/Users/rmeertens/anaconda3/lib/python3.7/site-packages/tensorflow/python/framework/dtypes.py:526: FutureWarning: Passing (type, 1) or '1type' as a synonym of type is deprecated; in a future version of numpy, it will be understood as (type, (1,)) / '(1,)type'.\n",
      "  _np_qint8 = np.dtype([(\"qint8\", np.int8, 1)])\n",
      "/Users/rmeertens/anaconda3/lib/python3.7/site-packages/tensorflow/python/framework/dtypes.py:527: FutureWarning: Passing (type, 1) or '1type' as a synonym of type is deprecated; in a future version of numpy, it will be understood as (type, (1,)) / '(1,)type'.\n",
      "  _np_quint8 = np.dtype([(\"quint8\", np.uint8, 1)])\n",
      "/Users/rmeertens/anaconda3/lib/python3.7/site-packages/tensorflow/python/framework/dtypes.py:528: FutureWarning: Passing (type, 1) or '1type' as a synonym of type is deprecated; in a future version of numpy, it will be understood as (type, (1,)) / '(1,)type'.\n",
      "  _np_qint16 = np.dtype([(\"qint16\", np.int16, 1)])\n",
      "/Users/rmeertens/anaconda3/lib/python3.7/site-packages/tensorflow/python/framework/dtypes.py:529: FutureWarning: Passing (type, 1) or '1type' as a synonym of type is deprecated; in a future version of numpy, it will be understood as (type, (1,)) / '(1,)type'.\n",
      "  _np_quint16 = np.dtype([(\"quint16\", np.uint16, 1)])\n",
      "/Users/rmeertens/anaconda3/lib/python3.7/site-packages/tensorflow/python/framework/dtypes.py:530: FutureWarning: Passing (type, 1) or '1type' as a synonym of type is deprecated; in a future version of numpy, it will be understood as (type, (1,)) / '(1,)type'.\n",
      "  _np_qint32 = np.dtype([(\"qint32\", np.int32, 1)])\n",
      "/Users/rmeertens/anaconda3/lib/python3.7/site-packages/tensorflow/python/framework/dtypes.py:535: FutureWarning: Passing (type, 1) or '1type' as a synonym of type is deprecated; in a future version of numpy, it will be understood as (type, (1,)) / '(1,)type'.\n",
      "  np_resource = np.dtype([(\"resource\", np.ubyte, 1)])\n"
     ]
    }
   ],
   "source": [
    "import tensorflow as tf\n",
    "\n",
    "inputs = \"\"\"35\n",
    "20\n",
    "15\n",
    "25\n",
    "47\n",
    "40\n",
    "62\n",
    "55\n",
    "65\n",
    "95\n",
    "102\n",
    "117\n",
    "150\n",
    "182\n",
    "127\n",
    "219\n",
    "299\n",
    "277\n",
    "309\n",
    "576\"\"\"\n",
    "inputs = [int(x) for x in inputs.split(\"\\n\")]\n",
    "inputs = [int(x) for x in open('inputs/day09.txt')]\n",
    "# print(inputs)"
   ]
  },
  {
   "cell_type": "code",
   "execution_count": 2,
   "metadata": {},
   "outputs": [
    {
     "name": "stdout",
     "output_type": "stream",
     "text": [
      "Part 1: 36845998\n",
      "Part 2: 4830226  at width 17 minmax 1443202 3387024\n"
     ]
    }
   ],
   "source": [
    "import itertools\n",
    "\n",
    "def is_valid_xmas(prec, cur):\n",
    "    for a,b in itertools.combinations(prec, 2):\n",
    "        if a+b == cur:\n",
    "            return True\n",
    "    return False\n",
    "\n",
    "preamble = 25\n",
    "answer_part_1 = 0\n",
    "for i in range(preamble, len(inputs)):\n",
    "    preceding = inputs[i-preamble:i]\n",
    "    current_num = inputs[i]\n",
    "    if not is_valid_xmas(preceding, current_num):\n",
    "        print(\"Part 1:\", current_num)\n",
    "        answer_part_1 = current_num\n",
    "\n",
    "for preamble in range(2,100):\n",
    "    for i in range(preamble, len(inputs)):\n",
    "        preceding = inputs[i-preamble:i]\n",
    "        if sum(preceding) == answer_part_1:\n",
    "            print(\"Part 2:\", min(preceding) + max(preceding), ' at width', preamble, 'minmax', min(preceding), max(preceding))"
   ]
  },
  {
   "cell_type": "code",
   "execution_count": null,
   "metadata": {},
   "outputs": [],
   "source": []
  },
  {
   "cell_type": "code",
   "execution_count": 11,
   "metadata": {},
   "outputs": [
    {
     "name": "stdout",
     "output_type": "stream",
     "text": [
      "[[  0 418   0]]\n",
      "Answer part 2: 4830226.0\n"
     ]
    }
   ],
   "source": [
    "import numpy as np\n",
    "import tensorflow as tf\n",
    "\n",
    "for pool_size in range(2,100):\n",
    "    # Get the location of the place where the sum is equal to the answer in part 1\n",
    "    input_tf_1d = np.array([[[x] for x in inputs]], dtype=np.float64)\n",
    "    filters = np.ones((pool_size,1,1), dtype=np.float64)\n",
    "    result = tf.nn.conv1d(input_tf_1d, filters, 1,  'VALID')\n",
    "\n",
    "    temp = tf.where(tf.math.equal(result, answer_part_1))\n",
    "    sess = tf.Session()\n",
    "    with sess.as_default():\n",
    "        res = temp.eval()\n",
    "\n",
    "        if len(res)==0:\n",
    "            continue\n",
    "        print(res)\n",
    "        sum_location = res[0][1]\n",
    "\n",
    "    input_tf_2d = np.array([[[[x] for x in inputs]]], dtype=np.float64)\n",
    "    max_values = tf.nn.max_pool(input_tf_2d, [1,1,pool_size,1], [1,1,1,1], 'VALID')\n",
    "    min_values = tf.nn.max_pool(0-input_tf_2d, [1,1,pool_size,1], [1,1,1,1], 'VALID')\n",
    "\n",
    "\n",
    "    sess = tf.Session()\n",
    "    with sess.as_default():\n",
    "        maxval = max_values.eval()[0][0][sum_location][0]\n",
    "        minval = min_values.eval()[0][0][sum_location][0]\n",
    "        print('Answer part 2:', maxval + (0-minval))\n",
    "        break\n",
    "    "
   ]
  },
  {
   "cell_type": "code",
   "execution_count": null,
   "metadata": {},
   "outputs": [],
   "source": []
  },
  {
   "cell_type": "code",
   "execution_count": null,
   "metadata": {},
   "outputs": [],
   "source": []
  },
  {
   "cell_type": "code",
   "execution_count": null,
   "metadata": {},
   "outputs": [],
   "source": []
  },
  {
   "cell_type": "code",
   "execution_count": null,
   "metadata": {},
   "outputs": [],
   "source": []
  },
  {
   "cell_type": "code",
   "execution_count": 4,
   "metadata": {},
   "outputs": [
    {
     "data": {
      "text/plain": [
       "<tf.Tensor 'conv1d/Squeeze:0' shape=(1, 984, 1) dtype=float64>"
      ]
     },
     "execution_count": 4,
     "metadata": {},
     "output_type": "execute_result"
    }
   ],
   "source": [
    "result"
   ]
  },
  {
   "cell_type": "code",
   "execution_count": null,
   "metadata": {},
   "outputs": [],
   "source": []
  }
 ],
 "metadata": {
  "kernelspec": {
   "display_name": "Python 3",
   "language": "python",
   "name": "python3"
  },
  "language_info": {
   "codemirror_mode": {
    "name": "ipython",
    "version": 3
   },
   "file_extension": ".py",
   "mimetype": "text/x-python",
   "name": "python",
   "nbconvert_exporter": "python",
   "pygments_lexer": "ipython3",
   "version": "3.7.2"
  }
 },
 "nbformat": 4,
 "nbformat_minor": 4
}
