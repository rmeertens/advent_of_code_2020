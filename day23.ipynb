{
 "cells": [
  {
   "cell_type": "code",
   "execution_count": 18,
   "metadata": {},
   "outputs": [
    {
     "name": "stdout",
     "output_type": "stream",
     "text": [
      "cups [3, 8, 9, 1, 2, 5, 4, 6, 7] current 3\n",
      "Pick up [8, 9, 1] remaining [3, 2, 5, 4, 6, 7]\n",
      "Destination 2\n",
      "cups [3, 2, 8, 9, 1, 5, 4, 6, 7] current 2\n",
      "Pick up [8, 9, 1] remaining [3, 2, 5, 4, 6, 7]\n",
      "Destination 7\n",
      "cups [3, 2, 5, 4, 6, 7, 8, 9, 1] current 5\n",
      "Pick up [4, 6, 7] remaining [3, 2, 5, 8, 9, 1]\n",
      "Destination 3\n",
      "cups [3, 4, 6, 7, 2, 5, 8, 9, 1] current 8\n",
      "Pick up [9, 1, 3] remaining [4, 6, 7, 2, 5, 8]\n",
      "Destination 7\n",
      "cups [4, 6, 7, 9, 1, 3, 2, 5, 8] current 4\n",
      "Pick up [6, 7, 9] remaining [4, 1, 3, 2, 5, 8]\n",
      "Destination 3\n",
      "cups [4, 1, 3, 6, 7, 9, 2, 5, 8] current 1\n",
      "Pick up [3, 6, 7] remaining [4, 1, 9, 2, 5, 8]\n",
      "Destination 9\n",
      "cups [4, 1, 9, 3, 6, 7, 2, 5, 8] current 9\n",
      "Pick up [3, 6, 7] remaining [4, 1, 9, 2, 5, 8]\n",
      "Destination 8\n",
      "cups [4, 1, 9, 2, 5, 8, 3, 6, 7] current 2\n",
      "Pick up [5, 8, 3] remaining [4, 1, 9, 2, 6, 7]\n",
      "Destination 1\n",
      "cups [4, 1, 5, 8, 3, 9, 2, 6, 7] current 6\n",
      "Pick up [7, 4, 1] remaining [5, 8, 3, 9, 2, 6]\n",
      "Destination 5\n",
      "cups [5, 7, 4, 1, 8, 3, 9, 2, 6] current 5\n",
      "Pick up [7, 4, 1] remaining [5, 8, 3, 9, 2, 6]\n",
      "Destination 3\n",
      "cups [5, 8, 3, 7, 4, 1, 9, 2, 6] current 8\n",
      "Pick up [3, 7, 4] remaining [5, 8, 1, 9, 2, 6]\n",
      "Destination 6\n",
      "cups [5, 8, 1, 9, 2, 6, 3, 7, 4] current 1\n",
      "Pick up [9, 2, 6] remaining [5, 8, 1, 3, 7, 4]\n",
      "Destination 8\n",
      "cups [5, 8, 9, 2, 6, 1, 3, 7, 4] current 3\n",
      "Pick up [7, 4, 5] remaining [8, 9, 2, 6, 1, 3]\n",
      "Destination 2\n",
      "cups [8, 9, 2, 7, 4, 5, 6, 1, 3] current 8\n",
      "Pick up [9, 2, 7] remaining [8, 4, 5, 6, 1, 3]\n",
      "Destination 6\n",
      "cups [8, 4, 5, 6, 9, 2, 7, 1, 3] current 4\n",
      "Pick up [5, 6, 9] remaining [8, 4, 2, 7, 1, 3]\n",
      "Destination 3\n",
      "cups [8, 4, 2, 7, 1, 3, 5, 6, 9] current 2\n",
      "Pick up [7, 1, 3] remaining [8, 4, 2, 5, 6, 9]\n",
      "Destination 9\n",
      "cups [8, 4, 2, 5, 6, 9, 7, 1, 3] current 5\n",
      "Pick up [6, 9, 7] remaining [8, 4, 2, 5, 1, 3]\n",
      "Destination 4\n",
      "cups [8, 4, 6, 9, 7, 2, 5, 1, 3] current 1\n",
      "Pick up [3, 8, 4] remaining [6, 9, 7, 2, 5, 1]\n",
      "Destination 9\n",
      "cups [6, 9, 3, 8, 4, 7, 2, 5, 1] current 6\n",
      "Pick up [9, 3, 8] remaining [6, 4, 7, 2, 5, 1]\n",
      "Destination 5\n",
      "cups [6, 4, 7, 2, 5, 9, 3, 8, 1] current 4\n",
      "Pick up [7, 2, 5] remaining [6, 4, 9, 3, 8, 1]\n",
      "Destination 3\n",
      "cups [6, 4, 9, 3, 7, 2, 5, 8, 1] current 9\n",
      "Pick up [3, 7, 2] remaining [6, 4, 9, 5, 8, 1]\n",
      "Destination 8\n",
      "cups [6, 4, 9, 5, 8, 3, 7, 2, 1] current 5\n",
      "Pick up [8, 3, 7] remaining [6, 4, 9, 5, 2, 1]\n",
      "Destination 4\n",
      "cups [6, 4, 8, 3, 7, 9, 5, 2, 1] current 2\n",
      "Pick up [1, 6, 4] remaining [8, 3, 7, 9, 5, 2]\n",
      "Destination 9\n",
      "cups [8, 3, 7, 9, 1, 6, 4, 5, 2] current 8\n",
      "Pick up [3, 7, 9] remaining [8, 1, 6, 4, 5, 2]\n",
      "Destination 6\n",
      "cups [8, 1, 6, 3, 7, 9, 4, 5, 2] current 1\n",
      "Pick up [6, 3, 7] remaining [8, 1, 9, 4, 5, 2]\n",
      "Destination 9\n",
      "cups [8, 1, 9, 6, 3, 7, 4, 5, 2] current 9\n",
      "Pick up [6, 3, 7] remaining [8, 1, 9, 4, 5, 2]\n",
      "Destination 8\n",
      "cups [8, 6, 3, 7, 1, 9, 4, 5, 2] current 4\n",
      "Pick up [5, 2, 8] remaining [6, 3, 7, 1, 9, 4]\n",
      "Destination 3\n",
      "cups [6, 3, 5, 2, 8, 7, 1, 9, 4] current 6\n",
      "Pick up [3, 5, 2] remaining [6, 8, 7, 1, 9, 4]\n",
      "Destination 4\n",
      "cups [6, 8, 7, 1, 9, 4, 3, 5, 2] current 8\n",
      "Pick up [7, 1, 9] remaining [6, 8, 4, 3, 5, 2]\n",
      "Destination 6\n",
      "cups [6, 7, 1, 9, 8, 4, 3, 5, 2] current 4\n",
      "Pick up [3, 5, 2] remaining [6, 7, 1, 9, 8, 4]\n",
      "Destination 1\n",
      "cups [6, 7, 1, 3, 5, 2, 9, 8, 4] current 6\n",
      "Pick up [7, 1, 3] remaining [6, 5, 2, 9, 8, 4]\n",
      "Destination 5\n",
      "cups [6, 5, 7, 1, 3, 2, 9, 8, 4] current 5\n",
      "Pick up [7, 1, 3] remaining [6, 5, 2, 9, 8, 4]\n",
      "Destination 4\n",
      "cups [6, 5, 2, 9, 8, 4, 7, 1, 3] current 2\n",
      "Pick up [9, 8, 4] remaining [6, 5, 2, 7, 1, 3]\n",
      "Destination 1\n",
      "cups [6, 5, 2, 7, 1, 9, 8, 4, 3] current 7\n",
      "Pick up [1, 9, 8] remaining [6, 5, 2, 7, 4, 3]\n",
      "Destination 6\n",
      "cups [6, 1, 9, 8, 5, 2, 7, 4, 3] current 4\n",
      "Pick up [3, 6, 1] remaining [9, 8, 5, 2, 7, 4]\n",
      "Destination 2\n",
      "cups [9, 8, 5, 2, 3, 6, 1, 7, 4] current 9\n",
      "Pick up [8, 5, 2] remaining [9, 3, 6, 1, 7, 4]\n",
      "Destination 7\n",
      "cups [9, 3, 6, 1, 7, 8, 5, 2, 4] current 3\n",
      "Pick up [6, 1, 7] remaining [9, 3, 8, 5, 2, 4]\n",
      "Destination 2\n",
      "cups [9, 3, 8, 5, 2, 6, 1, 7, 4] current 8\n",
      "Pick up [5, 2, 6] remaining [9, 3, 8, 1, 7, 4]\n",
      "Destination 7\n",
      "cups [9, 3, 8, 1, 7, 5, 2, 6, 4] current 1\n",
      "Pick up [7, 5, 2] remaining [9, 3, 8, 1, 6, 4]\n",
      "Destination 9\n",
      "cups [9, 7, 5, 2, 3, 8, 1, 6, 4] current 6\n",
      "Pick up [4, 9, 7] remaining [5, 2, 3, 8, 1, 6]\n",
      "Destination 5\n",
      "cups [5, 4, 9, 7, 2, 3, 8, 1, 6] current 5\n",
      "Pick up [4, 9, 7] remaining [5, 2, 3, 8, 1, 6]\n",
      "Destination 3\n",
      "cups [5, 2, 3, 4, 9, 7, 8, 1, 6] current 2\n",
      "Pick up [3, 4, 9] remaining [5, 2, 7, 8, 1, 6]\n",
      "Destination 1\n",
      "cups [5, 2, 7, 8, 1, 3, 4, 9, 6] current 7\n",
      "Pick up [8, 1, 3] remaining [5, 2, 7, 4, 9, 6]\n",
      "Destination 6\n",
      "cups [5, 2, 7, 4, 9, 6, 8, 1, 3] current 4\n",
      "Pick up [9, 6, 8] remaining [5, 2, 7, 4, 1, 3]\n",
      "Destination 3\n",
      "cups [5, 2, 7, 4, 1, 3, 9, 6, 8] current 1\n",
      "Pick up [3, 9, 6] remaining [5, 2, 7, 4, 1, 8]\n",
      "Destination 8\n",
      "cups [5, 2, 7, 4, 1, 8, 3, 9, 6] current 8\n",
      "Pick up [3, 9, 6] remaining [5, 2, 7, 4, 1, 8]\n",
      "Destination 7\n",
      "cups [5, 2, 7, 3, 9, 6, 4, 1, 8] current 5\n",
      "Pick up [2, 7, 3] remaining [5, 9, 6, 4, 1, 8]\n",
      "Destination 4\n",
      "cups [5, 9, 6, 4, 2, 7, 3, 1, 8] current 9\n",
      "Pick up [6, 4, 2] remaining [5, 9, 7, 3, 1, 8]\n",
      "Destination 8\n",
      "cups [5, 9, 7, 3, 1, 8, 6, 4, 2] current 7\n",
      "Pick up [3, 1, 8] remaining [5, 9, 7, 6, 4, 2]\n",
      "Destination 6\n",
      "cups [5, 9, 7, 6, 3, 1, 8, 4, 2] current 6\n",
      "Pick up [3, 1, 8] remaining [5, 9, 7, 6, 4, 2]\n",
      "Destination 5\n",
      "cups [5, 3, 1, 8, 9, 7, 6, 4, 2] current 4\n",
      "Pick up [2, 5, 3] remaining [1, 8, 9, 7, 6, 4]\n",
      "Destination 1\n",
      "cups [1, 2, 5, 3, 8, 9, 7, 6, 4] current 1\n",
      "Pick up [2, 5, 3] remaining [1, 8, 9, 7, 6, 4]\n",
      "Destination 9\n",
      "cups [1, 8, 9, 2, 5, 3, 7, 6, 4] current 8\n",
      "Pick up [9, 2, 5] remaining [1, 8, 3, 7, 6, 4]\n",
      "Destination 7\n",
      "cups [1, 8, 3, 7, 9, 2, 5, 6, 4] current 3\n",
      "Pick up [7, 9, 2] remaining [1, 8, 3, 5, 6, 4]\n",
      "Destination 1\n",
      "cups [1, 7, 9, 2, 8, 3, 5, 6, 4] current 5\n",
      "Pick up [6, 4, 1] remaining [7, 9, 2, 8, 3, 5]\n",
      "Destination 3\n",
      "cups [7, 9, 2, 8, 3, 6, 4, 1, 5] current 7\n",
      "Pick up [9, 2, 8] remaining [7, 3, 6, 4, 1, 5]\n",
      "Destination 6\n",
      "cups [7, 3, 6, 9, 2, 8, 4, 1, 5] current 3\n",
      "Pick up [6, 9, 2] remaining [7, 3, 8, 4, 1, 5]\n",
      "Destination 1\n",
      "cups [7, 3, 8, 4, 1, 6, 9, 2, 5] current 8\n",
      "Pick up [4, 1, 6] remaining [7, 3, 8, 9, 2, 5]\n",
      "Destination 7\n",
      "cups [7, 4, 1, 6, 3, 8, 9, 2, 5] current 9\n",
      "Pick up [2, 5, 7] remaining [4, 1, 6, 3, 8, 9]\n",
      "Destination 8\n",
      "cups [4, 1, 6, 3, 8, 2, 5, 7, 9] current 4\n",
      "Pick up [1, 6, 3] remaining [4, 8, 2, 5, 7, 9]\n",
      "Destination 2\n",
      "cups [4, 8, 2, 1, 6, 3, 5, 7, 9] current 8\n",
      "Pick up [2, 1, 6] remaining [4, 8, 3, 5, 7, 9]\n",
      "Destination 7\n",
      "cups [4, 8, 3, 5, 7, 2, 1, 6, 9] current 3\n",
      "Pick up [5, 7, 2] remaining [4, 8, 3, 1, 6, 9]\n",
      "Destination 1\n",
      "cups [4, 8, 3, 1, 5, 7, 2, 6, 9] current 1\n",
      "Pick up [5, 7, 2] remaining [4, 8, 3, 1, 6, 9]\n",
      "Destination 9\n",
      "cups [4, 8, 3, 1, 6, 9, 5, 7, 2] current 6\n",
      "Pick up [9, 5, 7] remaining [4, 8, 3, 1, 6, 2]\n",
      "Destination 4\n",
      "cups [4, 9, 5, 7, 8, 3, 1, 6, 2] current 2\n",
      "Pick up [4, 9, 5] remaining [7, 8, 3, 1, 6, 2]\n",
      "Destination 1\n",
      "cups [7, 8, 3, 1, 4, 9, 5, 6, 2] current 7\n",
      "Pick up [8, 3, 1] remaining [7, 4, 9, 5, 6, 2]\n",
      "Destination 6\n",
      "cups [7, 4, 9, 5, 6, 8, 3, 1, 2] current 4\n",
      "Pick up [9, 5, 6] remaining [7, 4, 8, 3, 1, 2]\n",
      "Destination 3\n",
      "cups [7, 4, 8, 3, 9, 5, 6, 1, 2] current 8\n",
      "Pick up [3, 9, 5] remaining [7, 4, 8, 6, 1, 2]\n",
      "Destination 7\n",
      "cups [7, 3, 9, 5, 4, 8, 6, 1, 2] current 6\n",
      "Pick up [1, 2, 7] remaining [3, 9, 5, 4, 8, 6]\n",
      "Destination 5\n",
      "cups [3, 9, 5, 1, 2, 7, 4, 8, 6] current 3\n",
      "Pick up [9, 5, 1] remaining [3, 2, 7, 4, 8, 6]\n",
      "Destination 2\n",
      "cups [3, 2, 9, 5, 1, 7, 4, 8, 6] current 2\n",
      "Pick up [9, 5, 1] remaining [3, 2, 7, 4, 8, 6]\n",
      "Destination 8\n",
      "cups [3, 2, 7, 4, 8, 9, 5, 1, 6] current 7\n",
      "Pick up [4, 8, 9] remaining [3, 2, 7, 5, 1, 6]\n",
      "Destination 6\n",
      "cups [3, 2, 7, 5, 1, 6, 4, 8, 9] current 5\n",
      "Pick up [1, 6, 4] remaining [3, 2, 7, 5, 8, 9]\n",
      "Destination 3\n",
      "cups [3, 1, 6, 4, 2, 7, 5, 8, 9] current 8\n",
      "Pick up [9, 3, 1] remaining [6, 4, 2, 7, 5, 8]\n",
      "Destination 7\n",
      "cups [6, 4, 2, 7, 9, 3, 1, 5, 8] current 6\n",
      "Pick up [4, 2, 7] remaining [6, 9, 3, 1, 5, 8]\n",
      "Destination 5\n",
      "cups [6, 9, 3, 1, 5, 4, 2, 7, 8] current 9\n",
      "Pick up [3, 1, 5] remaining [6, 9, 4, 2, 7, 8]\n",
      "Destination 8\n",
      "cups [6, 9, 4, 2, 7, 8, 3, 1, 5] current 4\n",
      "Pick up [2, 7, 8] remaining [6, 9, 4, 3, 1, 5]\n",
      "Destination 3\n",
      "cups [6, 9, 4, 3, 2, 7, 8, 1, 5] current 3\n",
      "Pick up [2, 7, 8] remaining [6, 9, 4, 3, 1, 5]\n",
      "Destination 1\n",
      "cups [6, 9, 4, 3, 1, 2, 7, 8, 5] current 1\n",
      "Pick up [2, 7, 8] remaining [6, 9, 4, 3, 1, 5]\n",
      "Destination 9\n",
      "cups [6, 9, 2, 7, 8, 4, 3, 1, 5] current 5\n",
      "Pick up [6, 9, 2] remaining [7, 8, 4, 3, 1, 5]\n",
      "Destination 4\n",
      "cups [7, 8, 4, 6, 9, 2, 3, 1, 5] current 7\n",
      "Pick up [8, 4, 6] remaining [7, 9, 2, 3, 1, 5]\n",
      "Destination 5\n",
      "cups [7, 9, 2, 3, 1, 5, 8, 4, 6] current 9\n",
      "Pick up [2, 3, 1] remaining [7, 9, 5, 8, 4, 6]\n",
      "Destination 8\n",
      "cups [7, 9, 5, 8, 2, 3, 1, 4, 6] current 5\n",
      "Pick up [8, 2, 3] remaining [7, 9, 5, 1, 4, 6]\n",
      "Destination 4\n",
      "cups [7, 9, 5, 1, 4, 8, 2, 3, 6] current 1\n",
      "Pick up [4, 8, 2] remaining [7, 9, 5, 1, 3, 6]\n",
      "Destination 9\n",
      "cups [7, 9, 4, 8, 2, 5, 1, 3, 6] current 3\n",
      "Pick up [6, 7, 9] remaining [4, 8, 2, 5, 1, 3]\n",
      "Destination 2\n",
      "cups [4, 8, 2, 6, 7, 9, 5, 1, 3] current 4\n",
      "Pick up [8, 2, 6] remaining [4, 7, 9, 5, 1, 3]\n",
      "Destination 3\n",
      "cups [4, 7, 9, 5, 1, 3, 8, 2, 6] current 7\n",
      "Pick up [9, 5, 1] remaining [4, 7, 3, 8, 2, 6]\n",
      "Destination 6\n",
      "cups [4, 7, 3, 8, 2, 6, 9, 5, 1] current 3\n",
      "Pick up [8, 2, 6] remaining [4, 7, 3, 9, 5, 1]\n",
      "Destination 1\n",
      "cups [4, 7, 3, 9, 5, 1, 8, 2, 6] current 9\n",
      "Pick up [5, 1, 8] remaining [4, 7, 3, 9, 2, 6]\n",
      "Destination 7\n",
      "cups [4, 7, 5, 1, 8, 3, 9, 2, 6] current 2\n",
      "Pick up [6, 4, 7] remaining [5, 1, 8, 3, 9, 2]\n",
      "Destination 1\n",
      "cups [5, 1, 6, 4, 7, 8, 3, 9, 2] current 5\n",
      "Pick up [1, 6, 4] remaining [5, 7, 8, 3, 9, 2]\n",
      "Destination 3\n",
      "cups [5, 7, 8, 3, 1, 6, 4, 9, 2] current 7\n",
      "Pick up [8, 3, 1] remaining [5, 7, 6, 4, 9, 2]\n",
      "Destination 6\n",
      "cups [5, 7, 6, 8, 3, 1, 4, 9, 2] current 6\n",
      "Pick up [8, 3, 1] remaining [5, 7, 6, 4, 9, 2]\n",
      "Destination 5\n",
      "cups [5, 8, 3, 1, 7, 6, 4, 9, 2] current 4\n",
      "Pick up [9, 2, 5] remaining [8, 3, 1, 7, 6, 4]\n",
      "Destination 3\n",
      "cups [8, 3, 9, 2, 5, 1, 7, 6, 4] current 8\n",
      "Pick up [3, 9, 2] remaining [8, 5, 1, 7, 6, 4]\n",
      "Destination 7\n",
      "cups [8, 5, 1, 7, 3, 9, 2, 6, 4] current 5\n",
      "Pick up [1, 7, 3] remaining [8, 5, 9, 2, 6, 4]\n",
      "Destination 4\n",
      "cups [8, 5, 9, 2, 6, 4, 1, 7, 3] current 9\n",
      "Pick up [2, 6, 4] remaining [8, 5, 9, 1, 7, 3]\n",
      "Destination 8\n",
      "cups [8, 2, 6, 4, 5, 9, 1, 7, 3] current 1\n",
      "Pick up [7, 3, 8] remaining [2, 6, 4, 5, 9, 1]\n",
      "Destination 9\n",
      "cups [2, 6, 4, 5, 9, 7, 3, 8, 1] current 2\n",
      "Pick up [6, 4, 5] remaining [2, 9, 7, 3, 8, 1]\n",
      "Destination 1\n",
      "cups [2, 9, 7, 3, 8, 1, 6, 4, 5] current 9\n",
      "Pick up [7, 3, 8] remaining [2, 9, 1, 6, 4, 5]\n",
      "Destination 6\n"
     ]
    }
   ],
   "source": [
    "def circular_select(array, start, end):\n",
    "    if end < len(array):\n",
    "        return array[start:end].copy()\n",
    "    else:\n",
    "        return array[start:] + array[0:end%len(array)]\n",
    "\n",
    "cups = [int(x) for x in \"389125467\"]    \n",
    "current_cup = cups[0]\n",
    "for move in range(100):\n",
    "    cup_location = cups.index(current_cup)\n",
    "    removed_cups = circular_select(cups, cup_location+1, cup_location+4)\n",
    "    \n",
    "\n",
    "    remaining = [x for x in cups if x not in removed_cups]\n",
    "    \n",
    "    print(\"cups\", cups, 'current', current_cup)\n",
    "    print(\"Pick up\", removed_cups, 'remaining', remaining)\n",
    "    destination_cup = (current_cup-1) % 10\n",
    "    while destination_cup not in remaining: \n",
    "        destination_cup = (destination_cup-1) % 10\n",
    "    print(\"Destination\", destination_cup)\n",
    "    \n",
    "    cups = remaining[:remaining.index(destination_cup)+1] + removed_cups + remaining[remaining.index(destination_cup)+1:]\n",
    "    current_cup = cups[(cups.index(current_cup)+1)%len(cups)]"
   ]
  },
  {
   "cell_type": "code",
   "execution_count": 19,
   "metadata": {},
   "outputs": [
    {
     "data": {
      "text/plain": [
       "[2, 9, 1, 6, 7, 3, 8, 4, 5]"
      ]
     },
     "execution_count": 19,
     "metadata": {},
     "output_type": "execute_result"
    }
   ],
   "source": [
    "cups"
   ]
  },
  {
   "cell_type": "code",
   "execution_count": 49,
   "metadata": {},
   "outputs": [
    {
     "name": "stderr",
     "output_type": "stream",
     "text": [
      "  0%|          | 1/10000000 [00:00<446:58:21,  6.21it/s]"
     ]
    },
    {
     "name": "stdout",
     "output_type": "stream",
     "text": [
      "[8, 4, 5]\n",
      "[3, 9, 6]\n"
     ]
    },
    {
     "name": "stderr",
     "output_type": "stream",
     "text": [
      "  0%|          | 3/10000000 [00:00<464:34:47,  5.98it/s]"
     ]
    },
    {
     "name": "stdout",
     "output_type": "stream",
     "text": [
      "[8, 4, 5]\n",
      "[9, 6, 10]\n"
     ]
    },
    {
     "name": "stderr",
     "output_type": "stream",
     "text": [
      "  0%|          | 5/10000000 [00:00<438:46:20,  6.33it/s]"
     ]
    },
    {
     "name": "stdout",
     "output_type": "stream",
     "text": [
      "[12, 13, 14]\n",
      "[16, 17, 18]\n"
     ]
    },
    {
     "name": "stderr",
     "output_type": "stream",
     "text": [
      "  0%|          | 7/10000000 [00:01<431:02:02,  6.44it/s]"
     ]
    },
    {
     "name": "stdout",
     "output_type": "stream",
     "text": [
      "[20, 21, 22]\n",
      "[24, 25, 26]\n"
     ]
    },
    {
     "name": "stderr",
     "output_type": "stream",
     "text": [
      "  0%|          | 9/10000000 [00:01<419:12:17,  6.63it/s]"
     ]
    },
    {
     "name": "stdout",
     "output_type": "stream",
     "text": [
      "[28, 29, 30]\n",
      "[32, 33, 34]\n"
     ]
    },
    {
     "name": "stderr",
     "output_type": "stream",
     "text": [
      "  0%|          | 11/10000000 [00:01<423:55:54,  6.55it/s]"
     ]
    },
    {
     "name": "stdout",
     "output_type": "stream",
     "text": [
      "[36, 37, 38]\n",
      "[40, 41, 42]\n"
     ]
    },
    {
     "name": "stderr",
     "output_type": "stream",
     "text": [
      "  0%|          | 13/10000000 [00:02<442:03:51,  6.28it/s]"
     ]
    },
    {
     "name": "stdout",
     "output_type": "stream",
     "text": [
      "[44, 45, 46]\n",
      "[48, 49, 50]\n"
     ]
    },
    {
     "name": "stderr",
     "output_type": "stream",
     "text": [
      "  0%|          | 15/10000000 [00:02<444:49:58,  6.24it/s]"
     ]
    },
    {
     "name": "stdout",
     "output_type": "stream",
     "text": [
      "[52, 53, 54]\n",
      "[56, 57, 58]\n"
     ]
    },
    {
     "name": "stderr",
     "output_type": "stream",
     "text": [
      "  0%|          | 17/10000000 [00:02<437:00:42,  6.36it/s]"
     ]
    },
    {
     "name": "stdout",
     "output_type": "stream",
     "text": [
      "[60, 61, 62]\n",
      "[64, 65, 66]\n"
     ]
    },
    {
     "name": "stderr",
     "output_type": "stream",
     "text": [
      "  0%|          | 19/10000000 [00:02<433:37:29,  6.41it/s]"
     ]
    },
    {
     "name": "stdout",
     "output_type": "stream",
     "text": [
      "[68, 69, 70]\n",
      "[72, 73, 74]\n"
     ]
    },
    {
     "name": "stderr",
     "output_type": "stream",
     "text": [
      "  0%|          | 21/10000000 [00:03<427:13:32,  6.50it/s]"
     ]
    },
    {
     "name": "stdout",
     "output_type": "stream",
     "text": [
      "[76, 77, 78]\n",
      "[80, 81, 82]\n"
     ]
    },
    {
     "name": "stderr",
     "output_type": "stream",
     "text": [
      "  0%|          | 23/10000000 [00:03<426:06:52,  6.52it/s]"
     ]
    },
    {
     "name": "stdout",
     "output_type": "stream",
     "text": [
      "[84, 85, 86]\n",
      "[88, 89, 90]\n"
     ]
    },
    {
     "name": "stderr",
     "output_type": "stream",
     "text": [
      "  0%|          | 25/10000000 [00:03<428:32:14,  6.48it/s]"
     ]
    },
    {
     "name": "stdout",
     "output_type": "stream",
     "text": [
      "[92, 93, 94]\n",
      "[96, 97, 98]\n"
     ]
    },
    {
     "name": "stderr",
     "output_type": "stream",
     "text": [
      "  0%|          | 27/10000000 [00:04<422:17:45,  6.58it/s]"
     ]
    },
    {
     "name": "stdout",
     "output_type": "stream",
     "text": [
      "[100, 101, 102]\n",
      "[104, 105, 106]\n"
     ]
    },
    {
     "name": "stderr",
     "output_type": "stream",
     "text": [
      "  0%|          | 29/10000000 [00:04<424:43:03,  6.54it/s]"
     ]
    },
    {
     "name": "stdout",
     "output_type": "stream",
     "text": [
      "[108, 109, 110]\n",
      "[112, 113, 114]\n"
     ]
    },
    {
     "name": "stderr",
     "output_type": "stream",
     "text": [
      "  0%|          | 31/10000000 [00:04<433:57:06,  6.40it/s]"
     ]
    },
    {
     "name": "stdout",
     "output_type": "stream",
     "text": [
      "[116, 117, 118]\n",
      "[120, 121, 122]\n"
     ]
    },
    {
     "name": "stderr",
     "output_type": "stream",
     "text": [
      "  0%|          | 33/10000000 [00:05<441:43:51,  6.29it/s]"
     ]
    },
    {
     "name": "stdout",
     "output_type": "stream",
     "text": [
      "[124, 125, 126]\n",
      "[128, 129, 130]\n"
     ]
    },
    {
     "name": "stderr",
     "output_type": "stream",
     "text": [
      "  0%|          | 35/10000000 [00:05<432:22:52,  6.42it/s]"
     ]
    },
    {
     "name": "stdout",
     "output_type": "stream",
     "text": [
      "[132, 133, 134]\n",
      "[136, 137, 138]\n"
     ]
    },
    {
     "name": "stderr",
     "output_type": "stream",
     "text": [
      "  0%|          | 37/10000000 [00:05<426:38:45,  6.51it/s]"
     ]
    },
    {
     "name": "stdout",
     "output_type": "stream",
     "text": [
      "[140, 141, 142]\n",
      "[144, 145, 146]\n"
     ]
    },
    {
     "name": "stderr",
     "output_type": "stream",
     "text": [
      "  0%|          | 39/10000000 [00:06<426:58:32,  6.51it/s]"
     ]
    },
    {
     "name": "stdout",
     "output_type": "stream",
     "text": [
      "[148, 149, 150]\n",
      "[152, 153, 154]\n"
     ]
    },
    {
     "name": "stderr",
     "output_type": "stream",
     "text": [
      "  0%|          | 41/10000000 [00:06<432:53:02,  6.42it/s]"
     ]
    },
    {
     "name": "stdout",
     "output_type": "stream",
     "text": [
      "[156, 157, 158]\n",
      "[160, 161, 162]\n"
     ]
    },
    {
     "name": "stderr",
     "output_type": "stream",
     "text": [
      "  0%|          | 43/10000000 [00:06<434:20:47,  6.40it/s]"
     ]
    },
    {
     "name": "stdout",
     "output_type": "stream",
     "text": [
      "[164, 165, 166]\n",
      "[168, 169, 170]\n"
     ]
    },
    {
     "name": "stderr",
     "output_type": "stream",
     "text": [
      "  0%|          | 45/10000000 [00:07<445:10:18,  6.24it/s]"
     ]
    },
    {
     "name": "stdout",
     "output_type": "stream",
     "text": [
      "[172, 173, 174]\n",
      "[176, 177, 178]\n"
     ]
    },
    {
     "name": "stderr",
     "output_type": "stream",
     "text": [
      "  0%|          | 47/10000000 [00:07<442:07:30,  6.28it/s]"
     ]
    },
    {
     "name": "stdout",
     "output_type": "stream",
     "text": [
      "[180, 181, 182]\n",
      "[184, 185, 186]\n"
     ]
    },
    {
     "name": "stderr",
     "output_type": "stream",
     "text": [
      "  0%|          | 49/10000000 [00:07<436:30:46,  6.36it/s]"
     ]
    },
    {
     "name": "stdout",
     "output_type": "stream",
     "text": [
      "[188, 189, 190]\n",
      "[192, 193, 194]\n"
     ]
    },
    {
     "name": "stderr",
     "output_type": "stream",
     "text": [
      "  0%|          | 51/10000000 [00:07<433:45:52,  6.40it/s]"
     ]
    },
    {
     "name": "stdout",
     "output_type": "stream",
     "text": [
      "[196, 197, 198]\n",
      "[200, 201, 202]\n"
     ]
    },
    {
     "name": "stderr",
     "output_type": "stream",
     "text": [
      "  0%|          | 53/10000000 [00:08<444:03:54,  6.26it/s]"
     ]
    },
    {
     "name": "stdout",
     "output_type": "stream",
     "text": [
      "[204, 205, 206]\n",
      "[208, 209, 210]\n"
     ]
    },
    {
     "name": "stderr",
     "output_type": "stream",
     "text": [
      "  0%|          | 55/10000000 [00:08<431:08:07,  6.44it/s]"
     ]
    },
    {
     "name": "stdout",
     "output_type": "stream",
     "text": [
      "[212, 213, 214]\n",
      "[216, 217, 218]\n"
     ]
    },
    {
     "name": "stderr",
     "output_type": "stream",
     "text": [
      "  0%|          | 57/10000000 [00:08<427:45:22,  6.49it/s]"
     ]
    },
    {
     "name": "stdout",
     "output_type": "stream",
     "text": [
      "[220, 221, 222]\n",
      "[224, 225, 226]\n"
     ]
    },
    {
     "name": "stderr",
     "output_type": "stream",
     "text": [
      "  0%|          | 59/10000000 [00:09<423:29:14,  6.56it/s]"
     ]
    },
    {
     "name": "stdout",
     "output_type": "stream",
     "text": [
      "[228, 229, 230]\n",
      "[232, 233, 234]\n"
     ]
    },
    {
     "name": "stderr",
     "output_type": "stream",
     "text": [
      "  0%|          | 61/10000000 [00:09<443:38:16,  6.26it/s]"
     ]
    },
    {
     "name": "stdout",
     "output_type": "stream",
     "text": [
      "[236, 237, 238]\n",
      "[240, 241, 242]\n"
     ]
    },
    {
     "name": "stderr",
     "output_type": "stream",
     "text": [
      "  0%|          | 63/10000000 [00:09<439:58:15,  6.31it/s]"
     ]
    },
    {
     "name": "stdout",
     "output_type": "stream",
     "text": [
      "[244, 245, 246]\n",
      "[248, 249, 250]\n"
     ]
    },
    {
     "name": "stderr",
     "output_type": "stream",
     "text": [
      "  0%|          | 65/10000000 [00:10<439:05:34,  6.33it/s]"
     ]
    },
    {
     "name": "stdout",
     "output_type": "stream",
     "text": [
      "[252, 253, 254]\n",
      "[256, 257, 258]\n"
     ]
    },
    {
     "name": "stderr",
     "output_type": "stream",
     "text": [
      "  0%|          | 67/10000000 [00:10<439:34:37,  6.32it/s]"
     ]
    },
    {
     "name": "stdout",
     "output_type": "stream",
     "text": [
      "[260, 261, 262]\n",
      "[264, 265, 266]\n"
     ]
    },
    {
     "name": "stderr",
     "output_type": "stream",
     "text": [
      "  0%|          | 69/10000000 [00:10<428:01:49,  6.49it/s]"
     ]
    },
    {
     "name": "stdout",
     "output_type": "stream",
     "text": [
      "[268, 269, 270]\n",
      "[272, 273, 274]\n"
     ]
    },
    {
     "name": "stderr",
     "output_type": "stream",
     "text": [
      "  0%|          | 71/10000000 [00:11<427:04:26,  6.50it/s]"
     ]
    },
    {
     "name": "stdout",
     "output_type": "stream",
     "text": [
      "[276, 277, 278]\n",
      "[280, 281, 282]\n"
     ]
    },
    {
     "name": "stderr",
     "output_type": "stream",
     "text": [
      "  0%|          | 73/10000000 [00:11<427:12:53,  6.50it/s]"
     ]
    },
    {
     "name": "stdout",
     "output_type": "stream",
     "text": [
      "[284, 285, 286]\n",
      "[288, 289, 290]\n"
     ]
    },
    {
     "name": "stderr",
     "output_type": "stream",
     "text": [
      "  0%|          | 75/10000000 [00:11<426:54:31,  6.51it/s]"
     ]
    },
    {
     "name": "stdout",
     "output_type": "stream",
     "text": [
      "[292, 293, 294]\n",
      "[296, 297, 298]\n"
     ]
    },
    {
     "name": "stderr",
     "output_type": "stream",
     "text": [
      "  0%|          | 77/10000000 [00:11<424:21:20,  6.55it/s]"
     ]
    },
    {
     "name": "stdout",
     "output_type": "stream",
     "text": [
      "[300, 301, 302]\n",
      "[304, 305, 306]\n"
     ]
    },
    {
     "name": "stderr",
     "output_type": "stream",
     "text": [
      "  0%|          | 79/10000000 [00:12<420:52:33,  6.60it/s]"
     ]
    },
    {
     "name": "stdout",
     "output_type": "stream",
     "text": [
      "[308, 309, 310]\n",
      "[312, 313, 314]\n"
     ]
    },
    {
     "name": "stderr",
     "output_type": "stream",
     "text": [
      "  0%|          | 81/10000000 [00:12<420:49:52,  6.60it/s]"
     ]
    },
    {
     "name": "stdout",
     "output_type": "stream",
     "text": [
      "[316, 317, 318]\n",
      "[320, 321, 322]\n"
     ]
    },
    {
     "name": "stderr",
     "output_type": "stream",
     "text": [
      "  0%|          | 83/10000000 [00:12<423:50:01,  6.55it/s]"
     ]
    },
    {
     "name": "stdout",
     "output_type": "stream",
     "text": [
      "[324, 325, 326]\n",
      "[328, 329, 330]\n"
     ]
    },
    {
     "name": "stderr",
     "output_type": "stream",
     "text": [
      "  0%|          | 85/10000000 [00:13<423:08:05,  6.56it/s]"
     ]
    },
    {
     "name": "stdout",
     "output_type": "stream",
     "text": [
      "[332, 333, 334]\n",
      "[336, 337, 338]\n"
     ]
    },
    {
     "name": "stderr",
     "output_type": "stream",
     "text": [
      "  0%|          | 87/10000000 [00:13<427:59:49,  6.49it/s]"
     ]
    },
    {
     "name": "stdout",
     "output_type": "stream",
     "text": [
      "[340, 341, 342]\n",
      "[344, 345, 346]\n"
     ]
    },
    {
     "name": "stderr",
     "output_type": "stream",
     "text": [
      "  0%|          | 89/10000000 [00:13<423:17:59,  6.56it/s]"
     ]
    },
    {
     "name": "stdout",
     "output_type": "stream",
     "text": [
      "[348, 349, 350]\n",
      "[352, 353, 354]\n"
     ]
    },
    {
     "name": "stderr",
     "output_type": "stream",
     "text": [
      "  0%|          | 91/10000000 [00:14<422:01:09,  6.58it/s]"
     ]
    },
    {
     "name": "stdout",
     "output_type": "stream",
     "text": [
      "[356, 357, 358]\n",
      "[360, 361, 362]\n"
     ]
    },
    {
     "name": "stderr",
     "output_type": "stream",
     "text": [
      "  0%|          | 93/10000000 [00:14<418:53:35,  6.63it/s]"
     ]
    },
    {
     "name": "stdout",
     "output_type": "stream",
     "text": [
      "[364, 365, 366]\n",
      "[368, 369, 370]\n"
     ]
    },
    {
     "name": "stderr",
     "output_type": "stream",
     "text": [
      "  0%|          | 95/10000000 [00:14<416:43:40,  6.67it/s]"
     ]
    },
    {
     "name": "stdout",
     "output_type": "stream",
     "text": [
      "[372, 373, 374]\n",
      "[376, 377, 378]\n"
     ]
    },
    {
     "name": "stderr",
     "output_type": "stream",
     "text": [
      "  0%|          | 97/10000000 [00:15<427:31:06,  6.50it/s]"
     ]
    },
    {
     "name": "stdout",
     "output_type": "stream",
     "text": [
      "[380, 381, 382]\n",
      "[384, 385, 386]\n"
     ]
    },
    {
     "name": "stderr",
     "output_type": "stream",
     "text": [
      "  0%|          | 99/10000000 [00:15<419:47:25,  6.62it/s]"
     ]
    },
    {
     "name": "stdout",
     "output_type": "stream",
     "text": [
      "[388, 389, 390]\n",
      "[392, 393, 394]\n"
     ]
    },
    {
     "name": "stderr",
     "output_type": "stream",
     "text": [
      "  0%|          | 101/10000000 [00:15<418:43:35,  6.63it/s]"
     ]
    },
    {
     "name": "stdout",
     "output_type": "stream",
     "text": [
      "[396, 397, 398]\n",
      "[400, 401, 402]\n"
     ]
    },
    {
     "name": "stderr",
     "output_type": "stream",
     "text": [
      "  0%|          | 103/10000000 [00:15<416:17:55,  6.67it/s]"
     ]
    },
    {
     "name": "stdout",
     "output_type": "stream",
     "text": [
      "[404, 405, 406]\n",
      "[408, 409, 410]\n"
     ]
    },
    {
     "name": "stderr",
     "output_type": "stream",
     "text": [
      "  0%|          | 105/10000000 [00:16<414:06:48,  6.71it/s]"
     ]
    },
    {
     "name": "stdout",
     "output_type": "stream",
     "text": [
      "[412, 413, 414]\n",
      "[416, 417, 418]\n"
     ]
    },
    {
     "name": "stderr",
     "output_type": "stream",
     "text": [
      "  0%|          | 107/10000000 [00:16<414:56:26,  6.69it/s]"
     ]
    },
    {
     "name": "stdout",
     "output_type": "stream",
     "text": [
      "[420, 421, 422]\n",
      "[424, 425, 426]\n"
     ]
    },
    {
     "name": "stderr",
     "output_type": "stream",
     "text": [
      "  0%|          | 109/10000000 [00:16<417:40:01,  6.65it/s]"
     ]
    },
    {
     "name": "stdout",
     "output_type": "stream",
     "text": [
      "[428, 429, 430]\n",
      "[432, 433, 434]\n"
     ]
    },
    {
     "name": "stderr",
     "output_type": "stream",
     "text": [
      "  0%|          | 111/10000000 [00:17<414:21:44,  6.70it/s]"
     ]
    },
    {
     "name": "stdout",
     "output_type": "stream",
     "text": [
      "[436, 437, 438]\n",
      "[440, 441, 442]\n"
     ]
    },
    {
     "name": "stderr",
     "output_type": "stream",
     "text": [
      "  0%|          | 113/10000000 [00:17<413:01:23,  6.73it/s]"
     ]
    },
    {
     "name": "stdout",
     "output_type": "stream",
     "text": [
      "[444, 445, 446]\n",
      "[448, 449, 450]\n"
     ]
    },
    {
     "name": "stderr",
     "output_type": "stream",
     "text": [
      "  0%|          | 115/10000000 [00:17<415:27:09,  6.69it/s]"
     ]
    },
    {
     "name": "stdout",
     "output_type": "stream",
     "text": [
      "[452, 453, 454]\n",
      "[456, 457, 458]\n"
     ]
    },
    {
     "name": "stderr",
     "output_type": "stream",
     "text": [
      "  0%|          | 117/10000000 [00:18<415:54:35,  6.68it/s]"
     ]
    },
    {
     "name": "stdout",
     "output_type": "stream",
     "text": [
      "[460, 461, 462]\n",
      "[464, 465, 466]\n"
     ]
    },
    {
     "name": "stderr",
     "output_type": "stream",
     "text": [
      "  0%|          | 119/10000000 [00:18<414:22:09,  6.70it/s]"
     ]
    },
    {
     "name": "stdout",
     "output_type": "stream",
     "text": [
      "[468, 469, 470]\n",
      "[472, 473, 474]\n"
     ]
    },
    {
     "name": "stderr",
     "output_type": "stream",
     "text": [
      "  0%|          | 121/10000000 [00:18<414:20:04,  6.70it/s]"
     ]
    },
    {
     "name": "stdout",
     "output_type": "stream",
     "text": [
      "[476, 477, 478]\n",
      "[480, 481, 482]\n"
     ]
    },
    {
     "name": "stderr",
     "output_type": "stream",
     "text": [
      "  0%|          | 123/10000000 [00:18<419:19:18,  6.62it/s]"
     ]
    },
    {
     "name": "stdout",
     "output_type": "stream",
     "text": [
      "[484, 485, 486]\n",
      "[488, 489, 490]\n"
     ]
    },
    {
     "name": "stderr",
     "output_type": "stream",
     "text": [
      "  0%|          | 125/10000000 [00:19<424:40:52,  6.54it/s]"
     ]
    },
    {
     "name": "stdout",
     "output_type": "stream",
     "text": [
      "[492, 493, 494]\n",
      "[496, 497, 498]\n"
     ]
    },
    {
     "name": "stderr",
     "output_type": "stream",
     "text": [
      "  0%|          | 127/10000000 [00:19<424:10:29,  6.55it/s]"
     ]
    },
    {
     "name": "stdout",
     "output_type": "stream",
     "text": [
      "[500, 501, 502]\n",
      "[504, 505, 506]\n"
     ]
    },
    {
     "name": "stderr",
     "output_type": "stream",
     "text": [
      "  0%|          | 129/10000000 [00:19<419:58:06,  6.61it/s]"
     ]
    },
    {
     "name": "stdout",
     "output_type": "stream",
     "text": [
      "[508, 509, 510]\n",
      "[512, 513, 514]\n"
     ]
    },
    {
     "name": "stderr",
     "output_type": "stream",
     "text": [
      "  0%|          | 131/10000000 [00:20<419:05:06,  6.63it/s]"
     ]
    },
    {
     "name": "stdout",
     "output_type": "stream",
     "text": [
      "[516, 517, 518]\n",
      "[520, 521, 522]\n"
     ]
    },
    {
     "name": "stderr",
     "output_type": "stream",
     "text": [
      "  0%|          | 133/10000000 [00:20<416:50:14,  6.66it/s]"
     ]
    },
    {
     "name": "stdout",
     "output_type": "stream",
     "text": [
      "[524, 525, 526]\n",
      "[528, 529, 530]\n"
     ]
    },
    {
     "name": "stderr",
     "output_type": "stream",
     "text": [
      "  0%|          | 135/10000000 [00:20<416:17:18,  6.67it/s]"
     ]
    },
    {
     "name": "stdout",
     "output_type": "stream",
     "text": [
      "[532, 533, 534]\n",
      "[536, 537, 538]\n"
     ]
    },
    {
     "name": "stderr",
     "output_type": "stream",
     "text": [
      "  0%|          | 137/10000000 [00:21<416:27:36,  6.67it/s]"
     ]
    },
    {
     "name": "stdout",
     "output_type": "stream",
     "text": [
      "[540, 541, 542]\n",
      "[544, 545, 546]\n"
     ]
    },
    {
     "name": "stderr",
     "output_type": "stream",
     "text": [
      "  0%|          | 139/10000000 [00:21<414:29:31,  6.70it/s]"
     ]
    },
    {
     "name": "stdout",
     "output_type": "stream",
     "text": [
      "[548, 549, 550]\n",
      "[552, 553, 554]\n"
     ]
    },
    {
     "name": "stderr",
     "output_type": "stream",
     "text": [
      "  0%|          | 141/10000000 [00:21<412:41:21,  6.73it/s]"
     ]
    },
    {
     "name": "stdout",
     "output_type": "stream",
     "text": [
      "[556, 557, 558]\n",
      "[560, 561, 562]\n"
     ]
    },
    {
     "name": "stderr",
     "output_type": "stream",
     "text": [
      "  0%|          | 143/10000000 [00:21<414:43:58,  6.70it/s]"
     ]
    },
    {
     "name": "stdout",
     "output_type": "stream",
     "text": [
      "[564, 565, 566]\n",
      "[568, 569, 570]\n"
     ]
    },
    {
     "name": "stderr",
     "output_type": "stream",
     "text": [
      "  0%|          | 145/10000000 [00:22<417:47:41,  6.65it/s]"
     ]
    },
    {
     "name": "stdout",
     "output_type": "stream",
     "text": [
      "[572, 573, 574]\n",
      "[576, 577, 578]\n"
     ]
    },
    {
     "name": "stderr",
     "output_type": "stream",
     "text": [
      "  0%|          | 147/10000000 [00:22<415:47:13,  6.68it/s]"
     ]
    },
    {
     "name": "stdout",
     "output_type": "stream",
     "text": [
      "[580, 581, 582]\n",
      "[584, 585, 586]\n"
     ]
    },
    {
     "name": "stderr",
     "output_type": "stream",
     "text": [
      "  0%|          | 149/10000000 [00:22<412:19:51,  6.74it/s]"
     ]
    },
    {
     "name": "stdout",
     "output_type": "stream",
     "text": [
      "[588, 589, 590]\n",
      "[592, 593, 594]\n"
     ]
    },
    {
     "name": "stderr",
     "output_type": "stream",
     "text": [
      "  0%|          | 151/10000000 [00:23<423:33:40,  6.56it/s]"
     ]
    },
    {
     "name": "stdout",
     "output_type": "stream",
     "text": [
      "[596, 597, 598]\n",
      "[600, 601, 602]\n"
     ]
    },
    {
     "name": "stderr",
     "output_type": "stream",
     "text": [
      "  0%|          | 153/10000000 [00:23<444:17:10,  6.25it/s]"
     ]
    },
    {
     "name": "stdout",
     "output_type": "stream",
     "text": [
      "[604, 605, 606]\n",
      "[608, 609, 610]\n"
     ]
    },
    {
     "name": "stderr",
     "output_type": "stream",
     "text": [
      "  0%|          | 155/10000000 [00:23<451:51:04,  6.15it/s]"
     ]
    },
    {
     "name": "stdout",
     "output_type": "stream",
     "text": [
      "[612, 613, 614]\n",
      "[616, 617, 618]\n"
     ]
    },
    {
     "name": "stderr",
     "output_type": "stream",
     "text": [
      "  0%|          | 157/10000000 [00:24<453:28:06,  6.13it/s]"
     ]
    },
    {
     "name": "stdout",
     "output_type": "stream",
     "text": [
      "[620, 621, 622]\n",
      "[624, 625, 626]\n"
     ]
    },
    {
     "name": "stderr",
     "output_type": "stream",
     "text": [
      "  0%|          | 159/10000000 [00:24<454:56:02,  6.11it/s]"
     ]
    },
    {
     "name": "stdout",
     "output_type": "stream",
     "text": [
      "[628, 629, 630]\n",
      "[632, 633, 634]\n"
     ]
    },
    {
     "name": "stderr",
     "output_type": "stream",
     "text": [
      "  0%|          | 161/10000000 [00:24<448:53:48,  6.19it/s]"
     ]
    },
    {
     "name": "stdout",
     "output_type": "stream",
     "text": [
      "[636, 637, 638]\n",
      "[640, 641, 642]\n"
     ]
    },
    {
     "name": "stderr",
     "output_type": "stream",
     "text": [
      "  0%|          | 163/10000000 [00:25<439:10:18,  6.32it/s]"
     ]
    },
    {
     "name": "stdout",
     "output_type": "stream",
     "text": [
      "[644, 645, 646]\n",
      "[648, 649, 650]\n"
     ]
    },
    {
     "name": "stderr",
     "output_type": "stream",
     "text": [
      "  0%|          | 165/10000000 [00:25<427:46:59,  6.49it/s]"
     ]
    },
    {
     "name": "stdout",
     "output_type": "stream",
     "text": [
      "[652, 653, 654]\n",
      "[656, 657, 658]\n"
     ]
    },
    {
     "name": "stderr",
     "output_type": "stream",
     "text": [
      "  0%|          | 167/10000000 [00:25<512:17:51,  5.42it/s]"
     ]
    },
    {
     "name": "stdout",
     "output_type": "stream",
     "text": [
      "[660, 661, 662]\n"
     ]
    },
    {
     "name": "stderr",
     "output_type": "stream",
     "text": [
      "\r",
      "  0%|          | 168/10000000 [00:25<496:40:44,  5.59it/s]"
     ]
    },
    {
     "name": "stdout",
     "output_type": "stream",
     "text": [
      "[664, 665, 666]\n",
      "[668, 669, 670]\n"
     ]
    },
    {
     "name": "stderr",
     "output_type": "stream",
     "text": [
      "  0%|          | 170/10000000 [00:26<488:03:38,  5.69it/s]"
     ]
    },
    {
     "name": "stdout",
     "output_type": "stream",
     "text": [
      "[672, 673, 674]\n",
      "[676, 677, 678]\n"
     ]
    },
    {
     "name": "stderr",
     "output_type": "stream",
     "text": [
      "  0%|          | 172/10000000 [00:26<458:13:22,  6.06it/s]"
     ]
    },
    {
     "name": "stdout",
     "output_type": "stream",
     "text": [
      "[680, 681, 682]\n",
      "[684, 685, 686]\n"
     ]
    },
    {
     "name": "stderr",
     "output_type": "stream",
     "text": [
      "  0%|          | 174/10000000 [00:26<442:00:51,  6.28it/s]"
     ]
    },
    {
     "name": "stdout",
     "output_type": "stream",
     "text": [
      "[688, 689, 690]\n",
      "[692, 693, 694]\n"
     ]
    },
    {
     "name": "stderr",
     "output_type": "stream",
     "text": [
      "  0%|          | 176/10000000 [00:27<445:40:38,  6.23it/s]"
     ]
    },
    {
     "name": "stdout",
     "output_type": "stream",
     "text": [
      "[696, 697, 698]\n",
      "[700, 701, 702]\n"
     ]
    },
    {
     "name": "stderr",
     "output_type": "stream",
     "text": [
      "  0%|          | 178/10000000 [00:27<428:10:13,  6.49it/s]"
     ]
    },
    {
     "name": "stdout",
     "output_type": "stream",
     "text": [
      "[704, 705, 706]\n",
      "[708, 709, 710]\n"
     ]
    },
    {
     "name": "stderr",
     "output_type": "stream",
     "text": [
      "  0%|          | 180/10000000 [00:27<422:51:47,  6.57it/s]"
     ]
    },
    {
     "name": "stdout",
     "output_type": "stream",
     "text": [
      "[712, 713, 714]\n",
      "[716, 717, 718]\n"
     ]
    },
    {
     "name": "stderr",
     "output_type": "stream",
     "text": [
      "  0%|          | 182/10000000 [00:28<416:47:33,  6.66it/s]"
     ]
    },
    {
     "name": "stdout",
     "output_type": "stream",
     "text": [
      "[720, 721, 722]\n",
      "[724, 725, 726]\n"
     ]
    },
    {
     "name": "stderr",
     "output_type": "stream",
     "text": [
      "  0%|          | 184/10000000 [00:28<409:57:08,  6.78it/s]"
     ]
    },
    {
     "name": "stdout",
     "output_type": "stream",
     "text": [
      "[728, 729, 730]\n",
      "[732, 733, 734]\n"
     ]
    },
    {
     "name": "stderr",
     "output_type": "stream",
     "text": [
      "  0%|          | 186/10000000 [00:28<414:01:56,  6.71it/s]"
     ]
    },
    {
     "name": "stdout",
     "output_type": "stream",
     "text": [
      "[736, 737, 738]\n",
      "[740, 741, 742]\n"
     ]
    },
    {
     "name": "stderr",
     "output_type": "stream",
     "text": [
      "  0%|          | 188/10000000 [00:29<414:28:55,  6.70it/s]"
     ]
    },
    {
     "name": "stdout",
     "output_type": "stream",
     "text": [
      "[744, 745, 746]\n",
      "[748, 749, 750]\n"
     ]
    },
    {
     "name": "stderr",
     "output_type": "stream",
     "text": [
      "  0%|          | 190/10000000 [00:29<412:53:38,  6.73it/s]"
     ]
    },
    {
     "name": "stdout",
     "output_type": "stream",
     "text": [
      "[752, 753, 754]\n",
      "[756, 757, 758]\n"
     ]
    },
    {
     "name": "stderr",
     "output_type": "stream",
     "text": [
      "  0%|          | 192/10000000 [00:29<418:34:01,  6.64it/s]"
     ]
    },
    {
     "name": "stdout",
     "output_type": "stream",
     "text": [
      "[760, 761, 762]\n",
      "[764, 765, 766]\n"
     ]
    },
    {
     "name": "stderr",
     "output_type": "stream",
     "text": [
      "  0%|          | 194/10000000 [00:29<417:20:13,  6.66it/s]"
     ]
    },
    {
     "name": "stdout",
     "output_type": "stream",
     "text": [
      "[768, 769, 770]\n",
      "[772, 773, 774]\n"
     ]
    },
    {
     "name": "stderr",
     "output_type": "stream",
     "text": [
      "  0%|          | 196/10000000 [00:30<414:32:27,  6.70it/s]"
     ]
    },
    {
     "name": "stdout",
     "output_type": "stream",
     "text": [
      "[776, 777, 778]\n",
      "[780, 781, 782]\n"
     ]
    },
    {
     "name": "stderr",
     "output_type": "stream",
     "text": [
      "  0%|          | 198/10000000 [00:30<421:48:02,  6.59it/s]"
     ]
    },
    {
     "name": "stdout",
     "output_type": "stream",
     "text": [
      "[784, 785, 786]\n",
      "[788, 789, 790]\n"
     ]
    },
    {
     "name": "stderr",
     "output_type": "stream",
     "text": [
      "  0%|          | 200/10000000 [00:30<420:25:36,  6.61it/s]"
     ]
    },
    {
     "name": "stdout",
     "output_type": "stream",
     "text": [
      "[792, 793, 794]\n",
      "[796, 797, 798]\n"
     ]
    },
    {
     "name": "stderr",
     "output_type": "stream",
     "text": [
      "  0%|          | 202/10000000 [00:31<419:08:35,  6.63it/s]"
     ]
    },
    {
     "name": "stdout",
     "output_type": "stream",
     "text": [
      "[800, 801, 802]\n",
      "[804, 805, 806]\n"
     ]
    },
    {
     "name": "stderr",
     "output_type": "stream",
     "text": [
      "  0%|          | 204/10000000 [00:31<417:30:11,  6.65it/s]"
     ]
    },
    {
     "name": "stdout",
     "output_type": "stream",
     "text": [
      "[808, 809, 810]\n",
      "[812, 813, 814]\n"
     ]
    },
    {
     "name": "stderr",
     "output_type": "stream",
     "text": [
      "  0%|          | 206/10000000 [00:31<417:51:44,  6.65it/s]"
     ]
    },
    {
     "name": "stdout",
     "output_type": "stream",
     "text": [
      "[816, 817, 818]\n",
      "[820, 821, 822]\n"
     ]
    },
    {
     "name": "stderr",
     "output_type": "stream",
     "text": [
      "  0%|          | 208/10000000 [00:32<416:39:55,  6.67it/s]"
     ]
    },
    {
     "name": "stdout",
     "output_type": "stream",
     "text": [
      "[824, 825, 826]\n",
      "[828, 829, 830]\n"
     ]
    },
    {
     "name": "stderr",
     "output_type": "stream",
     "text": [
      "  0%|          | 210/10000000 [00:32<416:11:50,  6.67it/s]"
     ]
    },
    {
     "name": "stdout",
     "output_type": "stream",
     "text": [
      "[832, 833, 834]\n",
      "[836, 837, 838]\n"
     ]
    },
    {
     "name": "stderr",
     "output_type": "stream",
     "text": [
      "  0%|          | 212/10000000 [00:32<412:08:36,  6.74it/s]"
     ]
    },
    {
     "name": "stdout",
     "output_type": "stream",
     "text": [
      "[840, 841, 842]\n",
      "[844, 845, 846]\n"
     ]
    },
    {
     "name": "stderr",
     "output_type": "stream",
     "text": [
      "  0%|          | 214/10000000 [00:32<425:59:51,  6.52it/s]"
     ]
    },
    {
     "name": "stdout",
     "output_type": "stream",
     "text": [
      "[848, 849, 850]\n",
      "[852, 853, 854]\n"
     ]
    },
    {
     "name": "stderr",
     "output_type": "stream",
     "text": [
      "  0%|          | 216/10000000 [00:33<435:23:59,  6.38it/s]"
     ]
    },
    {
     "name": "stdout",
     "output_type": "stream",
     "text": [
      "[856, 857, 858]\n",
      "[860, 861, 862]\n"
     ]
    },
    {
     "name": "stderr",
     "output_type": "stream",
     "text": [
      "  0%|          | 218/10000000 [00:33<434:05:19,  6.40it/s]"
     ]
    },
    {
     "name": "stdout",
     "output_type": "stream",
     "text": [
      "[864, 865, 866]\n",
      "[868, 869, 870]\n"
     ]
    },
    {
     "name": "stderr",
     "output_type": "stream",
     "text": [
      "  0%|          | 220/10000000 [00:33<430:29:46,  6.45it/s]"
     ]
    },
    {
     "name": "stdout",
     "output_type": "stream",
     "text": [
      "[872, 873, 874]\n",
      "[876, 877, 878]\n"
     ]
    },
    {
     "name": "stderr",
     "output_type": "stream",
     "text": [
      "  0%|          | 222/10000000 [00:34<423:33:57,  6.56it/s]"
     ]
    },
    {
     "name": "stdout",
     "output_type": "stream",
     "text": [
      "[880, 881, 882]\n",
      "[884, 885, 886]\n"
     ]
    },
    {
     "name": "stderr",
     "output_type": "stream",
     "text": [
      "  0%|          | 224/10000000 [00:34<424:24:42,  6.54it/s]"
     ]
    },
    {
     "name": "stdout",
     "output_type": "stream",
     "text": [
      "[888, 889, 890]\n",
      "[892, 893, 894]\n"
     ]
    },
    {
     "name": "stderr",
     "output_type": "stream",
     "text": [
      "  0%|          | 226/10000000 [00:34<421:22:30,  6.59it/s]"
     ]
    },
    {
     "name": "stdout",
     "output_type": "stream",
     "text": [
      "[896, 897, 898]\n",
      "[900, 901, 902]\n"
     ]
    },
    {
     "name": "stderr",
     "output_type": "stream",
     "text": [
      "  0%|          | 228/10000000 [00:35<424:55:37,  6.54it/s]"
     ]
    },
    {
     "name": "stdout",
     "output_type": "stream",
     "text": [
      "[904, 905, 906]\n",
      "[908, 909, 910]\n"
     ]
    },
    {
     "name": "stderr",
     "output_type": "stream",
     "text": [
      "  0%|          | 230/10000000 [00:35<422:53:21,  6.57it/s]"
     ]
    },
    {
     "name": "stdout",
     "output_type": "stream",
     "text": [
      "[912, 913, 914]\n",
      "[916, 917, 918]\n"
     ]
    },
    {
     "name": "stderr",
     "output_type": "stream",
     "text": [
      "  0%|          | 232/10000000 [00:35<419:29:09,  6.62it/s]"
     ]
    },
    {
     "name": "stdout",
     "output_type": "stream",
     "text": [
      "[920, 921, 922]\n",
      "[924, 925, 926]\n"
     ]
    },
    {
     "name": "stderr",
     "output_type": "stream",
     "text": [
      "  0%|          | 234/10000000 [00:36<413:23:52,  6.72it/s]"
     ]
    },
    {
     "name": "stdout",
     "output_type": "stream",
     "text": [
      "[928, 929, 930]\n",
      "[932, 933, 934]\n"
     ]
    },
    {
     "name": "stderr",
     "output_type": "stream",
     "text": [
      "  0%|          | 236/10000000 [00:36<414:12:25,  6.71it/s]"
     ]
    },
    {
     "name": "stdout",
     "output_type": "stream",
     "text": [
      "[936, 937, 938]\n",
      "[940, 941, 942]\n"
     ]
    },
    {
     "name": "stderr",
     "output_type": "stream",
     "text": [
      "  0%|          | 238/10000000 [00:36<417:09:18,  6.66it/s]"
     ]
    },
    {
     "name": "stdout",
     "output_type": "stream",
     "text": [
      "[944, 945, 946]\n",
      "[948, 949, 950]\n"
     ]
    },
    {
     "name": "stderr",
     "output_type": "stream",
     "text": [
      "  0%|          | 240/10000000 [00:36<418:25:45,  6.64it/s]"
     ]
    },
    {
     "name": "stdout",
     "output_type": "stream",
     "text": [
      "[952, 953, 954]\n",
      "[956, 957, 958]\n"
     ]
    },
    {
     "name": "stderr",
     "output_type": "stream",
     "text": [
      "  0%|          | 242/10000000 [00:37<413:09:47,  6.72it/s]"
     ]
    },
    {
     "name": "stdout",
     "output_type": "stream",
     "text": [
      "[960, 961, 962]\n",
      "[964, 965, 966]\n"
     ]
    },
    {
     "name": "stderr",
     "output_type": "stream",
     "text": [
      "  0%|          | 244/10000000 [00:37<415:54:25,  6.68it/s]"
     ]
    },
    {
     "name": "stdout",
     "output_type": "stream",
     "text": [
      "[968, 969, 970]\n",
      "[972, 973, 974]\n"
     ]
    },
    {
     "name": "stderr",
     "output_type": "stream",
     "text": [
      "  0%|          | 246/10000000 [00:37<417:45:56,  6.65it/s]"
     ]
    },
    {
     "name": "stdout",
     "output_type": "stream",
     "text": [
      "[976, 977, 978]\n",
      "[980, 981, 982]\n"
     ]
    },
    {
     "name": "stderr",
     "output_type": "stream",
     "text": [
      "  0%|          | 248/10000000 [00:38<418:10:28,  6.64it/s]"
     ]
    },
    {
     "name": "stdout",
     "output_type": "stream",
     "text": [
      "[984, 985, 986]\n",
      "[988, 989, 990]\n"
     ]
    },
    {
     "name": "stderr",
     "output_type": "stream",
     "text": [
      "  0%|          | 250/10000000 [00:38<417:44:31,  6.65it/s]"
     ]
    },
    {
     "name": "stdout",
     "output_type": "stream",
     "text": [
      "[992, 993, 994]\n",
      "[996, 997, 998]\n"
     ]
    },
    {
     "name": "stderr",
     "output_type": "stream",
     "text": [
      "  0%|          | 252/10000000 [00:38<420:25:04,  6.61it/s]"
     ]
    },
    {
     "name": "stdout",
     "output_type": "stream",
     "text": [
      "[1000, 1001, 1002]\n",
      "[1004, 1005, 1006]\n"
     ]
    },
    {
     "name": "stderr",
     "output_type": "stream",
     "text": [
      "  0%|          | 254/10000000 [00:39<452:33:56,  6.14it/s]"
     ]
    },
    {
     "name": "stdout",
     "output_type": "stream",
     "text": [
      "[1008, 1009, 1010]\n",
      "[1012, 1013, 1014]\n"
     ]
    },
    {
     "name": "stderr",
     "output_type": "stream",
     "text": [
      "  0%|          | 256/10000000 [00:39<440:53:45,  6.30it/s]"
     ]
    },
    {
     "name": "stdout",
     "output_type": "stream",
     "text": [
      "[1016, 1017, 1018]\n",
      "[1020, 1021, 1022]\n"
     ]
    },
    {
     "name": "stderr",
     "output_type": "stream",
     "text": [
      "  0%|          | 258/10000000 [00:39<428:32:30,  6.48it/s]"
     ]
    },
    {
     "name": "stdout",
     "output_type": "stream",
     "text": [
      "[1024, 1025, 1026]\n",
      "[1028, 1029, 1030]\n"
     ]
    },
    {
     "name": "stderr",
     "output_type": "stream",
     "text": [
      "  0%|          | 260/10000000 [00:39<422:38:54,  6.57it/s]"
     ]
    },
    {
     "name": "stdout",
     "output_type": "stream",
     "text": [
      "[1032, 1033, 1034]\n",
      "[1036, 1037, 1038]\n"
     ]
    },
    {
     "name": "stderr",
     "output_type": "stream",
     "text": [
      "  0%|          | 262/10000000 [00:40<420:17:17,  6.61it/s]"
     ]
    },
    {
     "name": "stdout",
     "output_type": "stream",
     "text": [
      "[1040, 1041, 1042]\n",
      "[1044, 1045, 1046]\n"
     ]
    },
    {
     "name": "stderr",
     "output_type": "stream",
     "text": [
      "  0%|          | 264/10000000 [00:40<417:45:52,  6.65it/s]"
     ]
    },
    {
     "name": "stdout",
     "output_type": "stream",
     "text": [
      "[1048, 1049, 1050]\n",
      "[1052, 1053, 1054]\n"
     ]
    },
    {
     "name": "stderr",
     "output_type": "stream",
     "text": [
      "  0%|          | 266/10000000 [00:40<417:55:44,  6.65it/s]"
     ]
    },
    {
     "name": "stdout",
     "output_type": "stream",
     "text": [
      "[1056, 1057, 1058]\n",
      "[1060, 1061, 1062]\n"
     ]
    },
    {
     "name": "stderr",
     "output_type": "stream",
     "text": [
      "  0%|          | 268/10000000 [00:41<416:35:18,  6.67it/s]"
     ]
    },
    {
     "name": "stdout",
     "output_type": "stream",
     "text": [
      "[1064, 1065, 1066]\n",
      "[1068, 1069, 1070]\n"
     ]
    },
    {
     "name": "stderr",
     "output_type": "stream",
     "text": [
      "  0%|          | 270/10000000 [00:41<415:41:17,  6.68it/s]"
     ]
    },
    {
     "name": "stdout",
     "output_type": "stream",
     "text": [
      "[1072, 1073, 1074]\n",
      "[1076, 1077, 1078]\n"
     ]
    },
    {
     "name": "stderr",
     "output_type": "stream",
     "text": [
      "  0%|          | 272/10000000 [00:41<428:47:28,  6.48it/s]"
     ]
    },
    {
     "name": "stdout",
     "output_type": "stream",
     "text": [
      "[1080, 1081, 1082]\n",
      "[1084, 1085, 1086]\n"
     ]
    },
    {
     "name": "stderr",
     "output_type": "stream",
     "text": [
      "  0%|          | 274/10000000 [00:42<423:43:09,  6.56it/s]"
     ]
    },
    {
     "name": "stdout",
     "output_type": "stream",
     "text": [
      "[1088, 1089, 1090]\n",
      "[1092, 1093, 1094]\n"
     ]
    },
    {
     "name": "stderr",
     "output_type": "stream",
     "text": [
      "  0%|          | 276/10000000 [00:42<430:56:57,  6.45it/s]"
     ]
    },
    {
     "name": "stdout",
     "output_type": "stream",
     "text": [
      "[1096, 1097, 1098]\n",
      "[1100, 1101, 1102]\n"
     ]
    },
    {
     "name": "stderr",
     "output_type": "stream",
     "text": [
      "  0%|          | 278/10000000 [00:42<423:16:33,  6.56it/s]"
     ]
    },
    {
     "name": "stdout",
     "output_type": "stream",
     "text": [
      "[1104, 1105, 1106]\n",
      "[1108, 1109, 1110]\n"
     ]
    },
    {
     "name": "stderr",
     "output_type": "stream",
     "text": [
      "  0%|          | 280/10000000 [00:43<437:21:07,  6.35it/s]"
     ]
    },
    {
     "name": "stdout",
     "output_type": "stream",
     "text": [
      "[1112, 1113, 1114]\n",
      "[1116, 1117, 1118]\n"
     ]
    },
    {
     "name": "stderr",
     "output_type": "stream",
     "text": [
      "  0%|          | 282/10000000 [00:43<444:44:31,  6.25it/s]"
     ]
    },
    {
     "name": "stdout",
     "output_type": "stream",
     "text": [
      "[1120, 1121, 1122]\n",
      "[1124, 1125, 1126]\n"
     ]
    },
    {
     "name": "stderr",
     "output_type": "stream",
     "text": [
      "  0%|          | 284/10000000 [00:43<441:10:24,  6.30it/s]"
     ]
    },
    {
     "name": "stdout",
     "output_type": "stream",
     "text": [
      "[1128, 1129, 1130]\n",
      "[1132, 1133, 1134]\n"
     ]
    },
    {
     "name": "stderr",
     "output_type": "stream",
     "text": [
      "  0%|          | 286/10000000 [00:43<436:39:37,  6.36it/s]"
     ]
    },
    {
     "name": "stdout",
     "output_type": "stream",
     "text": [
      "[1136, 1137, 1138]\n",
      "[1140, 1141, 1142]\n"
     ]
    },
    {
     "name": "stderr",
     "output_type": "stream",
     "text": [
      "  0%|          | 288/10000000 [00:44<423:24:11,  6.56it/s]"
     ]
    },
    {
     "name": "stdout",
     "output_type": "stream",
     "text": [
      "[1144, 1145, 1146]\n",
      "[1148, 1149, 1150]\n"
     ]
    },
    {
     "name": "stderr",
     "output_type": "stream",
     "text": [
      "  0%|          | 290/10000000 [00:44<421:42:31,  6.59it/s]"
     ]
    },
    {
     "name": "stdout",
     "output_type": "stream",
     "text": [
      "[1152, 1153, 1154]\n",
      "[1156, 1157, 1158]\n"
     ]
    },
    {
     "name": "stderr",
     "output_type": "stream",
     "text": [
      "  0%|          | 292/10000000 [00:44<422:06:24,  6.58it/s]"
     ]
    },
    {
     "name": "stdout",
     "output_type": "stream",
     "text": [
      "[1160, 1161, 1162]\n",
      "[1164, 1165, 1166]\n"
     ]
    },
    {
     "name": "stderr",
     "output_type": "stream",
     "text": [
      "  0%|          | 294/10000000 [00:45<423:05:21,  6.57it/s]"
     ]
    },
    {
     "name": "stdout",
     "output_type": "stream",
     "text": [
      "[1168, 1169, 1170]\n",
      "[1172, 1173, 1174]\n"
     ]
    },
    {
     "name": "stderr",
     "output_type": "stream",
     "text": [
      "  0%|          | 296/10000000 [00:45<415:43:41,  6.68it/s]"
     ]
    },
    {
     "name": "stdout",
     "output_type": "stream",
     "text": [
      "[1176, 1177, 1178]\n",
      "[1180, 1181, 1182]\n"
     ]
    },
    {
     "name": "stderr",
     "output_type": "stream",
     "text": [
      "  0%|          | 298/10000000 [00:45<415:34:56,  6.68it/s]"
     ]
    },
    {
     "name": "stdout",
     "output_type": "stream",
     "text": [
      "[1184, 1185, 1186]\n",
      "[1188, 1189, 1190]\n"
     ]
    },
    {
     "name": "stderr",
     "output_type": "stream",
     "text": [
      "  0%|          | 300/10000000 [00:46<418:40:47,  6.63it/s]"
     ]
    },
    {
     "name": "stdout",
     "output_type": "stream",
     "text": [
      "[1192, 1193, 1194]\n",
      "[1196, 1197, 1198]\n"
     ]
    },
    {
     "name": "stderr",
     "output_type": "stream",
     "text": [
      "  0%|          | 302/10000000 [00:46<419:16:51,  6.62it/s]"
     ]
    },
    {
     "name": "stdout",
     "output_type": "stream",
     "text": [
      "[1200, 1201, 1202]\n",
      "[1204, 1205, 1206]\n"
     ]
    },
    {
     "name": "stderr",
     "output_type": "stream",
     "text": [
      "  0%|          | 304/10000000 [00:46<418:46:11,  6.63it/s]"
     ]
    },
    {
     "name": "stdout",
     "output_type": "stream",
     "text": [
      "[1208, 1209, 1210]\n",
      "[1212, 1213, 1214]\n"
     ]
    },
    {
     "name": "stderr",
     "output_type": "stream",
     "text": [
      "  0%|          | 306/10000000 [00:47<418:55:21,  6.63it/s]"
     ]
    },
    {
     "name": "stdout",
     "output_type": "stream",
     "text": [
      "[1216, 1217, 1218]\n",
      "[1220, 1221, 1222]\n"
     ]
    },
    {
     "name": "stderr",
     "output_type": "stream",
     "text": [
      "  0%|          | 308/10000000 [00:47<415:05:17,  6.69it/s]"
     ]
    },
    {
     "name": "stdout",
     "output_type": "stream",
     "text": [
      "[1224, 1225, 1226]\n",
      "[1228, 1229, 1230]\n"
     ]
    },
    {
     "name": "stderr",
     "output_type": "stream",
     "text": [
      "  0%|          | 310/10000000 [00:47<416:06:21,  6.68it/s]"
     ]
    },
    {
     "name": "stdout",
     "output_type": "stream",
     "text": [
      "[1232, 1233, 1234]\n",
      "[1236, 1237, 1238]\n"
     ]
    },
    {
     "name": "stderr",
     "output_type": "stream",
     "text": [
      "  0%|          | 312/10000000 [00:47<423:16:11,  6.56it/s]"
     ]
    },
    {
     "name": "stdout",
     "output_type": "stream",
     "text": [
      "[1240, 1241, 1242]\n",
      "[1244, 1245, 1246]\n"
     ]
    },
    {
     "name": "stderr",
     "output_type": "stream",
     "text": [
      "  0%|          | 314/10000000 [00:48<430:22:16,  6.45it/s]"
     ]
    },
    {
     "name": "stdout",
     "output_type": "stream",
     "text": [
      "[1248, 1249, 1250]\n",
      "[1252, 1253, 1254]\n"
     ]
    },
    {
     "name": "stderr",
     "output_type": "stream",
     "text": [
      "  0%|          | 316/10000000 [00:48<425:14:53,  6.53it/s]"
     ]
    },
    {
     "name": "stdout",
     "output_type": "stream",
     "text": [
      "[1256, 1257, 1258]\n",
      "[1260, 1261, 1262]\n"
     ]
    },
    {
     "name": "stderr",
     "output_type": "stream",
     "text": [
      "  0%|          | 318/10000000 [00:48<420:35:31,  6.60it/s]"
     ]
    },
    {
     "name": "stdout",
     "output_type": "stream",
     "text": [
      "[1264, 1265, 1266]\n",
      "[1268, 1269, 1270]\n"
     ]
    },
    {
     "name": "stderr",
     "output_type": "stream",
     "text": [
      "  0%|          | 320/10000000 [00:49<421:48:18,  6.59it/s]"
     ]
    },
    {
     "name": "stdout",
     "output_type": "stream",
     "text": [
      "[1272, 1273, 1274]\n",
      "[1276, 1277, 1278]\n"
     ]
    },
    {
     "name": "stderr",
     "output_type": "stream",
     "text": [
      "  0%|          | 322/10000000 [00:49<422:23:53,  6.58it/s]"
     ]
    },
    {
     "name": "stdout",
     "output_type": "stream",
     "text": [
      "[1280, 1281, 1282]\n",
      "[1284, 1285, 1286]\n"
     ]
    },
    {
     "name": "stderr",
     "output_type": "stream",
     "text": [
      "  0%|          | 324/10000000 [00:49<418:38:47,  6.63it/s]"
     ]
    },
    {
     "name": "stdout",
     "output_type": "stream",
     "text": [
      "[1288, 1289, 1290]\n",
      "[1292, 1293, 1294]\n"
     ]
    },
    {
     "name": "stderr",
     "output_type": "stream",
     "text": [
      "  0%|          | 326/10000000 [00:50<416:50:36,  6.66it/s]"
     ]
    },
    {
     "name": "stdout",
     "output_type": "stream",
     "text": [
      "[1296, 1297, 1298]\n",
      "[1300, 1301, 1302]\n"
     ]
    },
    {
     "name": "stderr",
     "output_type": "stream",
     "text": [
      "  0%|          | 328/10000000 [00:50<419:08:21,  6.63it/s]"
     ]
    },
    {
     "name": "stdout",
     "output_type": "stream",
     "text": [
      "[1304, 1305, 1306]\n",
      "[1308, 1309, 1310]\n"
     ]
    },
    {
     "name": "stderr",
     "output_type": "stream",
     "text": [
      "  0%|          | 330/10000000 [00:50<417:20:21,  6.66it/s]"
     ]
    },
    {
     "name": "stdout",
     "output_type": "stream",
     "text": [
      "[1312, 1313, 1314]\n",
      "[1316, 1317, 1318]\n"
     ]
    },
    {
     "name": "stderr",
     "output_type": "stream",
     "text": [
      "  0%|          | 332/10000000 [00:50<414:38:56,  6.70it/s]"
     ]
    },
    {
     "name": "stdout",
     "output_type": "stream",
     "text": [
      "[1320, 1321, 1322]\n",
      "[1324, 1325, 1326]\n"
     ]
    },
    {
     "name": "stderr",
     "output_type": "stream",
     "text": [
      "  0%|          | 334/10000000 [00:51<415:54:42,  6.68it/s]"
     ]
    },
    {
     "name": "stdout",
     "output_type": "stream",
     "text": [
      "[1328, 1329, 1330]\n",
      "[1332, 1333, 1334]\n"
     ]
    },
    {
     "name": "stderr",
     "output_type": "stream",
     "text": [
      "  0%|          | 336/10000000 [00:51<413:56:30,  6.71it/s]"
     ]
    },
    {
     "name": "stdout",
     "output_type": "stream",
     "text": [
      "[1336, 1337, 1338]\n",
      "[1340, 1341, 1342]\n"
     ]
    },
    {
     "name": "stderr",
     "output_type": "stream",
     "text": [
      "  0%|          | 338/10000000 [00:51<415:58:13,  6.68it/s]"
     ]
    },
    {
     "name": "stdout",
     "output_type": "stream",
     "text": [
      "[1344, 1345, 1346]\n",
      "[1348, 1349, 1350]\n"
     ]
    },
    {
     "name": "stderr",
     "output_type": "stream",
     "text": [
      "  0%|          | 340/10000000 [00:52<424:46:08,  6.54it/s]"
     ]
    },
    {
     "name": "stdout",
     "output_type": "stream",
     "text": [
      "[1352, 1353, 1354]\n",
      "[1356, 1357, 1358]\n"
     ]
    },
    {
     "name": "stderr",
     "output_type": "stream",
     "text": [
      "  0%|          | 342/10000000 [00:52<423:51:09,  6.55it/s]"
     ]
    },
    {
     "name": "stdout",
     "output_type": "stream",
     "text": [
      "[1360, 1361, 1362]\n",
      "[1364, 1365, 1366]\n"
     ]
    },
    {
     "name": "stderr",
     "output_type": "stream",
     "text": [
      "  0%|          | 344/10000000 [00:52<421:06:50,  6.60it/s]"
     ]
    },
    {
     "name": "stdout",
     "output_type": "stream",
     "text": [
      "[1368, 1369, 1370]\n",
      "[1372, 1373, 1374]\n"
     ]
    },
    {
     "name": "stderr",
     "output_type": "stream",
     "text": [
      "  0%|          | 346/10000000 [00:53<425:52:56,  6.52it/s]"
     ]
    },
    {
     "name": "stdout",
     "output_type": "stream",
     "text": [
      "[1376, 1377, 1378]\n",
      "[1380, 1381, 1382]\n"
     ]
    },
    {
     "name": "stderr",
     "output_type": "stream",
     "text": [
      "  0%|          | 348/10000000 [00:53<418:58:48,  6.63it/s]"
     ]
    },
    {
     "name": "stdout",
     "output_type": "stream",
     "text": [
      "[1384, 1385, 1386]\n",
      "[1388, 1389, 1390]\n"
     ]
    },
    {
     "name": "stderr",
     "output_type": "stream",
     "text": [
      "  0%|          | 350/10000000 [00:53<417:36:03,  6.65it/s]"
     ]
    },
    {
     "name": "stdout",
     "output_type": "stream",
     "text": [
      "[1392, 1393, 1394]\n",
      "[1396, 1397, 1398]\n"
     ]
    },
    {
     "name": "stderr",
     "output_type": "stream",
     "text": [
      "  0%|          | 352/10000000 [00:53<418:12:47,  6.64it/s]"
     ]
    },
    {
     "name": "stdout",
     "output_type": "stream",
     "text": [
      "[1400, 1401, 1402]\n",
      "[1404, 1405, 1406]\n"
     ]
    },
    {
     "name": "stderr",
     "output_type": "stream",
     "text": [
      "  0%|          | 354/10000000 [00:54<417:55:49,  6.65it/s]"
     ]
    },
    {
     "name": "stdout",
     "output_type": "stream",
     "text": [
      "[1408, 1409, 1410]\n",
      "[1412, 1413, 1414]\n"
     ]
    },
    {
     "name": "stderr",
     "output_type": "stream",
     "text": [
      "  0%|          | 356/10000000 [00:54<416:06:42,  6.68it/s]"
     ]
    },
    {
     "name": "stdout",
     "output_type": "stream",
     "text": [
      "[1416, 1417, 1418]\n",
      "[1420, 1421, 1422]\n"
     ]
    },
    {
     "name": "stderr",
     "output_type": "stream",
     "text": [
      "  0%|          | 358/10000000 [00:54<418:35:06,  6.64it/s]"
     ]
    },
    {
     "name": "stdout",
     "output_type": "stream",
     "text": [
      "[1424, 1425, 1426]\n",
      "[1428, 1429, 1430]\n"
     ]
    },
    {
     "name": "stderr",
     "output_type": "stream",
     "text": [
      "  0%|          | 360/10000000 [00:55<419:00:07,  6.63it/s]"
     ]
    },
    {
     "name": "stdout",
     "output_type": "stream",
     "text": [
      "[1432, 1433, 1434]\n",
      "[1436, 1437, 1438]\n"
     ]
    },
    {
     "name": "stderr",
     "output_type": "stream",
     "text": [
      "  0%|          | 362/10000000 [00:55<414:23:57,  6.70it/s]"
     ]
    },
    {
     "name": "stdout",
     "output_type": "stream",
     "text": [
      "[1440, 1441, 1442]\n",
      "[1444, 1445, 1446]\n"
     ]
    },
    {
     "name": "stderr",
     "output_type": "stream",
     "text": [
      "  0%|          | 364/10000000 [00:55<413:07:09,  6.72it/s]"
     ]
    },
    {
     "name": "stdout",
     "output_type": "stream",
     "text": [
      "[1448, 1449, 1450]\n",
      "[1452, 1453, 1454]\n"
     ]
    },
    {
     "name": "stderr",
     "output_type": "stream",
     "text": [
      "  0%|          | 366/10000000 [00:56<415:30:12,  6.69it/s]"
     ]
    },
    {
     "name": "stdout",
     "output_type": "stream",
     "text": [
      "[1456, 1457, 1458]\n",
      "[1460, 1461, 1462]\n"
     ]
    },
    {
     "name": "stderr",
     "output_type": "stream",
     "text": [
      "  0%|          | 368/10000000 [00:56<414:38:48,  6.70it/s]"
     ]
    },
    {
     "name": "stdout",
     "output_type": "stream",
     "text": [
      "[1464, 1465, 1466]\n",
      "[1468, 1469, 1470]\n"
     ]
    },
    {
     "name": "stderr",
     "output_type": "stream",
     "text": [
      "  0%|          | 370/10000000 [00:56<415:01:40,  6.69it/s]"
     ]
    },
    {
     "name": "stdout",
     "output_type": "stream",
     "text": [
      "[1472, 1473, 1474]\n",
      "[1476, 1477, 1478]\n"
     ]
    },
    {
     "name": "stderr",
     "output_type": "stream",
     "text": [
      "  0%|          | 372/10000000 [00:56<416:07:55,  6.67it/s]"
     ]
    },
    {
     "name": "stdout",
     "output_type": "stream",
     "text": [
      "[1480, 1481, 1482]\n",
      "[1484, 1485, 1486]\n"
     ]
    },
    {
     "name": "stderr",
     "output_type": "stream",
     "text": [
      "  0%|          | 374/10000000 [00:57<417:44:45,  6.65it/s]"
     ]
    },
    {
     "name": "stdout",
     "output_type": "stream",
     "text": [
      "[1488, 1489, 1490]\n",
      "[1492, 1493, 1494]\n"
     ]
    },
    {
     "name": "stderr",
     "output_type": "stream",
     "text": [
      "  0%|          | 376/10000000 [00:57<415:02:20,  6.69it/s]"
     ]
    },
    {
     "name": "stdout",
     "output_type": "stream",
     "text": [
      "[1496, 1497, 1498]\n",
      "[1500, 1501, 1502]\n"
     ]
    },
    {
     "name": "stderr",
     "output_type": "stream",
     "text": [
      "  0%|          | 378/10000000 [00:57<415:24:27,  6.69it/s]"
     ]
    },
    {
     "name": "stdout",
     "output_type": "stream",
     "text": [
      "[1504, 1505, 1506]\n",
      "[1508, 1509, 1510]\n"
     ]
    },
    {
     "name": "stderr",
     "output_type": "stream",
     "text": [
      "  0%|          | 380/10000000 [00:58<417:14:00,  6.66it/s]"
     ]
    },
    {
     "name": "stdout",
     "output_type": "stream",
     "text": [
      "[1512, 1513, 1514]\n",
      "[1516, 1517, 1518]\n"
     ]
    },
    {
     "name": "stderr",
     "output_type": "stream",
     "text": [
      "  0%|          | 382/10000000 [00:58<416:12:23,  6.67it/s]"
     ]
    },
    {
     "name": "stdout",
     "output_type": "stream",
     "text": [
      "[1520, 1521, 1522]\n",
      "[1524, 1525, 1526]\n"
     ]
    },
    {
     "name": "stderr",
     "output_type": "stream",
     "text": [
      "  0%|          | 384/10000000 [00:58<421:55:24,  6.58it/s]"
     ]
    },
    {
     "name": "stdout",
     "output_type": "stream",
     "text": [
      "[1528, 1529, 1530]\n",
      "[1532, 1533, 1534]\n"
     ]
    },
    {
     "name": "stderr",
     "output_type": "stream",
     "text": [
      "  0%|          | 386/10000000 [00:59<422:25:53,  6.58it/s]"
     ]
    },
    {
     "name": "stdout",
     "output_type": "stream",
     "text": [
      "[1536, 1537, 1538]\n",
      "[1540, 1541, 1542]\n"
     ]
    },
    {
     "name": "stderr",
     "output_type": "stream",
     "text": [
      "  0%|          | 388/10000000 [00:59<422:06:15,  6.58it/s]"
     ]
    },
    {
     "name": "stdout",
     "output_type": "stream",
     "text": [
      "[1544, 1545, 1546]\n",
      "[1548, 1549, 1550]\n"
     ]
    },
    {
     "name": "stderr",
     "output_type": "stream",
     "text": [
      "  0%|          | 390/10000000 [00:59<423:38:38,  6.56it/s]"
     ]
    },
    {
     "name": "stdout",
     "output_type": "stream",
     "text": [
      "[1552, 1553, 1554]\n",
      "[1556, 1557, 1558]\n"
     ]
    },
    {
     "name": "stderr",
     "output_type": "stream",
     "text": [
      "  0%|          | 392/10000000 [00:59<422:27:29,  6.58it/s]"
     ]
    },
    {
     "name": "stdout",
     "output_type": "stream",
     "text": [
      "[1560, 1561, 1562]\n",
      "[1564, 1565, 1566]\n"
     ]
    },
    {
     "name": "stderr",
     "output_type": "stream",
     "text": [
      "  0%|          | 394/10000000 [01:00<426:21:28,  6.51it/s]"
     ]
    },
    {
     "name": "stdout",
     "output_type": "stream",
     "text": [
      "[1568, 1569, 1570]\n",
      "[1572, 1573, 1574]\n"
     ]
    },
    {
     "name": "stderr",
     "output_type": "stream",
     "text": [
      "  0%|          | 396/10000000 [01:00<419:44:41,  6.62it/s]"
     ]
    },
    {
     "name": "stdout",
     "output_type": "stream",
     "text": [
      "[1576, 1577, 1578]\n",
      "[1580, 1581, 1582]\n"
     ]
    },
    {
     "name": "stderr",
     "output_type": "stream",
     "text": [
      "  0%|          | 398/10000000 [01:00<417:49:04,  6.65it/s]"
     ]
    },
    {
     "name": "stdout",
     "output_type": "stream",
     "text": [
      "[1584, 1585, 1586]\n",
      "[1588, 1589, 1590]\n"
     ]
    },
    {
     "name": "stderr",
     "output_type": "stream",
     "text": [
      "  0%|          | 400/10000000 [01:01<418:53:14,  6.63it/s]"
     ]
    },
    {
     "name": "stdout",
     "output_type": "stream",
     "text": [
      "[1592, 1593, 1594]\n",
      "[1596, 1597, 1598]\n"
     ]
    },
    {
     "name": "stderr",
     "output_type": "stream",
     "text": [
      "  0%|          | 402/10000000 [01:01<422:11:17,  6.58it/s]"
     ]
    },
    {
     "name": "stdout",
     "output_type": "stream",
     "text": [
      "[1600, 1601, 1602]\n",
      "[1604, 1605, 1606]\n"
     ]
    },
    {
     "name": "stderr",
     "output_type": "stream",
     "text": [
      "  0%|          | 404/10000000 [01:01<418:22:31,  6.64it/s]"
     ]
    },
    {
     "name": "stdout",
     "output_type": "stream",
     "text": [
      "[1608, 1609, 1610]\n",
      "[1612, 1613, 1614]\n"
     ]
    },
    {
     "name": "stderr",
     "output_type": "stream",
     "text": [
      "  0%|          | 406/10000000 [01:02<415:25:38,  6.69it/s]"
     ]
    },
    {
     "name": "stdout",
     "output_type": "stream",
     "text": [
      "[1616, 1617, 1618]\n",
      "[1620, 1621, 1622]\n"
     ]
    },
    {
     "name": "stderr",
     "output_type": "stream",
     "text": [
      "  0%|          | 408/10000000 [01:02<412:40:45,  6.73it/s]"
     ]
    },
    {
     "name": "stdout",
     "output_type": "stream",
     "text": [
      "[1624, 1625, 1626]\n",
      "[1628, 1629, 1630]\n"
     ]
    },
    {
     "name": "stderr",
     "output_type": "stream",
     "text": [
      "  0%|          | 410/10000000 [01:02<412:13:44,  6.74it/s]"
     ]
    },
    {
     "name": "stdout",
     "output_type": "stream",
     "text": [
      "[1632, 1633, 1634]\n",
      "[1636, 1637, 1638]\n"
     ]
    },
    {
     "name": "stderr",
     "output_type": "stream",
     "text": [
      "  0%|          | 412/10000000 [01:02<414:21:56,  6.70it/s]"
     ]
    },
    {
     "name": "stdout",
     "output_type": "stream",
     "text": [
      "[1640, 1641, 1642]\n",
      "[1644, 1645, 1646]\n"
     ]
    },
    {
     "name": "stderr",
     "output_type": "stream",
     "text": [
      "  0%|          | 414/10000000 [01:03<417:19:17,  6.66it/s]"
     ]
    },
    {
     "name": "stdout",
     "output_type": "stream",
     "text": [
      "[1648, 1649, 1650]\n",
      "[1652, 1653, 1654]\n"
     ]
    },
    {
     "name": "stderr",
     "output_type": "stream",
     "text": [
      "  0%|          | 416/10000000 [01:03<419:07:45,  6.63it/s]"
     ]
    },
    {
     "name": "stdout",
     "output_type": "stream",
     "text": [
      "[1656, 1657, 1658]\n",
      "[1660, 1661, 1662]\n"
     ]
    },
    {
     "name": "stderr",
     "output_type": "stream",
     "text": [
      "  0%|          | 418/10000000 [01:03<417:00:51,  6.66it/s]"
     ]
    },
    {
     "name": "stdout",
     "output_type": "stream",
     "text": [
      "[1664, 1665, 1666]\n",
      "[1668, 1669, 1670]\n"
     ]
    },
    {
     "name": "stderr",
     "output_type": "stream",
     "text": [
      "  0%|          | 420/10000000 [01:04<414:21:52,  6.70it/s]"
     ]
    },
    {
     "name": "stdout",
     "output_type": "stream",
     "text": [
      "[1672, 1673, 1674]\n",
      "[1676, 1677, 1678]\n"
     ]
    },
    {
     "name": "stderr",
     "output_type": "stream",
     "text": [
      "  0%|          | 422/10000000 [01:04<413:58:12,  6.71it/s]"
     ]
    },
    {
     "name": "stdout",
     "output_type": "stream",
     "text": [
      "[1680, 1681, 1682]\n",
      "[1684, 1685, 1686]\n"
     ]
    },
    {
     "name": "stderr",
     "output_type": "stream",
     "text": [
      "  0%|          | 424/10000000 [01:04<415:34:34,  6.68it/s]"
     ]
    },
    {
     "name": "stdout",
     "output_type": "stream",
     "text": [
      "[1688, 1689, 1690]\n",
      "[1692, 1693, 1694]\n"
     ]
    },
    {
     "name": "stderr",
     "output_type": "stream",
     "text": [
      "  0%|          | 426/10000000 [01:05<412:46:18,  6.73it/s]"
     ]
    },
    {
     "name": "stdout",
     "output_type": "stream",
     "text": [
      "[1696, 1697, 1698]\n",
      "[1700, 1701, 1702]\n"
     ]
    },
    {
     "name": "stderr",
     "output_type": "stream",
     "text": [
      "  0%|          | 428/10000000 [01:05<413:13:43,  6.72it/s]"
     ]
    },
    {
     "name": "stdout",
     "output_type": "stream",
     "text": [
      "[1704, 1705, 1706]\n",
      "[1708, 1709, 1710]\n"
     ]
    },
    {
     "name": "stderr",
     "output_type": "stream",
     "text": [
      "  0%|          | 430/10000000 [01:05<411:30:34,  6.75it/s]"
     ]
    },
    {
     "name": "stdout",
     "output_type": "stream",
     "text": [
      "[1712, 1713, 1714]\n",
      "[1716, 1717, 1718]\n"
     ]
    },
    {
     "name": "stderr",
     "output_type": "stream",
     "text": [
      "  0%|          | 432/10000000 [01:05<411:06:29,  6.76it/s]"
     ]
    },
    {
     "name": "stdout",
     "output_type": "stream",
     "text": [
      "[1720, 1721, 1722]\n",
      "[1724, 1725, 1726]\n"
     ]
    },
    {
     "name": "stderr",
     "output_type": "stream",
     "text": [
      "  0%|          | 434/10000000 [01:06<418:14:39,  6.64it/s]"
     ]
    },
    {
     "name": "stdout",
     "output_type": "stream",
     "text": [
      "[1728, 1729, 1730]\n",
      "[1732, 1733, 1734]\n"
     ]
    },
    {
     "name": "stderr",
     "output_type": "stream",
     "text": [
      "  0%|          | 436/10000000 [01:06<420:37:41,  6.60it/s]"
     ]
    },
    {
     "name": "stdout",
     "output_type": "stream",
     "text": [
      "[1736, 1737, 1738]\n",
      "[1740, 1741, 1742]\n"
     ]
    },
    {
     "name": "stderr",
     "output_type": "stream",
     "text": [
      "  0%|          | 438/10000000 [01:06<424:29:06,  6.54it/s]"
     ]
    },
    {
     "name": "stdout",
     "output_type": "stream",
     "text": [
      "[1744, 1745, 1746]\n",
      "[1748, 1749, 1750]\n"
     ]
    },
    {
     "name": "stderr",
     "output_type": "stream",
     "text": [
      "  0%|          | 440/10000000 [01:07<423:45:15,  6.55it/s]"
     ]
    },
    {
     "name": "stdout",
     "output_type": "stream",
     "text": [
      "[1752, 1753, 1754]\n",
      "[1756, 1757, 1758]\n"
     ]
    },
    {
     "name": "stderr",
     "output_type": "stream",
     "text": [
      "  0%|          | 442/10000000 [01:07<419:01:04,  6.63it/s]"
     ]
    },
    {
     "name": "stdout",
     "output_type": "stream",
     "text": [
      "[1760, 1761, 1762]\n",
      "[1764, 1765, 1766]\n"
     ]
    },
    {
     "name": "stderr",
     "output_type": "stream",
     "text": [
      "  0%|          | 444/10000000 [01:07<423:16:47,  6.56it/s]"
     ]
    },
    {
     "name": "stdout",
     "output_type": "stream",
     "text": [
      "[1768, 1769, 1770]\n",
      "[1772, 1773, 1774]\n"
     ]
    },
    {
     "name": "stderr",
     "output_type": "stream",
     "text": [
      "  0%|          | 446/10000000 [01:08<423:24:55,  6.56it/s]"
     ]
    },
    {
     "name": "stdout",
     "output_type": "stream",
     "text": [
      "[1776, 1777, 1778]\n",
      "[1780, 1781, 1782]\n"
     ]
    },
    {
     "name": "stderr",
     "output_type": "stream",
     "text": [
      "  0%|          | 448/10000000 [01:08<422:01:04,  6.58it/s]"
     ]
    },
    {
     "name": "stdout",
     "output_type": "stream",
     "text": [
      "[1784, 1785, 1786]\n",
      "[1788, 1789, 1790]\n"
     ]
    },
    {
     "name": "stderr",
     "output_type": "stream",
     "text": [
      "  0%|          | 450/10000000 [01:08<420:02:43,  6.61it/s]"
     ]
    },
    {
     "name": "stdout",
     "output_type": "stream",
     "text": [
      "[1792, 1793, 1794]\n",
      "[1796, 1797, 1798]\n"
     ]
    },
    {
     "name": "stderr",
     "output_type": "stream",
     "text": [
      "  0%|          | 452/10000000 [01:09<426:40:31,  6.51it/s]"
     ]
    },
    {
     "name": "stdout",
     "output_type": "stream",
     "text": [
      "[1800, 1801, 1802]\n",
      "[1804, 1805, 1806]\n"
     ]
    },
    {
     "name": "stderr",
     "output_type": "stream",
     "text": [
      "  0%|          | 454/10000000 [01:09<432:44:19,  6.42it/s]"
     ]
    },
    {
     "name": "stdout",
     "output_type": "stream",
     "text": [
      "[1808, 1809, 1810]\n",
      "[1812, 1813, 1814]\n"
     ]
    },
    {
     "name": "stderr",
     "output_type": "stream",
     "text": [
      "  0%|          | 456/10000000 [01:09<430:02:13,  6.46it/s]"
     ]
    },
    {
     "name": "stdout",
     "output_type": "stream",
     "text": [
      "[1816, 1817, 1818]\n",
      "[1820, 1821, 1822]\n"
     ]
    },
    {
     "name": "stderr",
     "output_type": "stream",
     "text": [
      "  0%|          | 458/10000000 [01:09<430:35:58,  6.45it/s]"
     ]
    },
    {
     "name": "stdout",
     "output_type": "stream",
     "text": [
      "[1824, 1825, 1826]\n",
      "[1828, 1829, 1830]\n"
     ]
    },
    {
     "name": "stderr",
     "output_type": "stream",
     "text": [
      "  0%|          | 460/10000000 [01:10<426:41:46,  6.51it/s]"
     ]
    },
    {
     "name": "stdout",
     "output_type": "stream",
     "text": [
      "[1832, 1833, 1834]\n",
      "[1836, 1837, 1838]\n"
     ]
    },
    {
     "name": "stderr",
     "output_type": "stream",
     "text": [
      "  0%|          | 462/10000000 [01:10<422:27:47,  6.57it/s]"
     ]
    },
    {
     "name": "stdout",
     "output_type": "stream",
     "text": [
      "[1840, 1841, 1842]\n",
      "[1844, 1845, 1846]\n"
     ]
    },
    {
     "name": "stderr",
     "output_type": "stream",
     "text": [
      "  0%|          | 464/10000000 [01:10<425:50:42,  6.52it/s]"
     ]
    },
    {
     "name": "stdout",
     "output_type": "stream",
     "text": [
      "[1848, 1849, 1850]\n",
      "[1852, 1853, 1854]\n"
     ]
    },
    {
     "name": "stderr",
     "output_type": "stream",
     "text": [
      "  0%|          | 466/10000000 [01:11<425:43:59,  6.52it/s]"
     ]
    },
    {
     "name": "stdout",
     "output_type": "stream",
     "text": [
      "[1856, 1857, 1858]\n",
      "[1860, 1861, 1862]\n"
     ]
    },
    {
     "name": "stderr",
     "output_type": "stream",
     "text": [
      "  0%|          | 468/10000000 [01:11<419:29:28,  6.62it/s]"
     ]
    },
    {
     "name": "stdout",
     "output_type": "stream",
     "text": [
      "[1864, 1865, 1866]\n",
      "[1868, 1869, 1870]\n"
     ]
    },
    {
     "name": "stderr",
     "output_type": "stream",
     "text": [
      "  0%|          | 470/10000000 [01:11<427:18:47,  6.50it/s]"
     ]
    },
    {
     "name": "stdout",
     "output_type": "stream",
     "text": [
      "[1872, 1873, 1874]\n",
      "[1876, 1877, 1878]\n"
     ]
    },
    {
     "name": "stderr",
     "output_type": "stream",
     "text": [
      "  0%|          | 472/10000000 [01:12<421:17:13,  6.59it/s]"
     ]
    },
    {
     "name": "stdout",
     "output_type": "stream",
     "text": [
      "[1880, 1881, 1882]\n",
      "[1884, 1885, 1886]\n"
     ]
    },
    {
     "name": "stderr",
     "output_type": "stream",
     "text": [
      "  0%|          | 474/10000000 [01:12<419:11:24,  6.63it/s]"
     ]
    },
    {
     "name": "stdout",
     "output_type": "stream",
     "text": [
      "[1888, 1889, 1890]\n",
      "[1892, 1893, 1894]\n"
     ]
    },
    {
     "name": "stderr",
     "output_type": "stream",
     "text": [
      "  0%|          | 476/10000000 [01:12<420:39:41,  6.60it/s]"
     ]
    },
    {
     "name": "stdout",
     "output_type": "stream",
     "text": [
      "[1896, 1897, 1898]\n",
      "[1900, 1901, 1902]\n"
     ]
    },
    {
     "name": "stderr",
     "output_type": "stream",
     "text": [
      "  0%|          | 478/10000000 [01:12<420:11:25,  6.61it/s]"
     ]
    },
    {
     "name": "stdout",
     "output_type": "stream",
     "text": [
      "[1904, 1905, 1906]\n",
      "[1908, 1909, 1910]\n"
     ]
    },
    {
     "name": "stderr",
     "output_type": "stream",
     "text": [
      "  0%|          | 480/10000000 [01:13<421:01:03,  6.60it/s]"
     ]
    },
    {
     "name": "stdout",
     "output_type": "stream",
     "text": [
      "[1912, 1913, 1914]\n",
      "[1916, 1917, 1918]\n"
     ]
    },
    {
     "name": "stderr",
     "output_type": "stream",
     "text": [
      "  0%|          | 482/10000000 [01:13<424:40:16,  6.54it/s]"
     ]
    },
    {
     "name": "stdout",
     "output_type": "stream",
     "text": [
      "[1920, 1921, 1922]\n",
      "[1924, 1925, 1926]\n"
     ]
    },
    {
     "name": "stderr",
     "output_type": "stream",
     "text": [
      "  0%|          | 484/10000000 [01:13<427:58:38,  6.49it/s]"
     ]
    },
    {
     "name": "stdout",
     "output_type": "stream",
     "text": [
      "[1928, 1929, 1930]\n",
      "[1932, 1933, 1934]\n"
     ]
    },
    {
     "name": "stderr",
     "output_type": "stream",
     "text": [
      "  0%|          | 486/10000000 [01:14<441:59:06,  6.28it/s]"
     ]
    },
    {
     "name": "stdout",
     "output_type": "stream",
     "text": [
      "[1936, 1937, 1938]\n",
      "[1940, 1941, 1942]\n"
     ]
    },
    {
     "name": "stderr",
     "output_type": "stream",
     "text": [
      "  0%|          | 488/10000000 [01:14<429:48:28,  6.46it/s]"
     ]
    },
    {
     "name": "stdout",
     "output_type": "stream",
     "text": [
      "[1944, 1945, 1946]\n",
      "[1948, 1949, 1950]\n"
     ]
    },
    {
     "name": "stderr",
     "output_type": "stream",
     "text": [
      "  0%|          | 490/10000000 [01:14<428:20:20,  6.48it/s]"
     ]
    },
    {
     "name": "stdout",
     "output_type": "stream",
     "text": [
      "[1952, 1953, 1954]\n",
      "[1956, 1957, 1958]\n"
     ]
    },
    {
     "name": "stderr",
     "output_type": "stream",
     "text": [
      "  0%|          | 492/10000000 [01:15<426:42:13,  6.51it/s]"
     ]
    },
    {
     "name": "stdout",
     "output_type": "stream",
     "text": [
      "[1960, 1961, 1962]\n",
      "[1964, 1965, 1966]\n"
     ]
    },
    {
     "name": "stderr",
     "output_type": "stream",
     "text": [
      "  0%|          | 494/10000000 [01:15<424:11:35,  6.55it/s]"
     ]
    },
    {
     "name": "stdout",
     "output_type": "stream",
     "text": [
      "[1968, 1969, 1970]\n",
      "[1972, 1973, 1974]\n"
     ]
    },
    {
     "name": "stderr",
     "output_type": "stream",
     "text": [
      "  0%|          | 496/10000000 [01:15<420:17:03,  6.61it/s]"
     ]
    },
    {
     "name": "stdout",
     "output_type": "stream",
     "text": [
      "[1976, 1977, 1978]\n",
      "[1980, 1981, 1982]\n"
     ]
    },
    {
     "name": "stderr",
     "output_type": "stream",
     "text": [
      "  0%|          | 498/10000000 [01:16<419:18:03,  6.62it/s]"
     ]
    },
    {
     "name": "stdout",
     "output_type": "stream",
     "text": [
      "[1984, 1985, 1986]\n",
      "[1988, 1989, 1990]\n"
     ]
    },
    {
     "name": "stderr",
     "output_type": "stream",
     "text": [
      "  0%|          | 500/10000000 [01:16<416:55:01,  6.66it/s]"
     ]
    },
    {
     "name": "stdout",
     "output_type": "stream",
     "text": [
      "[1992, 1993, 1994]\n",
      "[1996, 1997, 1998]\n"
     ]
    },
    {
     "name": "stderr",
     "output_type": "stream",
     "text": [
      "  0%|          | 502/10000000 [01:16<414:51:28,  6.70it/s]"
     ]
    },
    {
     "name": "stdout",
     "output_type": "stream",
     "text": [
      "[2000, 2001, 2002]\n",
      "[2004, 2005, 2006]\n"
     ]
    },
    {
     "name": "stderr",
     "output_type": "stream",
     "text": [
      "  0%|          | 504/10000000 [01:16<420:42:29,  6.60it/s]"
     ]
    },
    {
     "name": "stdout",
     "output_type": "stream",
     "text": [
      "[2008, 2009, 2010]\n",
      "[2012, 2013, 2014]\n"
     ]
    },
    {
     "name": "stderr",
     "output_type": "stream",
     "text": [
      "  0%|          | 506/10000000 [01:17<421:10:56,  6.59it/s]"
     ]
    },
    {
     "name": "stdout",
     "output_type": "stream",
     "text": [
      "[2016, 2017, 2018]\n",
      "[2020, 2021, 2022]\n"
     ]
    },
    {
     "name": "stderr",
     "output_type": "stream",
     "text": [
      "  0%|          | 508/10000000 [01:17<417:06:26,  6.66it/s]"
     ]
    },
    {
     "name": "stdout",
     "output_type": "stream",
     "text": [
      "[2024, 2025, 2026]\n",
      "[2028, 2029, 2030]\n"
     ]
    },
    {
     "name": "stderr",
     "output_type": "stream",
     "text": [
      "  0%|          | 510/10000000 [01:17<418:28:53,  6.64it/s]"
     ]
    },
    {
     "name": "stdout",
     "output_type": "stream",
     "text": [
      "[2032, 2033, 2034]\n",
      "[2036, 2037, 2038]\n"
     ]
    },
    {
     "name": "stderr",
     "output_type": "stream",
     "text": [
      "  0%|          | 512/10000000 [01:18<417:23:02,  6.65it/s]"
     ]
    },
    {
     "name": "stdout",
     "output_type": "stream",
     "text": [
      "[2040, 2041, 2042]\n",
      "[2044, 2045, 2046]\n"
     ]
    },
    {
     "name": "stderr",
     "output_type": "stream",
     "text": [
      "  0%|          | 514/10000000 [01:18<418:55:39,  6.63it/s]"
     ]
    },
    {
     "name": "stdout",
     "output_type": "stream",
     "text": [
      "[2048, 2049, 2050]\n",
      "[2052, 2053, 2054]\n"
     ]
    },
    {
     "name": "stderr",
     "output_type": "stream",
     "text": [
      "  0%|          | 516/10000000 [01:18<424:39:34,  6.54it/s]"
     ]
    },
    {
     "name": "stdout",
     "output_type": "stream",
     "text": [
      "[2056, 2057, 2058]\n",
      "[2060, 2061, 2062]\n"
     ]
    },
    {
     "name": "stderr",
     "output_type": "stream",
     "text": [
      "  0%|          | 518/10000000 [01:19<429:09:03,  6.47it/s]"
     ]
    },
    {
     "name": "stdout",
     "output_type": "stream",
     "text": [
      "[2064, 2065, 2066]\n",
      "[2068, 2069, 2070]\n"
     ]
    },
    {
     "name": "stderr",
     "output_type": "stream",
     "text": [
      "  0%|          | 520/10000000 [01:19<422:33:28,  6.57it/s]"
     ]
    },
    {
     "name": "stdout",
     "output_type": "stream",
     "text": [
      "[2072, 2073, 2074]\n",
      "[2076, 2077, 2078]\n"
     ]
    },
    {
     "name": "stderr",
     "output_type": "stream",
     "text": [
      "  0%|          | 522/10000000 [01:19<417:30:24,  6.65it/s]"
     ]
    },
    {
     "name": "stdout",
     "output_type": "stream",
     "text": [
      "[2080, 2081, 2082]\n",
      "[2084, 2085, 2086]\n"
     ]
    },
    {
     "name": "stderr",
     "output_type": "stream",
     "text": [
      "  0%|          | 524/10000000 [01:19<418:03:07,  6.64it/s]"
     ]
    },
    {
     "name": "stdout",
     "output_type": "stream",
     "text": [
      "[2088, 2089, 2090]\n",
      "[2092, 2093, 2094]\n"
     ]
    },
    {
     "name": "stderr",
     "output_type": "stream",
     "text": [
      "  0%|          | 526/10000000 [01:20<413:28:05,  6.72it/s]"
     ]
    },
    {
     "name": "stdout",
     "output_type": "stream",
     "text": [
      "[2096, 2097, 2098]\n",
      "[2100, 2101, 2102]\n"
     ]
    },
    {
     "name": "stderr",
     "output_type": "stream",
     "text": [
      "  0%|          | 528/10000000 [01:20<411:25:42,  6.75it/s]"
     ]
    },
    {
     "name": "stdout",
     "output_type": "stream",
     "text": [
      "[2104, 2105, 2106]\n",
      "[2108, 2109, 2110]\n"
     ]
    },
    {
     "name": "stderr",
     "output_type": "stream",
     "text": [
      "  0%|          | 530/10000000 [01:20<427:59:13,  6.49it/s]"
     ]
    },
    {
     "name": "stdout",
     "output_type": "stream",
     "text": [
      "[2112, 2113, 2114]\n",
      "[2116, 2117, 2118]\n"
     ]
    },
    {
     "name": "stderr",
     "output_type": "stream",
     "text": [
      "  0%|          | 532/10000000 [01:21<418:09:13,  6.64it/s]"
     ]
    },
    {
     "name": "stdout",
     "output_type": "stream",
     "text": [
      "[2120, 2121, 2122]\n",
      "[2124, 2125, 2126]\n"
     ]
    },
    {
     "name": "stderr",
     "output_type": "stream",
     "text": [
      "  0%|          | 534/10000000 [01:21<418:32:04,  6.64it/s]"
     ]
    },
    {
     "name": "stdout",
     "output_type": "stream",
     "text": [
      "[2128, 2129, 2130]\n",
      "[2132, 2133, 2134]\n"
     ]
    },
    {
     "name": "stderr",
     "output_type": "stream",
     "text": [
      "  0%|          | 536/10000000 [01:21<417:13:02,  6.66it/s]"
     ]
    },
    {
     "name": "stdout",
     "output_type": "stream",
     "text": [
      "[2136, 2137, 2138]\n",
      "[2140, 2141, 2142]\n"
     ]
    },
    {
     "name": "stderr",
     "output_type": "stream",
     "text": [
      "  0%|          | 538/10000000 [01:22<418:30:38,  6.64it/s]"
     ]
    },
    {
     "name": "stdout",
     "output_type": "stream",
     "text": [
      "[2144, 2145, 2146]\n",
      "[2148, 2149, 2150]\n"
     ]
    },
    {
     "name": "stderr",
     "output_type": "stream",
     "text": [
      "  0%|          | 540/10000000 [01:22<435:25:53,  6.38it/s]"
     ]
    },
    {
     "name": "stdout",
     "output_type": "stream",
     "text": [
      "[2152, 2153, 2154]\n",
      "[2156, 2157, 2158]\n"
     ]
    },
    {
     "name": "stderr",
     "output_type": "stream",
     "text": [
      "  0%|          | 542/10000000 [01:22<422:16:47,  6.58it/s]"
     ]
    },
    {
     "name": "stdout",
     "output_type": "stream",
     "text": [
      "[2160, 2161, 2162]\n",
      "[2164, 2165, 2166]\n"
     ]
    },
    {
     "name": "stderr",
     "output_type": "stream",
     "text": [
      "  0%|          | 544/10000000 [01:23<422:05:10,  6.58it/s]"
     ]
    },
    {
     "name": "stdout",
     "output_type": "stream",
     "text": [
      "[2168, 2169, 2170]\n",
      "[2172, 2173, 2174]\n"
     ]
    },
    {
     "name": "stderr",
     "output_type": "stream",
     "text": [
      "  0%|          | 546/10000000 [01:23<423:08:59,  6.56it/s]"
     ]
    },
    {
     "name": "stdout",
     "output_type": "stream",
     "text": [
      "[2176, 2177, 2178]\n",
      "[2180, 2181, 2182]\n"
     ]
    },
    {
     "name": "stderr",
     "output_type": "stream",
     "text": [
      "  0%|          | 548/10000000 [01:23<415:57:31,  6.68it/s]"
     ]
    },
    {
     "name": "stdout",
     "output_type": "stream",
     "text": [
      "[2184, 2185, 2186]\n",
      "[2188, 2189, 2190]\n"
     ]
    },
    {
     "name": "stderr",
     "output_type": "stream",
     "text": [
      "  0%|          | 550/10000000 [01:23<417:40:54,  6.65it/s]"
     ]
    },
    {
     "name": "stdout",
     "output_type": "stream",
     "text": [
      "[2192, 2193, 2194]\n",
      "[2196, 2197, 2198]\n"
     ]
    },
    {
     "name": "stderr",
     "output_type": "stream",
     "text": [
      "  0%|          | 552/10000000 [01:24<413:42:46,  6.71it/s]"
     ]
    },
    {
     "name": "stdout",
     "output_type": "stream",
     "text": [
      "[2200, 2201, 2202]\n",
      "[2204, 2205, 2206]\n"
     ]
    },
    {
     "name": "stderr",
     "output_type": "stream",
     "text": [
      "  0%|          | 554/10000000 [01:24<411:10:05,  6.76it/s]"
     ]
    },
    {
     "name": "stdout",
     "output_type": "stream",
     "text": [
      "[2208, 2209, 2210]\n",
      "[2212, 2213, 2214]\n"
     ]
    },
    {
     "name": "stderr",
     "output_type": "stream",
     "text": [
      "  0%|          | 556/10000000 [01:24<407:39:08,  6.81it/s]"
     ]
    },
    {
     "name": "stdout",
     "output_type": "stream",
     "text": [
      "[2216, 2217, 2218]\n",
      "[2220, 2221, 2222]\n"
     ]
    },
    {
     "name": "stderr",
     "output_type": "stream",
     "text": [
      "  0%|          | 558/10000000 [01:25<418:31:55,  6.64it/s]"
     ]
    },
    {
     "name": "stdout",
     "output_type": "stream",
     "text": [
      "[2224, 2225, 2226]\n",
      "[2228, 2229, 2230]\n"
     ]
    },
    {
     "name": "stderr",
     "output_type": "stream",
     "text": [
      "  0%|          | 560/10000000 [01:25<420:20:04,  6.61it/s]"
     ]
    },
    {
     "name": "stdout",
     "output_type": "stream",
     "text": [
      "[2232, 2233, 2234]\n",
      "[2236, 2237, 2238]\n"
     ]
    },
    {
     "name": "stderr",
     "output_type": "stream",
     "text": [
      "  0%|          | 562/10000000 [01:25<414:53:43,  6.69it/s]"
     ]
    },
    {
     "name": "stdout",
     "output_type": "stream",
     "text": [
      "[2240, 2241, 2242]\n",
      "[2244, 2245, 2246]\n"
     ]
    },
    {
     "name": "stderr",
     "output_type": "stream",
     "text": [
      "  0%|          | 564/10000000 [01:26<412:13:21,  6.74it/s]"
     ]
    },
    {
     "name": "stdout",
     "output_type": "stream",
     "text": [
      "[2248, 2249, 2250]\n",
      "[2252, 2253, 2254]\n"
     ]
    },
    {
     "name": "stderr",
     "output_type": "stream",
     "text": [
      "  0%|          | 566/10000000 [01:26<410:43:35,  6.76it/s]"
     ]
    },
    {
     "name": "stdout",
     "output_type": "stream",
     "text": [
      "[2256, 2257, 2258]\n",
      "[2260, 2261, 2262]\n"
     ]
    },
    {
     "name": "stderr",
     "output_type": "stream",
     "text": [
      "  0%|          | 568/10000000 [01:26<407:58:25,  6.81it/s]"
     ]
    },
    {
     "name": "stdout",
     "output_type": "stream",
     "text": [
      "[2264, 2265, 2266]\n",
      "[2268, 2269, 2270]\n"
     ]
    },
    {
     "name": "stderr",
     "output_type": "stream",
     "text": [
      "  0%|          | 570/10000000 [01:26<414:23:47,  6.70it/s]"
     ]
    },
    {
     "name": "stdout",
     "output_type": "stream",
     "text": [
      "[2272, 2273, 2274]\n",
      "[2276, 2277, 2278]\n"
     ]
    },
    {
     "name": "stderr",
     "output_type": "stream",
     "text": [
      "  0%|          | 572/10000000 [01:27<415:39:51,  6.68it/s]"
     ]
    },
    {
     "name": "stdout",
     "output_type": "stream",
     "text": [
      "[2280, 2281, 2282]\n",
      "[2284, 2285, 2286]\n"
     ]
    },
    {
     "name": "stderr",
     "output_type": "stream",
     "text": [
      "  0%|          | 574/10000000 [01:27<413:24:42,  6.72it/s]"
     ]
    },
    {
     "name": "stdout",
     "output_type": "stream",
     "text": [
      "[2288, 2289, 2290]\n",
      "[2292, 2293, 2294]\n"
     ]
    },
    {
     "name": "stderr",
     "output_type": "stream",
     "text": [
      "  0%|          | 576/10000000 [01:27<409:33:22,  6.78it/s]"
     ]
    },
    {
     "name": "stdout",
     "output_type": "stream",
     "text": [
      "[2296, 2297, 2298]\n",
      "[2300, 2301, 2302]\n"
     ]
    },
    {
     "name": "stderr",
     "output_type": "stream",
     "text": [
      "  0%|          | 578/10000000 [01:28<412:22:36,  6.74it/s]"
     ]
    },
    {
     "name": "stdout",
     "output_type": "stream",
     "text": [
      "[2304, 2305, 2306]\n",
      "[2308, 2309, 2310]\n"
     ]
    },
    {
     "name": "stderr",
     "output_type": "stream",
     "text": [
      "  0%|          | 580/10000000 [01:28<411:06:32,  6.76it/s]"
     ]
    },
    {
     "name": "stdout",
     "output_type": "stream",
     "text": [
      "[2312, 2313, 2314]\n",
      "[2316, 2317, 2318]\n"
     ]
    },
    {
     "name": "stderr",
     "output_type": "stream",
     "text": [
      "  0%|          | 582/10000000 [01:28<409:09:04,  6.79it/s]"
     ]
    },
    {
     "name": "stdout",
     "output_type": "stream",
     "text": [
      "[2320, 2321, 2322]\n",
      "[2324, 2325, 2326]\n"
     ]
    },
    {
     "name": "stderr",
     "output_type": "stream",
     "text": [
      "  0%|          | 584/10000000 [01:28<411:45:21,  6.75it/s]"
     ]
    },
    {
     "name": "stdout",
     "output_type": "stream",
     "text": [
      "[2328, 2329, 2330]\n",
      "[2332, 2333, 2334]\n"
     ]
    },
    {
     "name": "stderr",
     "output_type": "stream",
     "text": [
      "  0%|          | 586/10000000 [01:29<415:04:52,  6.69it/s]"
     ]
    },
    {
     "name": "stdout",
     "output_type": "stream",
     "text": [
      "[2336, 2337, 2338]\n",
      "[2340, 2341, 2342]\n"
     ]
    },
    {
     "name": "stderr",
     "output_type": "stream",
     "text": [
      "  0%|          | 588/10000000 [01:29<418:36:18,  6.64it/s]"
     ]
    },
    {
     "name": "stdout",
     "output_type": "stream",
     "text": [
      "[2344, 2345, 2346]\n",
      "[2348, 2349, 2350]\n"
     ]
    },
    {
     "name": "stderr",
     "output_type": "stream",
     "text": [
      "  0%|          | 590/10000000 [01:29<423:35:28,  6.56it/s]"
     ]
    },
    {
     "name": "stdout",
     "output_type": "stream",
     "text": [
      "[2352, 2353, 2354]\n",
      "[2356, 2357, 2358]\n"
     ]
    },
    {
     "name": "stderr",
     "output_type": "stream",
     "text": [
      "  0%|          | 592/10000000 [01:30<420:49:14,  6.60it/s]"
     ]
    },
    {
     "name": "stdout",
     "output_type": "stream",
     "text": [
      "[2360, 2361, 2362]\n",
      "[2364, 2365, 2366]\n"
     ]
    },
    {
     "name": "stderr",
     "output_type": "stream",
     "text": [
      "  0%|          | 594/10000000 [01:30<413:28:55,  6.72it/s]"
     ]
    },
    {
     "name": "stdout",
     "output_type": "stream",
     "text": [
      "[2368, 2369, 2370]\n",
      "[2372, 2373, 2374]\n"
     ]
    },
    {
     "name": "stderr",
     "output_type": "stream",
     "text": [
      "  0%|          | 596/10000000 [01:30<418:38:32,  6.63it/s]"
     ]
    },
    {
     "name": "stdout",
     "output_type": "stream",
     "text": [
      "[2376, 2377, 2378]\n",
      "[2380, 2381, 2382]\n"
     ]
    },
    {
     "name": "stderr",
     "output_type": "stream",
     "text": [
      "  0%|          | 598/10000000 [01:31<415:51:30,  6.68it/s]"
     ]
    },
    {
     "name": "stdout",
     "output_type": "stream",
     "text": [
      "[2384, 2385, 2386]\n",
      "[2388, 2389, 2390]\n"
     ]
    },
    {
     "name": "stderr",
     "output_type": "stream",
     "text": [
      "  0%|          | 600/10000000 [01:31<412:20:27,  6.74it/s]"
     ]
    },
    {
     "name": "stdout",
     "output_type": "stream",
     "text": [
      "[2392, 2393, 2394]\n",
      "[2396, 2397, 2398]\n"
     ]
    },
    {
     "name": "stderr",
     "output_type": "stream",
     "text": [
      "  0%|          | 602/10000000 [01:31<411:08:16,  6.76it/s]"
     ]
    },
    {
     "name": "stdout",
     "output_type": "stream",
     "text": [
      "[2400, 2401, 2402]\n",
      "[2404, 2405, 2406]\n"
     ]
    },
    {
     "name": "stderr",
     "output_type": "stream",
     "text": [
      "  0%|          | 604/10000000 [01:31<410:06:30,  6.77it/s]"
     ]
    },
    {
     "name": "stdout",
     "output_type": "stream",
     "text": [
      "[2408, 2409, 2410]\n",
      "[2412, 2413, 2414]\n"
     ]
    },
    {
     "name": "stderr",
     "output_type": "stream",
     "text": [
      "  0%|          | 606/10000000 [01:32<408:58:12,  6.79it/s]"
     ]
    },
    {
     "name": "stdout",
     "output_type": "stream",
     "text": [
      "[2416, 2417, 2418]\n",
      "[2420, 2421, 2422]\n"
     ]
    },
    {
     "name": "stderr",
     "output_type": "stream",
     "text": [
      "  0%|          | 608/10000000 [01:32<408:08:52,  6.81it/s]"
     ]
    },
    {
     "name": "stdout",
     "output_type": "stream",
     "text": [
      "[2424, 2425, 2426]\n",
      "[2428, 2429, 2430]\n"
     ]
    },
    {
     "name": "stderr",
     "output_type": "stream",
     "text": [
      "  0%|          | 610/10000000 [01:32<411:42:57,  6.75it/s]"
     ]
    },
    {
     "name": "stdout",
     "output_type": "stream",
     "text": [
      "[2432, 2433, 2434]\n",
      "[2436, 2437, 2438]\n"
     ]
    },
    {
     "name": "stderr",
     "output_type": "stream",
     "text": [
      "  0%|          | 612/10000000 [01:33<418:12:57,  6.64it/s]"
     ]
    },
    {
     "name": "stdout",
     "output_type": "stream",
     "text": [
      "[2440, 2441, 2442]\n",
      "[2444, 2445, 2446]\n"
     ]
    },
    {
     "name": "stderr",
     "output_type": "stream",
     "text": [
      "  0%|          | 614/10000000 [01:33<426:22:41,  6.51it/s]"
     ]
    },
    {
     "name": "stdout",
     "output_type": "stream",
     "text": [
      "[2448, 2449, 2450]\n",
      "[2452, 2453, 2454]\n"
     ]
    },
    {
     "name": "stderr",
     "output_type": "stream",
     "text": [
      "  0%|          | 616/10000000 [01:33<420:29:38,  6.61it/s]"
     ]
    },
    {
     "name": "stdout",
     "output_type": "stream",
     "text": [
      "[2456, 2457, 2458]\n",
      "[2460, 2461, 2462]\n"
     ]
    },
    {
     "name": "stderr",
     "output_type": "stream",
     "text": [
      "  0%|          | 618/10000000 [01:34<416:29:49,  6.67it/s]"
     ]
    },
    {
     "name": "stdout",
     "output_type": "stream",
     "text": [
      "[2464, 2465, 2466]\n",
      "[2468, 2469, 2470]\n"
     ]
    },
    {
     "name": "stderr",
     "output_type": "stream",
     "text": [
      "  0%|          | 620/10000000 [01:34<417:39:46,  6.65it/s]"
     ]
    },
    {
     "name": "stdout",
     "output_type": "stream",
     "text": [
      "[2472, 2473, 2474]\n",
      "[2476, 2477, 2478]\n"
     ]
    },
    {
     "name": "stderr",
     "output_type": "stream",
     "text": [
      "  0%|          | 622/10000000 [01:34<421:18:58,  6.59it/s]"
     ]
    },
    {
     "name": "stdout",
     "output_type": "stream",
     "text": [
      "[2480, 2481, 2482]\n",
      "[2484, 2485, 2486]\n"
     ]
    },
    {
     "name": "stderr",
     "output_type": "stream",
     "text": [
      "  0%|          | 624/10000000 [01:34<416:16:32,  6.67it/s]"
     ]
    },
    {
     "name": "stdout",
     "output_type": "stream",
     "text": [
      "[2488, 2489, 2490]\n",
      "[2492, 2493, 2494]\n"
     ]
    },
    {
     "name": "stderr",
     "output_type": "stream",
     "text": [
      "  0%|          | 626/10000000 [01:35<412:54:28,  6.73it/s]"
     ]
    },
    {
     "name": "stdout",
     "output_type": "stream",
     "text": [
      "[2496, 2497, 2498]\n",
      "[2500, 2501, 2502]\n"
     ]
    },
    {
     "name": "stderr",
     "output_type": "stream",
     "text": [
      "  0%|          | 628/10000000 [01:35<411:58:27,  6.74it/s]"
     ]
    },
    {
     "name": "stdout",
     "output_type": "stream",
     "text": [
      "[2504, 2505, 2506]\n",
      "[2508, 2509, 2510]\n"
     ]
    },
    {
     "name": "stderr",
     "output_type": "stream",
     "text": [
      "  0%|          | 630/10000000 [01:35<409:55:07,  6.78it/s]"
     ]
    },
    {
     "name": "stdout",
     "output_type": "stream",
     "text": [
      "[2512, 2513, 2514]\n",
      "[2516, 2517, 2518]\n"
     ]
    },
    {
     "name": "stderr",
     "output_type": "stream",
     "text": [
      "  0%|          | 632/10000000 [01:36<415:27:40,  6.69it/s]"
     ]
    },
    {
     "name": "stdout",
     "output_type": "stream",
     "text": [
      "[2520, 2521, 2522]\n",
      "[2524, 2525, 2526]\n"
     ]
    },
    {
     "name": "stderr",
     "output_type": "stream",
     "text": [
      "  0%|          | 634/10000000 [01:36<416:04:13,  6.68it/s]"
     ]
    },
    {
     "name": "stdout",
     "output_type": "stream",
     "text": [
      "[2528, 2529, 2530]\n",
      "[2532, 2533, 2534]\n"
     ]
    },
    {
     "name": "stderr",
     "output_type": "stream",
     "text": [
      "  0%|          | 636/10000000 [01:36<410:52:41,  6.76it/s]"
     ]
    },
    {
     "name": "stdout",
     "output_type": "stream",
     "text": [
      "[2536, 2537, 2538]\n",
      "[2540, 2541, 2542]\n"
     ]
    },
    {
     "name": "stderr",
     "output_type": "stream",
     "text": [
      "  0%|          | 638/10000000 [01:37<414:26:39,  6.70it/s]"
     ]
    },
    {
     "name": "stdout",
     "output_type": "stream",
     "text": [
      "[2544, 2545, 2546]\n",
      "[2548, 2549, 2550]\n"
     ]
    },
    {
     "name": "stderr",
     "output_type": "stream",
     "text": [
      "  0%|          | 640/10000000 [01:37<412:33:39,  6.73it/s]"
     ]
    },
    {
     "name": "stdout",
     "output_type": "stream",
     "text": [
      "[2552, 2553, 2554]\n",
      "[2556, 2557, 2558]\n"
     ]
    },
    {
     "name": "stderr",
     "output_type": "stream",
     "text": [
      "  0%|          | 642/10000000 [01:37<413:17:38,  6.72it/s]"
     ]
    },
    {
     "name": "stdout",
     "output_type": "stream",
     "text": [
      "[2560, 2561, 2562]\n",
      "[2564, 2565, 2566]\n"
     ]
    },
    {
     "name": "stderr",
     "output_type": "stream",
     "text": [
      "  0%|          | 644/10000000 [01:37<411:54:56,  6.74it/s]"
     ]
    },
    {
     "name": "stdout",
     "output_type": "stream",
     "text": [
      "[2568, 2569, 2570]\n",
      "[2572, 2573, 2574]\n"
     ]
    },
    {
     "name": "stderr",
     "output_type": "stream",
     "text": [
      "  0%|          | 646/10000000 [01:38<413:45:02,  6.71it/s]"
     ]
    },
    {
     "name": "stdout",
     "output_type": "stream",
     "text": [
      "[2576, 2577, 2578]\n",
      "[2580, 2581, 2582]\n"
     ]
    },
    {
     "name": "stderr",
     "output_type": "stream",
     "text": [
      "  0%|          | 648/10000000 [01:38<410:49:29,  6.76it/s]"
     ]
    },
    {
     "name": "stdout",
     "output_type": "stream",
     "text": [
      "[2584, 2585, 2586]\n",
      "[2588, 2589, 2590]\n"
     ]
    },
    {
     "name": "stderr",
     "output_type": "stream",
     "text": [
      "  0%|          | 650/10000000 [01:38<417:32:29,  6.65it/s]"
     ]
    },
    {
     "name": "stdout",
     "output_type": "stream",
     "text": [
      "[2592, 2593, 2594]\n",
      "[2596, 2597, 2598]\n"
     ]
    },
    {
     "name": "stderr",
     "output_type": "stream",
     "text": [
      "  0%|          | 652/10000000 [01:39<421:01:33,  6.60it/s]"
     ]
    },
    {
     "name": "stdout",
     "output_type": "stream",
     "text": [
      "[2600, 2601, 2602]\n",
      "[2604, 2605, 2606]\n"
     ]
    },
    {
     "name": "stderr",
     "output_type": "stream",
     "text": [
      "  0%|          | 654/10000000 [01:39<420:40:37,  6.60it/s]"
     ]
    },
    {
     "name": "stdout",
     "output_type": "stream",
     "text": [
      "[2608, 2609, 2610]\n",
      "[2612, 2613, 2614]\n"
     ]
    },
    {
     "name": "stderr",
     "output_type": "stream",
     "text": [
      "  0%|          | 656/10000000 [01:39<417:25:32,  6.65it/s]"
     ]
    },
    {
     "name": "stdout",
     "output_type": "stream",
     "text": [
      "[2616, 2617, 2618]\n",
      "[2620, 2621, 2622]\n"
     ]
    },
    {
     "name": "stderr",
     "output_type": "stream",
     "text": [
      "  0%|          | 658/10000000 [01:40<419:49:21,  6.62it/s]"
     ]
    },
    {
     "name": "stdout",
     "output_type": "stream",
     "text": [
      "[2624, 2625, 2626]\n",
      "[2628, 2629, 2630]\n"
     ]
    },
    {
     "name": "stderr",
     "output_type": "stream",
     "text": [
      "  0%|          | 660/10000000 [01:40<414:57:12,  6.69it/s]"
     ]
    },
    {
     "name": "stdout",
     "output_type": "stream",
     "text": [
      "[2632, 2633, 2634]\n",
      "[2636, 2637, 2638]\n"
     ]
    },
    {
     "name": "stderr",
     "output_type": "stream",
     "text": [
      "  0%|          | 662/10000000 [01:40<415:38:44,  6.68it/s]"
     ]
    },
    {
     "name": "stdout",
     "output_type": "stream",
     "text": [
      "[2640, 2641, 2642]\n",
      "[2644, 2645, 2646]\n"
     ]
    },
    {
     "name": "stderr",
     "output_type": "stream",
     "text": [
      "  0%|          | 664/10000000 [01:40<411:27:00,  6.75it/s]"
     ]
    },
    {
     "name": "stdout",
     "output_type": "stream",
     "text": [
      "[2648, 2649, 2650]\n",
      "[2652, 2653, 2654]\n"
     ]
    },
    {
     "name": "stderr",
     "output_type": "stream",
     "text": [
      "  0%|          | 666/10000000 [01:41<413:40:00,  6.71it/s]"
     ]
    },
    {
     "name": "stdout",
     "output_type": "stream",
     "text": [
      "[2656, 2657, 2658]\n",
      "[2660, 2661, 2662]\n"
     ]
    },
    {
     "name": "stderr",
     "output_type": "stream",
     "text": [
      "  0%|          | 668/10000000 [01:41<414:13:50,  6.71it/s]"
     ]
    },
    {
     "name": "stdout",
     "output_type": "stream",
     "text": [
      "[2664, 2665, 2666]\n",
      "[2668, 2669, 2670]\n"
     ]
    },
    {
     "name": "stderr",
     "output_type": "stream",
     "text": [
      "  0%|          | 670/10000000 [01:41<412:36:51,  6.73it/s]"
     ]
    },
    {
     "name": "stdout",
     "output_type": "stream",
     "text": [
      "[2672, 2673, 2674]\n",
      "[2676, 2677, 2678]\n"
     ]
    },
    {
     "name": "stderr",
     "output_type": "stream",
     "text": [
      "  0%|          | 672/10000000 [01:42<418:02:31,  6.64it/s]"
     ]
    },
    {
     "name": "stdout",
     "output_type": "stream",
     "text": [
      "[2680, 2681, 2682]\n",
      "[2684, 2685, 2686]\n"
     ]
    },
    {
     "name": "stderr",
     "output_type": "stream",
     "text": [
      "  0%|          | 674/10000000 [01:42<423:23:32,  6.56it/s]"
     ]
    },
    {
     "name": "stdout",
     "output_type": "stream",
     "text": [
      "[2688, 2689, 2690]\n",
      "[2692, 2693, 2694]\n"
     ]
    },
    {
     "name": "stderr",
     "output_type": "stream",
     "text": [
      "  0%|          | 676/10000000 [01:42<416:17:52,  6.67it/s]"
     ]
    },
    {
     "name": "stdout",
     "output_type": "stream",
     "text": [
      "[2696, 2697, 2698]\n",
      "[2700, 2701, 2702]\n"
     ]
    },
    {
     "name": "stderr",
     "output_type": "stream",
     "text": [
      "  0%|          | 678/10000000 [01:43<441:07:43,  6.30it/s]"
     ]
    },
    {
     "name": "stdout",
     "output_type": "stream",
     "text": [
      "[2704, 2705, 2706]\n",
      "[2708, 2709, 2710]\n"
     ]
    },
    {
     "name": "stderr",
     "output_type": "stream",
     "text": [
      "  0%|          | 680/10000000 [01:43<443:21:11,  6.26it/s]"
     ]
    },
    {
     "name": "stdout",
     "output_type": "stream",
     "text": [
      "[2712, 2713, 2714]\n",
      "[2716, 2717, 2718]\n"
     ]
    },
    {
     "name": "stderr",
     "output_type": "stream",
     "text": [
      "  0%|          | 682/10000000 [01:43<433:40:29,  6.40it/s]"
     ]
    },
    {
     "name": "stdout",
     "output_type": "stream",
     "text": [
      "[2720, 2721, 2722]\n",
      "[2724, 2725, 2726]\n"
     ]
    },
    {
     "name": "stderr",
     "output_type": "stream",
     "text": [
      "  0%|          | 684/10000000 [01:44<428:49:21,  6.48it/s]"
     ]
    },
    {
     "name": "stdout",
     "output_type": "stream",
     "text": [
      "[2728, 2729, 2730]\n",
      "[2732, 2733, 2734]\n"
     ]
    },
    {
     "name": "stderr",
     "output_type": "stream",
     "text": [
      "  0%|          | 686/10000000 [01:44<426:09:29,  6.52it/s]"
     ]
    },
    {
     "name": "stdout",
     "output_type": "stream",
     "text": [
      "[2736, 2737, 2738]\n",
      "[2740, 2741, 2742]\n"
     ]
    },
    {
     "name": "stderr",
     "output_type": "stream",
     "text": [
      "  0%|          | 688/10000000 [01:44<428:31:05,  6.48it/s]"
     ]
    },
    {
     "name": "stdout",
     "output_type": "stream",
     "text": [
      "[2744, 2745, 2746]\n",
      "[2748, 2749, 2750]\n"
     ]
    },
    {
     "name": "stderr",
     "output_type": "stream",
     "text": [
      "  0%|          | 690/10000000 [01:44<423:03:16,  6.57it/s]"
     ]
    },
    {
     "name": "stdout",
     "output_type": "stream",
     "text": [
      "[2752, 2753, 2754]\n",
      "[2756, 2757, 2758]\n"
     ]
    },
    {
     "name": "stderr",
     "output_type": "stream",
     "text": [
      "  0%|          | 691/10000000 [01:45<422:32:44,  6.57it/s]"
     ]
    },
    {
     "name": "stdout",
     "output_type": "stream",
     "text": [
      "[2760, 2761, 2762]\n"
     ]
    },
    {
     "name": "stderr",
     "output_type": "stream",
     "text": [
      "\n"
     ]
    },
    {
     "ename": "KeyboardInterrupt",
     "evalue": "",
     "output_type": "error",
     "traceback": [
      "\u001b[0;31m---------------------------------------------------------------------------\u001b[0m",
      "\u001b[0;31mKeyboardInterrupt\u001b[0m                         Traceback (most recent call last)",
      "\u001b[0;32m<ipython-input-49-9a45f9217fdb>\u001b[0m in \u001b[0;36m<module>\u001b[0;34m\u001b[0m\n\u001b[1;32m     21\u001b[0m     \u001b[0mremoved_cups\u001b[0m \u001b[0;34m=\u001b[0m \u001b[0mcups\u001b[0m\u001b[0;34m[\u001b[0m\u001b[0;36m1\u001b[0m\u001b[0;34m:\u001b[0m\u001b[0;36m4\u001b[0m\u001b[0;34m]\u001b[0m\u001b[0;34m\u001b[0m\u001b[0;34m\u001b[0m\u001b[0m\n\u001b[1;32m     22\u001b[0m     \u001b[0mprint\u001b[0m\u001b[0;34m(\u001b[0m\u001b[0mremoved_cups\u001b[0m\u001b[0;34m)\u001b[0m\u001b[0;34m\u001b[0m\u001b[0;34m\u001b[0m\u001b[0m\n\u001b[0;32m---> 23\u001b[0;31m     \u001b[0mremaining\u001b[0m \u001b[0;34m=\u001b[0m \u001b[0;34m[\u001b[0m\u001b[0mx\u001b[0m \u001b[0;32mfor\u001b[0m \u001b[0mx\u001b[0m \u001b[0;32min\u001b[0m \u001b[0mcups\u001b[0m \u001b[0;32mif\u001b[0m \u001b[0mx\u001b[0m \u001b[0;32mnot\u001b[0m \u001b[0;32min\u001b[0m \u001b[0mremoved_cups\u001b[0m\u001b[0;34m]\u001b[0m\u001b[0;34m\u001b[0m\u001b[0;34m\u001b[0m\u001b[0m\n\u001b[0m\u001b[1;32m     24\u001b[0m \u001b[0;34m\u001b[0m\u001b[0m\n\u001b[1;32m     25\u001b[0m \u001b[0;31m#     print(\"cups\", cups, 'current', current_cup)\u001b[0m\u001b[0;34m\u001b[0m\u001b[0;34m\u001b[0m\u001b[0;34m\u001b[0m\u001b[0m\n",
      "\u001b[0;32m<ipython-input-49-9a45f9217fdb>\u001b[0m in \u001b[0;36m<listcomp>\u001b[0;34m(.0)\u001b[0m\n\u001b[1;32m     21\u001b[0m     \u001b[0mremoved_cups\u001b[0m \u001b[0;34m=\u001b[0m \u001b[0mcups\u001b[0m\u001b[0;34m[\u001b[0m\u001b[0;36m1\u001b[0m\u001b[0;34m:\u001b[0m\u001b[0;36m4\u001b[0m\u001b[0;34m]\u001b[0m\u001b[0;34m\u001b[0m\u001b[0;34m\u001b[0m\u001b[0m\n\u001b[1;32m     22\u001b[0m     \u001b[0mprint\u001b[0m\u001b[0;34m(\u001b[0m\u001b[0mremoved_cups\u001b[0m\u001b[0;34m)\u001b[0m\u001b[0;34m\u001b[0m\u001b[0;34m\u001b[0m\u001b[0m\n\u001b[0;32m---> 23\u001b[0;31m     \u001b[0mremaining\u001b[0m \u001b[0;34m=\u001b[0m \u001b[0;34m[\u001b[0m\u001b[0mx\u001b[0m \u001b[0;32mfor\u001b[0m \u001b[0mx\u001b[0m \u001b[0;32min\u001b[0m \u001b[0mcups\u001b[0m \u001b[0;32mif\u001b[0m \u001b[0mx\u001b[0m \u001b[0;32mnot\u001b[0m \u001b[0;32min\u001b[0m \u001b[0mremoved_cups\u001b[0m\u001b[0;34m]\u001b[0m\u001b[0;34m\u001b[0m\u001b[0;34m\u001b[0m\u001b[0m\n\u001b[0m\u001b[1;32m     24\u001b[0m \u001b[0;34m\u001b[0m\u001b[0m\n\u001b[1;32m     25\u001b[0m \u001b[0;31m#     print(\"cups\", cups, 'current', current_cup)\u001b[0m\u001b[0;34m\u001b[0m\u001b[0;34m\u001b[0m\u001b[0;34m\u001b[0m\u001b[0m\n",
      "\u001b[0;31mKeyboardInterrupt\u001b[0m: "
     ]
    }
   ],
   "source": [
    "def circular_select(array, start, end):\n",
    "    if end < len(array):\n",
    "        return array[start:end].copy()\n",
    "    else:\n",
    "        return array[start:] + array[0:end%len(array)]\n",
    "\n",
    "def put_cup_first(array, cup):\n",
    "    return array[array.index(cup):] + array[:array.index(cup)]\n",
    "\n",
    "cups = [int(x) for x in \"284573961\"]  \n",
    "\n",
    "\n",
    "for i in range(10,1000000+1):\n",
    "    cups.append(i)\n",
    "num_cups = len(cups)+1\n",
    "\n",
    "seen = set()\n",
    "current_cup = cups[0]\n",
    "for move in tqdm(range(10000000)):\n",
    "    cups = put_cup_first(cups, current_cup)\n",
    "    removed_cups = cups[1:4]\n",
    "    print(removed_cups)\n",
    "    remaining = [x for x in cups if x not in removed_cups]\n",
    "    \n",
    "#     print(\"cups\", cups, 'current', current_cup)\n",
    "#     print(\"Pick up\", removed_cups, 'remaining', remaining)\n",
    "    destination_cup = (current_cup-1) % num_cups\n",
    "    while destination_cup not in remaining: \n",
    "        destination_cup = (destination_cup-1) % num_cups\n",
    "#     print(\"Destination\", destination_cup)\n",
    "    \n",
    "    cups = put_cup_first(remaining, destination_cup)\n",
    "    cups = cups[:1] + removed_cups + cups[1:] \n",
    "    current_cup = cups[(cups.index(current_cup)+1)%len(cups)]\n",
    "res = put_cup_first(cups, 1)\n",
    "''.join([str(x) for x in res[1:]])"
   ]
  },
  {
   "cell_type": "code",
   "execution_count": 44,
   "metadata": {},
   "outputs": [],
   "source": []
  },
  {
   "cell_type": "code",
   "execution_count": 68,
   "metadata": {
    "scrolled": true
   },
   "outputs": [
    {
     "name": "stdout",
     "output_type": "stream",
     "text": [
      "------move 1 ----\n",
      "defaultdict(<class 'int'>, {3: 8, 8: 9, 9: 1, 1: 2, 2: 5, 5: 4, 4: 6, 6: 7, 7: 3})\n",
      "current 3\n",
      "3 8 9 1 2\n",
      "destination 2\n",
      "2 5\n",
      "------move 2 ----\n",
      "defaultdict(<class 'int'>, {3: 2, 8: 9, 9: 1, 1: 5, 2: 8, 5: 4, 4: 6, 6: 7, 7: 3})\n",
      "current 2\n",
      "2 8 9 1 5\n",
      "destination 7\n",
      "7 3\n",
      "------move 3 ----\n",
      "defaultdict(<class 'int'>, {3: 2, 8: 9, 9: 1, 1: 3, 2: 5, 5: 4, 4: 6, 6: 7, 7: 8})\n",
      "current 5\n",
      "5 4 6 7 8\n",
      "destination 3\n",
      "3 2\n",
      "------move 4 ----\n",
      "defaultdict(<class 'int'>, {3: 4, 8: 9, 9: 1, 1: 3, 2: 5, 5: 8, 4: 6, 6: 7, 7: 2})\n",
      "current 8\n",
      "8 9 1 3 4\n",
      "destination 7\n",
      "7 2\n",
      "------move 5 ----\n",
      "defaultdict(<class 'int'>, {3: 2, 8: 4, 9: 1, 1: 3, 2: 5, 5: 8, 4: 6, 6: 7, 7: 9})\n",
      "current 4\n",
      "4 6 7 9 1\n",
      "destination 3\n",
      "3 2\n",
      "------move 6 ----\n",
      "defaultdict(<class 'int'>, {3: 6, 8: 4, 9: 2, 1: 3, 2: 5, 5: 8, 4: 1, 6: 7, 7: 9})\n",
      "current 1\n",
      "1 3 6 7 9\n",
      "destination 9\n",
      "9 2\n",
      "------move 7 ----\n",
      "defaultdict(<class 'int'>, {3: 6, 8: 4, 9: 3, 1: 9, 2: 5, 5: 8, 4: 1, 6: 7, 7: 2})\n",
      "current 9\n",
      "9 3 6 7 2\n",
      "destination 8\n",
      "8 4\n",
      "------move 8 ----\n",
      "defaultdict(<class 'int'>, {3: 6, 8: 3, 9: 2, 1: 9, 2: 5, 5: 8, 4: 1, 6: 7, 7: 4})\n",
      "current 2\n",
      "2 5 8 3 6\n",
      "destination 1\n",
      "1 9\n",
      "------move 9 ----\n",
      "defaultdict(<class 'int'>, {3: 9, 8: 3, 9: 2, 1: 5, 2: 6, 5: 8, 4: 1, 6: 7, 7: 4})\n",
      "current 6\n",
      "6 7 4 1 5\n",
      "destination 5\n",
      "5 8\n",
      "------move 10 ----\n",
      "defaultdict(<class 'int'>, {3: 9, 8: 3, 9: 2, 1: 8, 2: 6, 5: 7, 4: 1, 6: 5, 7: 4})\n",
      "current 5\n",
      "5 7 4 1 8\n",
      "destination 3\n",
      "3 9\n",
      "------move 11 ----\n",
      "defaultdict(<class 'int'>, {3: 7, 8: 3, 9: 2, 1: 9, 2: 6, 5: 8, 4: 1, 6: 5, 7: 4})\n",
      "current 8\n",
      "8 3 7 4 1\n",
      "destination 6\n",
      "6 5\n",
      "------move 12 ----\n",
      "defaultdict(<class 'int'>, {3: 7, 8: 1, 9: 2, 1: 9, 2: 6, 5: 8, 4: 5, 6: 3, 7: 4})\n",
      "current 1\n",
      "1 9 2 6 3\n",
      "destination 8\n",
      "8 1\n",
      "------move 13 ----\n",
      "defaultdict(<class 'int'>, {3: 7, 8: 9, 9: 2, 1: 3, 2: 6, 5: 8, 4: 5, 6: 1, 7: 4})\n",
      "current 3\n",
      "3 7 4 5 8\n",
      "destination 2\n",
      "2 6\n",
      "------move 14 ----\n",
      "defaultdict(<class 'int'>, {3: 8, 8: 9, 9: 2, 1: 3, 2: 7, 5: 6, 4: 5, 6: 1, 7: 4})\n",
      "current 8\n",
      "8 9 2 7 4\n",
      "destination 6\n",
      "6 1\n",
      "------move 15 ----\n",
      "defaultdict(<class 'int'>, {3: 8, 8: 4, 9: 2, 1: 3, 2: 7, 5: 6, 4: 5, 6: 9, 7: 1})\n",
      "current 4\n",
      "4 5 6 9 2\n",
      "destination 3\n",
      "3 8\n",
      "------move 16 ----\n",
      "defaultdict(<class 'int'>, {3: 5, 8: 4, 9: 8, 1: 3, 2: 7, 5: 6, 4: 2, 6: 9, 7: 1})\n",
      "current 2\n",
      "2 7 1 3 5\n",
      "destination 9\n",
      "9 8\n",
      "------move 17 ----\n",
      "defaultdict(<class 'int'>, {3: 8, 8: 4, 9: 7, 1: 3, 2: 5, 5: 6, 4: 2, 6: 9, 7: 1})\n",
      "current 5\n",
      "5 6 9 7 1\n",
      "destination 4\n",
      "4 2\n",
      "------move 18 ----\n",
      "defaultdict(<class 'int'>, {3: 8, 8: 4, 9: 7, 1: 3, 2: 5, 5: 1, 4: 6, 6: 9, 7: 2})\n",
      "current 1\n",
      "1 3 8 4 6\n",
      "destination 9\n",
      "9 7\n",
      "------move 19 ----\n",
      "defaultdict(<class 'int'>, {3: 8, 8: 4, 9: 3, 1: 6, 2: 5, 5: 1, 4: 7, 6: 9, 7: 2})\n",
      "current 6\n",
      "6 9 3 8 4\n",
      "destination 5\n",
      "5 1\n",
      "------move 20 ----\n",
      "defaultdict(<class 'int'>, {3: 8, 8: 1, 9: 3, 1: 6, 2: 5, 5: 9, 4: 7, 6: 4, 7: 2})\n",
      "current 4\n",
      "4 7 2 5 9\n",
      "destination 3\n",
      "3 8\n",
      "------move 21 ----\n",
      "defaultdict(<class 'int'>, {3: 7, 8: 1, 9: 3, 1: 6, 2: 5, 5: 8, 4: 9, 6: 4, 7: 2})\n",
      "current 9\n",
      "9 3 7 2 5\n",
      "destination 8\n",
      "8 1\n",
      "------move 22 ----\n",
      "defaultdict(<class 'int'>, {3: 7, 8: 3, 9: 5, 1: 6, 2: 1, 5: 8, 4: 9, 6: 4, 7: 2})\n",
      "current 5\n",
      "5 8 3 7 2\n",
      "destination 4\n",
      "4 9\n",
      "------move 23 ----\n",
      "defaultdict(<class 'int'>, {3: 7, 8: 3, 9: 5, 1: 6, 2: 1, 5: 2, 4: 8, 6: 4, 7: 9})\n",
      "current 2\n",
      "2 1 6 4 8\n",
      "destination 9\n",
      "9 5\n",
      "------move 24 ----\n",
      "defaultdict(<class 'int'>, {3: 7, 8: 3, 9: 1, 1: 6, 2: 8, 5: 2, 4: 5, 6: 4, 7: 9})\n",
      "current 8\n",
      "8 3 7 9 1\n",
      "destination 6\n",
      "6 4\n",
      "------move 25 ----\n",
      "defaultdict(<class 'int'>, {3: 7, 8: 1, 9: 4, 1: 6, 2: 8, 5: 2, 4: 5, 6: 3, 7: 9})\n",
      "current 1\n",
      "1 6 3 7 9\n",
      "destination 9\n",
      "9 4\n",
      "------move 26 ----\n",
      "defaultdict(<class 'int'>, {3: 7, 8: 1, 9: 6, 1: 9, 2: 8, 5: 2, 4: 5, 6: 3, 7: 4})\n",
      "current 9\n",
      "9 6 3 7 4\n",
      "destination 8\n",
      "8 1\n",
      "------move 27 ----\n",
      "defaultdict(<class 'int'>, {3: 7, 8: 6, 9: 4, 1: 9, 2: 8, 5: 2, 4: 5, 6: 3, 7: 1})\n",
      "current 4\n",
      "4 5 2 8 6\n",
      "destination 3\n",
      "3 7\n",
      "------move 28 ----\n",
      "defaultdict(<class 'int'>, {3: 5, 8: 7, 9: 4, 1: 9, 2: 8, 5: 2, 4: 6, 6: 3, 7: 1})\n",
      "current 6\n",
      "6 3 5 2 8\n",
      "destination 4\n",
      "4 6\n",
      "------move 29 ----\n",
      "defaultdict(<class 'int'>, {3: 5, 8: 7, 9: 4, 1: 9, 2: 6, 5: 2, 4: 3, 6: 8, 7: 1})\n",
      "current 8\n",
      "8 7 1 9 4\n",
      "destination 6\n",
      "6 8\n",
      "------move 30 ----\n",
      "defaultdict(<class 'int'>, {3: 5, 8: 4, 9: 8, 1: 9, 2: 6, 5: 2, 4: 3, 6: 7, 7: 1})\n",
      "current 4\n",
      "4 3 5 2 6\n",
      "destination 1\n",
      "1 9\n",
      "------move 31 ----\n",
      "defaultdict(<class 'int'>, {3: 5, 8: 4, 9: 8, 1: 3, 2: 9, 5: 2, 4: 6, 6: 7, 7: 1})\n",
      "current 6\n",
      "6 7 1 3 5\n",
      "destination 5\n",
      "5 2\n",
      "------move 32 ----\n",
      "defaultdict(<class 'int'>, {3: 2, 8: 4, 9: 8, 1: 3, 2: 9, 5: 7, 4: 6, 6: 5, 7: 1})\n",
      "current 5\n",
      "5 7 1 3 2\n",
      "destination 4\n",
      "4 6\n",
      "------move 33 ----\n",
      "defaultdict(<class 'int'>, {3: 6, 8: 4, 9: 8, 1: 3, 2: 9, 5: 2, 4: 7, 6: 5, 7: 1})\n",
      "current 2\n",
      "2 9 8 4 7\n",
      "destination 1\n",
      "1 3\n",
      "------move 34 ----\n",
      "defaultdict(<class 'int'>, {3: 6, 8: 4, 9: 8, 1: 9, 2: 7, 5: 2, 4: 3, 6: 5, 7: 1})\n",
      "current 7\n",
      "7 1 9 8 4\n",
      "destination 6\n",
      "6 5\n",
      "------move 35 ----\n",
      "defaultdict(<class 'int'>, {3: 6, 8: 5, 9: 8, 1: 9, 2: 7, 5: 2, 4: 3, 6: 1, 7: 4})\n",
      "current 4\n",
      "4 3 6 1 9\n",
      "destination 2\n",
      "2 7\n",
      "------move 36 ----\n",
      "defaultdict(<class 'int'>, {3: 6, 8: 5, 9: 8, 1: 7, 2: 3, 5: 2, 4: 9, 6: 1, 7: 4})\n",
      "current 9\n",
      "9 8 5 2 3\n",
      "destination 7\n",
      "7 4\n",
      "------move 37 ----\n",
      "defaultdict(<class 'int'>, {3: 6, 8: 5, 9: 3, 1: 7, 2: 4, 5: 2, 4: 9, 6: 1, 7: 8})\n",
      "current 3\n",
      "3 6 1 7 8\n",
      "destination 2\n",
      "2 4\n",
      "------move 38 ----\n",
      "defaultdict(<class 'int'>, {3: 8, 8: 5, 9: 3, 1: 7, 2: 6, 5: 2, 4: 9, 6: 1, 7: 4})\n",
      "current 8\n",
      "8 5 2 6 1\n",
      "destination 7\n",
      "7 4\n",
      "------move 39 ----\n",
      "defaultdict(<class 'int'>, {3: 8, 8: 1, 9: 3, 1: 7, 2: 6, 5: 2, 4: 9, 6: 4, 7: 5})\n",
      "current 1\n",
      "1 7 5 2 6\n",
      "destination 9\n",
      "9 3\n",
      "------move 40 ----\n",
      "defaultdict(<class 'int'>, {3: 8, 8: 1, 9: 7, 1: 6, 2: 3, 5: 2, 4: 9, 6: 4, 7: 5})\n",
      "current 6\n",
      "6 4 9 7 5\n",
      "destination 5\n",
      "5 2\n",
      "------move 41 ----\n",
      "defaultdict(<class 'int'>, {3: 8, 8: 1, 9: 7, 1: 6, 2: 3, 5: 4, 4: 9, 6: 5, 7: 2})\n",
      "current 5\n",
      "5 4 9 7 2\n",
      "destination 3\n",
      "3 8\n",
      "------move 42 ----\n",
      "defaultdict(<class 'int'>, {3: 4, 8: 1, 9: 7, 1: 6, 2: 3, 5: 2, 4: 9, 6: 5, 7: 8})\n",
      "current 2\n",
      "2 3 4 9 7\n",
      "destination 1\n",
      "1 6\n",
      "------move 43 ----\n",
      "defaultdict(<class 'int'>, {3: 4, 8: 1, 9: 6, 1: 3, 2: 7, 5: 2, 4: 9, 6: 5, 7: 8})\n",
      "current 7\n",
      "7 8 1 3 4\n",
      "destination 6\n",
      "6 5\n",
      "------move 44 ----\n",
      "defaultdict(<class 'int'>, {3: 5, 8: 1, 9: 6, 1: 3, 2: 7, 5: 2, 4: 9, 6: 8, 7: 4})\n",
      "current 4\n",
      "4 9 6 8 1\n",
      "destination 3\n",
      "3 5\n",
      "------move 45 ----\n",
      "defaultdict(<class 'int'>, {3: 9, 8: 5, 9: 6, 1: 3, 2: 7, 5: 2, 4: 1, 6: 8, 7: 4})\n",
      "current 1\n",
      "1 3 9 6 8\n",
      "destination 8\n",
      "8 5\n",
      "------move 46 ----\n",
      "defaultdict(<class 'int'>, {3: 9, 8: 3, 9: 6, 1: 8, 2: 7, 5: 2, 4: 1, 6: 5, 7: 4})\n",
      "current 8\n",
      "8 3 9 6 5\n",
      "destination 7\n",
      "7 4\n",
      "------move 47 ----\n",
      "defaultdict(<class 'int'>, {3: 9, 8: 5, 9: 6, 1: 8, 2: 7, 5: 2, 4: 1, 6: 4, 7: 3})\n",
      "current 5\n",
      "5 2 7 3 9\n",
      "destination 4\n",
      "4 1\n",
      "------move 48 ----\n",
      "defaultdict(<class 'int'>, {3: 1, 8: 5, 9: 6, 1: 8, 2: 7, 5: 9, 4: 2, 6: 4, 7: 3})\n",
      "current 9\n",
      "9 6 4 2 7\n",
      "destination 8\n",
      "8 5\n",
      "------move 49 ----\n",
      "defaultdict(<class 'int'>, {3: 1, 8: 6, 9: 7, 1: 8, 2: 5, 5: 9, 4: 2, 6: 4, 7: 3})\n",
      "current 7\n",
      "7 3 1 8 6\n",
      "destination 6\n",
      "6 4\n",
      "------move 50 ----\n",
      "defaultdict(<class 'int'>, {3: 1, 8: 4, 9: 7, 1: 8, 2: 5, 5: 9, 4: 2, 6: 3, 7: 6})\n",
      "current 6\n",
      "6 3 1 8 4\n",
      "destination 5\n",
      "5 9\n",
      "------move 51 ----\n",
      "defaultdict(<class 'int'>, {3: 1, 8: 9, 9: 7, 1: 8, 2: 5, 5: 3, 4: 2, 6: 4, 7: 6})\n",
      "current 4\n",
      "4 2 5 3 1\n",
      "destination 1\n",
      "1 8\n",
      "------move 52 ----\n",
      "defaultdict(<class 'int'>, {3: 8, 8: 9, 9: 7, 1: 2, 2: 5, 5: 3, 4: 1, 6: 4, 7: 6})\n",
      "current 1\n",
      "1 2 5 3 8\n",
      "destination 9\n",
      "9 7\n",
      "------move 53 ----\n",
      "defaultdict(<class 'int'>, {3: 7, 8: 9, 9: 2, 1: 8, 2: 5, 5: 3, 4: 1, 6: 4, 7: 6})\n",
      "current 8\n",
      "8 9 2 5 3\n",
      "destination 7\n",
      "7 6\n",
      "------move 54 ----\n",
      "defaultdict(<class 'int'>, {3: 7, 8: 3, 9: 2, 1: 8, 2: 5, 5: 6, 4: 1, 6: 4, 7: 9})\n",
      "current 3\n",
      "3 7 9 2 5\n",
      "destination 1\n",
      "1 8\n",
      "------move 55 ----\n",
      "defaultdict(<class 'int'>, {3: 5, 8: 3, 9: 2, 1: 7, 2: 8, 5: 6, 4: 1, 6: 4, 7: 9})\n",
      "current 5\n",
      "5 6 4 1 7\n",
      "destination 3\n",
      "3 5\n",
      "------move 56 ----\n",
      "defaultdict(<class 'int'>, {3: 6, 8: 3, 9: 2, 1: 5, 2: 8, 5: 7, 4: 1, 6: 4, 7: 9})\n",
      "current 7\n",
      "7 9 2 8 3\n",
      "destination 6\n",
      "6 4\n",
      "------move 57 ----\n",
      "defaultdict(<class 'int'>, {3: 6, 8: 4, 9: 2, 1: 5, 2: 8, 5: 7, 4: 1, 6: 9, 7: 3})\n",
      "current 3\n",
      "3 6 9 2 8\n",
      "destination 1\n",
      "1 5\n",
      "------move 58 ----\n",
      "defaultdict(<class 'int'>, {3: 8, 8: 4, 9: 2, 1: 6, 2: 5, 5: 7, 4: 1, 6: 9, 7: 3})\n",
      "current 8\n",
      "8 4 1 6 9\n",
      "destination 7\n",
      "7 3\n",
      "------move 59 ----\n",
      "defaultdict(<class 'int'>, {3: 8, 8: 9, 9: 2, 1: 6, 2: 5, 5: 7, 4: 1, 6: 3, 7: 4})\n",
      "current 9\n",
      "9 2 5 7 4\n",
      "destination 8\n",
      "8 9\n",
      "------move 60 ----\n",
      "defaultdict(<class 'int'>, {3: 8, 8: 2, 9: 4, 1: 6, 2: 5, 5: 7, 4: 1, 6: 3, 7: 9})\n",
      "current 4\n",
      "4 1 6 3 8\n",
      "destination 2\n",
      "2 5\n",
      "------move 61 ----\n",
      "defaultdict(<class 'int'>, {3: 5, 8: 2, 9: 4, 1: 6, 2: 1, 5: 7, 4: 8, 6: 3, 7: 9})\n",
      "current 8\n",
      "8 2 1 6 3\n",
      "destination 7\n",
      "7 9\n",
      "------move 62 ----\n",
      "defaultdict(<class 'int'>, {3: 5, 8: 3, 9: 4, 1: 6, 2: 1, 5: 7, 4: 8, 6: 9, 7: 2})\n",
      "current 3\n",
      "3 5 7 2 1\n",
      "destination 1\n",
      "1 6\n",
      "------move 63 ----\n",
      "defaultdict(<class 'int'>, {3: 1, 8: 3, 9: 4, 1: 5, 2: 6, 5: 7, 4: 8, 6: 9, 7: 2})\n",
      "current 1\n",
      "1 5 7 2 6\n",
      "destination 9\n",
      "9 4\n",
      "------move 64 ----\n",
      "defaultdict(<class 'int'>, {3: 1, 8: 3, 9: 5, 1: 6, 2: 4, 5: 7, 4: 8, 6: 9, 7: 2})\n",
      "current 6\n",
      "6 9 5 7 2\n",
      "destination 4\n",
      "4 8\n",
      "------move 65 ----\n",
      "defaultdict(<class 'int'>, {3: 1, 8: 3, 9: 5, 1: 6, 2: 4, 5: 7, 4: 9, 6: 2, 7: 8})\n",
      "current 2\n",
      "2 4 9 5 7\n",
      "destination 1\n",
      "1 6\n",
      "------move 66 ----\n",
      "defaultdict(<class 'int'>, {3: 1, 8: 3, 9: 5, 1: 4, 2: 7, 5: 6, 4: 9, 6: 2, 7: 8})\n",
      "current 7\n",
      "7 8 3 1 4\n",
      "destination 6\n",
      "6 2\n",
      "------move 67 ----\n",
      "defaultdict(<class 'int'>, {3: 1, 8: 3, 9: 5, 1: 2, 2: 7, 5: 6, 4: 9, 6: 8, 7: 4})\n",
      "current 4\n",
      "4 9 5 6 8\n",
      "destination 3\n",
      "3 1\n",
      "------move 68 ----\n",
      "defaultdict(<class 'int'>, {3: 9, 8: 3, 9: 5, 1: 2, 2: 7, 5: 6, 4: 8, 6: 1, 7: 4})\n",
      "current 8\n",
      "8 3 9 5 6\n",
      "destination 7\n",
      "7 4\n",
      "------move 69 ----\n",
      "defaultdict(<class 'int'>, {3: 9, 8: 6, 9: 5, 1: 2, 2: 7, 5: 4, 4: 8, 6: 1, 7: 3})\n",
      "current 6\n",
      "6 1 2 7 3\n",
      "destination 5\n",
      "5 4\n",
      "------move 70 ----\n",
      "defaultdict(<class 'int'>, {3: 9, 8: 6, 9: 5, 1: 2, 2: 7, 5: 1, 4: 8, 6: 3, 7: 4})\n",
      "current 3\n",
      "3 9 5 1 2\n",
      "destination 2\n",
      "2 7\n",
      "------move 71 ----\n",
      "defaultdict(<class 'int'>, {3: 2, 8: 6, 9: 5, 1: 7, 2: 9, 5: 1, 4: 8, 6: 3, 7: 4})\n",
      "current 2\n",
      "2 9 5 1 7\n",
      "destination 8\n",
      "8 6\n",
      "------move 72 ----\n",
      "defaultdict(<class 'int'>, {3: 2, 8: 9, 9: 5, 1: 6, 2: 7, 5: 1, 4: 8, 6: 3, 7: 4})\n",
      "current 7\n",
      "7 4 8 9 5\n",
      "destination 6\n",
      "6 3\n",
      "------move 73 ----\n",
      "defaultdict(<class 'int'>, {3: 2, 8: 9, 9: 3, 1: 6, 2: 7, 5: 1, 4: 8, 6: 4, 7: 5})\n",
      "current 5\n",
      "5 1 6 4 8\n",
      "destination 3\n",
      "3 2\n",
      "------move 74 ----\n",
      "defaultdict(<class 'int'>, {3: 1, 8: 9, 9: 3, 1: 6, 2: 7, 5: 8, 4: 2, 6: 4, 7: 5})\n",
      "current 8\n",
      "8 9 3 1 6\n",
      "destination 7\n",
      "7 5\n",
      "------move 75 ----\n",
      "defaultdict(<class 'int'>, {3: 1, 8: 6, 9: 3, 1: 5, 2: 7, 5: 8, 4: 2, 6: 4, 7: 9})\n",
      "current 6\n",
      "6 4 2 7 9\n",
      "destination 5\n",
      "5 8\n",
      "------move 76 ----\n",
      "defaultdict(<class 'int'>, {3: 1, 8: 6, 9: 3, 1: 5, 2: 7, 5: 4, 4: 2, 6: 9, 7: 8})\n",
      "current 9\n",
      "9 3 1 5 4\n",
      "destination 8\n",
      "8 6\n",
      "------move 77 ----\n",
      "defaultdict(<class 'int'>, {3: 1, 8: 3, 9: 4, 1: 5, 2: 7, 5: 6, 4: 2, 6: 9, 7: 8})\n",
      "current 4\n",
      "4 2 7 8 3\n",
      "destination 3\n",
      "3 1\n",
      "------move 78 ----\n",
      "defaultdict(<class 'int'>, {3: 2, 8: 1, 9: 4, 1: 5, 2: 7, 5: 6, 4: 3, 6: 9, 7: 8})\n",
      "current 3\n",
      "3 2 7 8 1\n",
      "destination 1\n",
      "1 5\n",
      "------move 79 ----\n",
      "defaultdict(<class 'int'>, {3: 1, 8: 5, 9: 4, 1: 2, 2: 7, 5: 6, 4: 3, 6: 9, 7: 8})\n",
      "current 1\n",
      "1 2 7 8 5\n",
      "destination 9\n",
      "9 4\n",
      "------move 80 ----\n",
      "defaultdict(<class 'int'>, {3: 1, 8: 4, 9: 2, 1: 5, 2: 7, 5: 6, 4: 3, 6: 9, 7: 8})\n",
      "current 5\n",
      "5 6 9 2 7\n",
      "destination 4\n",
      "4 3\n",
      "------move 81 ----\n",
      "defaultdict(<class 'int'>, {3: 1, 8: 4, 9: 2, 1: 5, 2: 3, 5: 7, 4: 6, 6: 9, 7: 8})\n",
      "current 7\n",
      "7 8 4 6 9\n",
      "destination 5\n",
      "5 7\n",
      "------move 82 ----\n",
      "defaultdict(<class 'int'>, {3: 1, 8: 4, 9: 2, 1: 5, 2: 3, 5: 8, 4: 6, 6: 7, 7: 9})\n",
      "current 9\n",
      "9 2 3 1 5\n",
      "destination 8\n",
      "8 4\n",
      "------move 83 ----\n",
      "defaultdict(<class 'int'>, {3: 1, 8: 2, 9: 5, 1: 4, 2: 3, 5: 8, 4: 6, 6: 7, 7: 9})\n",
      "current 5\n",
      "5 8 2 3 1\n",
      "destination 4\n",
      "4 6\n",
      "------move 84 ----\n",
      "defaultdict(<class 'int'>, {3: 6, 8: 2, 9: 5, 1: 4, 2: 3, 5: 1, 4: 8, 6: 7, 7: 9})\n",
      "current 1\n",
      "1 4 8 2 3\n",
      "destination 9\n",
      "9 5\n",
      "------move 85 ----\n",
      "defaultdict(<class 'int'>, {3: 6, 8: 2, 9: 4, 1: 3, 2: 5, 5: 1, 4: 8, 6: 7, 7: 9})\n",
      "current 3\n",
      "3 6 7 9 4\n",
      "destination 2\n",
      "2 5\n",
      "------move 86 ----\n",
      "defaultdict(<class 'int'>, {3: 4, 8: 2, 9: 5, 1: 3, 2: 6, 5: 1, 4: 8, 6: 7, 7: 9})\n",
      "current 4\n",
      "4 8 2 6 7\n",
      "destination 3\n",
      "3 4\n",
      "------move 87 ----\n",
      "defaultdict(<class 'int'>, {3: 8, 8: 2, 9: 5, 1: 3, 2: 6, 5: 1, 4: 7, 6: 4, 7: 9})\n",
      "current 7\n",
      "7 9 5 1 3\n",
      "destination 6\n",
      "6 4\n",
      "------move 88 ----\n",
      "defaultdict(<class 'int'>, {3: 8, 8: 2, 9: 5, 1: 4, 2: 6, 5: 1, 4: 7, 6: 9, 7: 3})\n",
      "current 3\n",
      "3 8 2 6 9\n",
      "destination 1\n",
      "1 4\n",
      "------move 89 ----\n",
      "defaultdict(<class 'int'>, {3: 9, 8: 2, 9: 5, 1: 8, 2: 6, 5: 1, 4: 7, 6: 4, 7: 3})\n",
      "current 9\n",
      "9 5 1 8 2\n",
      "destination 7\n",
      "7 3\n",
      "------move 90 ----\n",
      "defaultdict(<class 'int'>, {3: 9, 8: 3, 9: 2, 1: 8, 2: 6, 5: 1, 4: 7, 6: 4, 7: 5})\n",
      "current 2\n",
      "2 6 4 7 5\n",
      "destination 1\n",
      "1 8\n",
      "------move 91 ----\n",
      "defaultdict(<class 'int'>, {3: 9, 8: 3, 9: 2, 1: 6, 2: 5, 5: 1, 4: 7, 6: 4, 7: 8})\n",
      "current 5\n",
      "5 1 6 4 7\n",
      "destination 3\n",
      "3 9\n",
      "------move 92 ----\n",
      "defaultdict(<class 'int'>, {3: 1, 8: 3, 9: 2, 1: 6, 2: 5, 5: 7, 4: 9, 6: 4, 7: 8})\n",
      "current 7\n",
      "7 8 3 1 6\n",
      "destination 6\n",
      "6 4\n",
      "------move 93 ----\n",
      "defaultdict(<class 'int'>, {3: 1, 8: 3, 9: 2, 1: 4, 2: 5, 5: 7, 4: 9, 6: 8, 7: 6})\n",
      "current 6\n",
      "6 8 3 1 4\n",
      "destination 5\n",
      "5 7\n",
      "------move 94 ----\n",
      "defaultdict(<class 'int'>, {3: 1, 8: 3, 9: 2, 1: 7, 2: 5, 5: 8, 4: 9, 6: 4, 7: 6})\n",
      "current 4\n",
      "4 9 2 5 8\n",
      "destination 3\n",
      "3 1\n",
      "------move 95 ----\n",
      "defaultdict(<class 'int'>, {3: 9, 8: 3, 9: 2, 1: 7, 2: 5, 5: 1, 4: 8, 6: 4, 7: 6})\n",
      "current 8\n",
      "8 3 9 2 5\n",
      "destination 7\n",
      "7 6\n",
      "------move 96 ----\n",
      "defaultdict(<class 'int'>, {3: 9, 8: 5, 9: 2, 1: 7, 2: 6, 5: 1, 4: 8, 6: 4, 7: 3})\n",
      "current 5\n",
      "5 1 7 3 9\n",
      "destination 4\n",
      "4 8\n",
      "------move 97 ----\n",
      "defaultdict(<class 'int'>, {3: 8, 8: 5, 9: 2, 1: 7, 2: 6, 5: 9, 4: 1, 6: 4, 7: 3})\n",
      "current 9\n",
      "9 2 6 4 1\n",
      "destination 8\n",
      "8 5\n",
      "------move 98 ----\n",
      "defaultdict(<class 'int'>, {3: 8, 8: 2, 9: 1, 1: 7, 2: 6, 5: 9, 4: 5, 6: 4, 7: 3})\n",
      "current 1\n",
      "1 7 3 8 2\n",
      "destination 9\n",
      "9 1\n",
      "------move 99 ----\n",
      "defaultdict(<class 'int'>, {3: 8, 8: 1, 9: 7, 1: 2, 2: 6, 5: 9, 4: 5, 6: 4, 7: 3})\n",
      "current 2\n",
      "2 6 4 5 9\n",
      "destination 1\n",
      "1 2\n",
      "------move 100 ----\n",
      "defaultdict(<class 'int'>, {3: 8, 8: 1, 9: 7, 1: 6, 2: 9, 5: 2, 4: 5, 6: 4, 7: 3})\n",
      "current 9\n",
      "9 7 3 8 1\n",
      "destination 6\n",
      "6 4\n"
     ]
    }
   ],
   "source": [
    "from collections import defaultdict\n",
    "clockwise = defaultdict(int)\n",
    "\n",
    "for index in range(9):\n",
    "    clockwise[int(\"389125467\"[index])] = int(\"389125467\"[(index+1)%9])\n",
    "\n",
    "current_cup = 3\n",
    "num_cups = 9\n",
    "for move in range(100):\n",
    "    print(\"------move\", move+1, '----')\n",
    "    print(clockwise)\n",
    "    print('current', current_cup)\n",
    "    \n",
    "    A, B = current_cup, clockwise[current_cup]\n",
    "    C = clockwise[B]\n",
    "    D = clockwise[C]\n",
    "    E = clockwise[D]\n",
    "    print(A,B,C,D,E)\n",
    "    \n",
    "    destination_cup = (current_cup-1) % (num_cups+1)\n",
    "    while destination_cup in [B,C,D] or destination_cup == 0: \n",
    "        destination_cup = (destination_cup-1) % (num_cups+1)\n",
    "    \n",
    "    print('destination', destination_cup)\n",
    "    F, G = destination_cup, clockwise[destination_cup]\n",
    "    print(F,G)\n",
    "    clockwise[F] = B\n",
    "    clockwise[D] = G\n",
    "    clockwise[A] = E\n",
    "    current_cup = E\n"
   ]
  },
  {
   "cell_type": "code",
   "execution_count": 70,
   "metadata": {},
   "outputs": [
    {
     "name": "stdout",
     "output_type": "stream",
     "text": [
      "67384529"
     ]
    }
   ],
   "source": [
    "start = 1\n",
    "for i in range(8):\n",
    "    start = clockwise[start]\n",
    "    print(start, end='')"
   ]
  },
  {
   "cell_type": "code",
   "execution_count": 112,
   "metadata": {},
   "outputs": [
    {
     "name": "stderr",
     "output_type": "stream",
     "text": [
      "100%|██████████| 10000000/10000000 [00:18<00:00, 550209.96it/s]"
     ]
    },
    {
     "name": "stdout",
     "output_type": "stream",
     "text": [
      "Answer part 2 166298218695\n"
     ]
    },
    {
     "name": "stderr",
     "output_type": "stream",
     "text": [
      "\n"
     ]
    }
   ],
   "source": [
    "from collections import defaultdict\n",
    "\n",
    "class keydefaultdict(defaultdict):\n",
    "    def __missing__(self, key):\n",
    "        self[key] = (key+1)\n",
    "        return self[key]\n",
    "        \n",
    "        \n",
    "clockwise = keydefaultdict(int)\n",
    "\n",
    "cup_labeling = \"284573961\"\n",
    "for index in range(8):\n",
    "    clockwise[int(cup_labeling[index])] = int(cup_labeling[index+1])\n",
    "clockwise[1000000] = int(cup_labeling[0])\n",
    "clockwise[int(cup_labeling[-1])] = 10\n",
    "current_cup = int(cup_labeling[0])\n",
    "num_cups = 1000000\n",
    "for move in tqdm(range(10000000)):\n",
    "    A, B = current_cup, clockwise[current_cup]\n",
    "    C = clockwise[B]\n",
    "    D = clockwise[C]\n",
    "    E = clockwise[D]\n",
    "    \n",
    "    destination_cup = (current_cup-1) % (num_cups+1)\n",
    "    while destination_cup in [B,C,D] or destination_cup == 0: \n",
    "        destination_cup = (destination_cup-1) % (num_cups+1)\n",
    "    \n",
    "    F, G = destination_cup, clockwise[destination_cup]\n",
    "    clockwise[F] = B\n",
    "    clockwise[D] = G\n",
    "    clockwise[A] = E\n",
    "    current_cup = E\n",
    "print(\"Answer part 2\", clockwise[1]*clockwise[clockwise[1]])"
   ]
  },
  {
   "cell_type": "code",
   "execution_count": 1,
   "metadata": {},
   "outputs": [
    {
     "name": "stderr",
     "output_type": "stream",
     "text": [
      "100%|██████████| 100/100 [00:00<00:00, 177349.01it/s]\n",
      "  0%|          | 43692/10000000 [00:00<00:23, 422742.33it/s]"
     ]
    },
    {
     "name": "stdout",
     "output_type": "stream",
     "text": [
      "Answer part 1 26354798\n"
     ]
    },
    {
     "name": "stderr",
     "output_type": "stream",
     "text": [
      "100%|██████████| 10000000/10000000 [00:13<00:00, 755845.00it/s]"
     ]
    },
    {
     "name": "stdout",
     "output_type": "stream",
     "text": [
      "Answer part 2 166298218695\n"
     ]
    },
    {
     "name": "stderr",
     "output_type": "stream",
     "text": [
      "\n"
     ]
    }
   ],
   "source": [
    "from collections import defaultdict\n",
    "from tqdm import tqdm\n",
    "\n",
    "class keydefaultdict(defaultdict):\n",
    "    def __missing__(self, key):\n",
    "        self[key] = (key+1)\n",
    "        return self[key]\n",
    "\n",
    "def get_input_part1(cup_labeling, num_cups):\n",
    "    clockwise = keydefaultdict(int)\n",
    "    for index in range(len(cup_labeling)-1):\n",
    "        clockwise[int(cup_labeling[index])] = int(cup_labeling[index+1])\n",
    "    clockwise[int(cup_labeling[-1])] = int(cup_labeling[0])\n",
    "    return clockwise\n",
    "\n",
    "\n",
    "def get_input_part2(cup_labeling, num_cups):\n",
    "    clockwise = keydefaultdict(int)\n",
    "    for index in range(len(cup_labeling)-1):\n",
    "        clockwise[int(cup_labeling[index])] = int(cup_labeling[index+1])\n",
    "    clockwise[1000000] = int(cup_labeling[0])\n",
    "    clockwise[int(cup_labeling[-1])] = 10\n",
    "    return clockwise\n",
    "\n",
    "\n",
    "def crabby_shuffle(clockwise, num_moves, current_cup, num_cups):\n",
    "    \"\"\"🦀⏱🤔🦀\"\"\"\n",
    "    for move in tqdm(range(num_moves)):        \n",
    "        A, B = current_cup, clockwise[current_cup]\n",
    "        C = clockwise[B]\n",
    "        D = clockwise[C]\n",
    "        E = clockwise[D]\n",
    "\n",
    "        destination_cup = (current_cup-1) % (num_cups+1)\n",
    "        while destination_cup in [B,C,D] or destination_cup == 0: \n",
    "            destination_cup = (destination_cup-1) % (num_cups+1)\n",
    "\n",
    "        F, G = destination_cup, clockwise[destination_cup]\n",
    "        clockwise[F] = B\n",
    "        clockwise[D] = G\n",
    "        clockwise[A] = E\n",
    "        current_cup = E\n",
    "\n",
    "        \n",
    "cup_labeling = \"389125467\" # example puzzle input\n",
    "cup_labeling = \"284573961\" # actual puzzle input\n",
    "\n",
    "# First for part 1\n",
    "num_cups, current_cup = len(cup_labeling), int(cup_labeling[0])\n",
    "clockwise = get_input_part1(cup_labeling, num_cups)\n",
    "\n",
    "crabby_shuffle(clockwise, 100, current_cup, num_cups)\n",
    "answerp1 = \"1\"\n",
    "for i in range(num_cups):\n",
    "    answerp1 += str(clockwise[int(answerp1[-1])])\n",
    "print(\"Answer part 1\", answerp1[1:-1])\n",
    "\n",
    "# Now for part 2\n",
    "num_cups, current_cup = 1000000, int(cup_labeling[0])\n",
    "clockwise = get_input_part2(cup_labeling, num_cups)\n",
    "\n",
    "crabby_shuffle(clockwise, 10000000, current_cup, num_cups)\n",
    "print(\"Answer part 2\", clockwise[1]*clockwise[clockwise[1]])"
   ]
  },
  {
   "cell_type": "code",
   "execution_count": 118,
   "metadata": {},
   "outputs": [
    {
     "data": {
      "text/plain": [
       "8"
      ]
     },
     "execution_count": 118,
     "metadata": {},
     "output_type": "execute_result"
    }
   ],
   "source": [
    "len(cup_labeling)-1"
   ]
  },
  {
   "cell_type": "code",
   "execution_count": null,
   "metadata": {},
   "outputs": [],
   "source": []
  },
  {
   "cell_type": "code",
   "execution_count": null,
   "metadata": {},
   "outputs": [],
   "source": []
  }
 ],
 "metadata": {
  "kernelspec": {
   "display_name": "py39",
   "language": "python",
   "name": "py39"
  },
  "language_info": {
   "codemirror_mode": {
    "name": "ipython",
    "version": 3
   },
   "file_extension": ".py",
   "mimetype": "text/x-python",
   "name": "python",
   "nbconvert_exporter": "python",
   "pygments_lexer": "ipython3",
   "version": "3.9.1"
  }
 },
 "nbformat": 4,
 "nbformat_minor": 2
}
