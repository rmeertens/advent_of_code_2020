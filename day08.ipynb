{
 "cells": [
  {
   "cell_type": "code",
   "execution_count": 1,
   "metadata": {},
   "outputs": [],
   "source": [
    "inputs = \"\"\"nop +0\n",
    "acc +1\n",
    "jmp +4\n",
    "acc +3\n",
    "jmp -3\n",
    "acc -99\n",
    "acc +1\n",
    "jmp -4\n",
    "acc +6\"\"\"\n",
    "# inputs = [line for line in inputs.split(\"\\n\")]\n",
    "\n",
    "inputs = [line.strip() for line in open('inputs/day08.txt')]\n",
    "\n",
    "parsed = list()\n",
    "for line in inputs:\n",
    "    opcode,argument = line.split(\" \")\n",
    "    parsed.append((opcode, int(argument)))"
   ]
  },
  {
   "cell_type": "code",
   "execution_count": 2,
   "metadata": {},
   "outputs": [
    {
     "name": "stdout",
     "output_type": "stream",
     "text": [
      "(False, 441, 1451)\n"
     ]
    }
   ],
   "source": [
    "def execute_program(program):\n",
    "    \"\"\"\n",
    "    Returns a tuple (exited_correctly, index, acc)\"\"\"\n",
    "    acc = 0\n",
    "    index = 0\n",
    "    visited_states = list()\n",
    "    while True:\n",
    "        if index in visited_states:\n",
    "            return (False, index, acc)\n",
    "        visited_states.append(index)\n",
    "        if index >= len(program):\n",
    "            return (True, index, acc)\n",
    "        \n",
    "        instruction, argument = program[index]\n",
    "        if instruction == \"acc\":\n",
    "            acc += argument\n",
    "            index += 1\n",
    "        elif instruction == \"nop\":\n",
    "            index += 1\n",
    "        elif instruction == \"jmp\":\n",
    "            index += argument\n",
    "part1 = execute_program(parsed)\n",
    "print(part1)"
   ]
  },
  {
   "cell_type": "code",
   "execution_count": 3,
   "metadata": {},
   "outputs": [
    {
     "name": "stdout",
     "output_type": "stream",
     "text": [
      "(True, 625, 1160)\n"
     ]
    }
   ],
   "source": [
    "for index in range(len(parsed)):\n",
    "    opcode, argument = parsed[index]\n",
    "    if opcode in [\"jmp\", \"nop\"]:\n",
    "        test = list(parsed)\n",
    "        if opcode == \"jmp\":\n",
    "            test[index] = (\"nop\", argument)\n",
    "        else:\n",
    "            test[index] = (\"jmp\", argument)\n",
    "        result = execute_program(test)\n",
    "        if result[0]:\n",
    "            print(result)\n",
    "            break\n"
   ]
  },
  {
   "cell_type": "code",
   "execution_count": null,
   "metadata": {},
   "outputs": [],
   "source": [
    "\n",
    "inputs = [line.strip() for line in open('inputs/day08.txt')]\n",
    "\n",
    "parsed = list()\n",
    "for line in inputs:\n",
    "    opcode,argument = line.split(\" \")\n",
    "    parsed.append((opcode, int(argument)))\n",
    "    \n",
    "def execute_program(program):\n",
    "    \"\"\"\n",
    "    Returns a tuple (exited_correctly, index, acc)\"\"\"\n",
    "    acc = 0\n",
    "    index = 0\n",
    "    visited_states = list()\n",
    "    while True:\n",
    "        if index in visited_states:\n",
    "            return (False, index, acc)\n",
    "        visited_states.append(index)\n",
    "        if index >= len(program):\n",
    "            return (True, index, acc)\n",
    "        \n",
    "        instruction, argument = program[index]\n",
    "        if instruction == \"acc\":\n",
    "            acc += argument\n",
    "            index += 1\n",
    "        elif instruction == \"nop\":\n",
    "            index += 1\n",
    "        elif instruction == \"jmp\":\n",
    "            index += argument\n",
    "part1 = execute_program(parsed)\n",
    "print(part1)\n",
    "\n",
    "for index in range(len(parsed)):\n",
    "    opcode, argument = parsed[index]\n",
    "    if opcode in [\"jmp\", \"nop\"]:\n",
    "        test = list(parsed)\n",
    "        if opcode == \"jmp\":\n",
    "            test[index] = (\"nop\", argument)\n",
    "        else:\n",
    "            test[index] = (\"jmp\", argument)\n",
    "        result = execute_program(test)\n",
    "        if result[0]:\n",
    "            print(result)\n",
    "            break\n"
   ]
  }
 ],
 "metadata": {
  "kernelspec": {
   "display_name": "Python 3",
   "language": "python",
   "name": "python3"
  },
  "language_info": {
   "codemirror_mode": {
    "name": "ipython",
    "version": 3
   },
   "file_extension": ".py",
   "mimetype": "text/x-python",
   "name": "python",
   "nbconvert_exporter": "python",
   "pygments_lexer": "ipython3",
   "version": "3.7.2"
  }
 },
 "nbformat": 4,
 "nbformat_minor": 4
}
