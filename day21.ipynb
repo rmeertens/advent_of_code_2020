{
 "cells": [
  {
   "cell_type": "code",
   "execution_count": 1,
   "metadata": {},
   "outputs": [],
   "source": [
    "inputs = \"\"\"mxmxvkd kfcds sqjhc nhms (contains dairy, fish)\n",
    "trh fvjkl sbzzf mxmxvkd (contains dairy)\n",
    "sqjhc fvjkl (contains soy)\n",
    "sqjhc mxmxvkd sbzzf (contains fish)\"\"\"\n",
    "\n",
    "lines = inputs.split(\"\\n\")\n",
    "lines = [x.strip() for x in open('inputs/day21.txt').readlines()]#.split(\"\\n\")"
   ]
  },
  {
   "cell_type": "code",
   "execution_count": 2,
   "metadata": {},
   "outputs": [],
   "source": [
    "from collections import defaultdict, Counter\n",
    "allergen_count = defaultdict(Counter)\n",
    "all_allergens = set()\n",
    "all_ingredients = set()\n",
    "for line in lines: \n",
    "    ingredients, allergens = line.split(' (')\n",
    "    ingredients = ingredients.split(\" \")\n",
    "    allergens = allergens.removeprefix(\"contains \").removesuffix(\")\").split(\", \")\n",
    "    all_allergens.update(allergens)\n",
    "    all_ingredients.update(ingredients)\n",
    "    \n",
    "    for allergen in allergens:\n",
    "        for ingredient in ingredients: \n",
    "            allergen_count[allergen][ingredient] += 1"
   ]
  },
  {
   "cell_type": "code",
   "execution_count": 3,
   "metadata": {},
   "outputs": [
    {
     "name": "stdout",
     "output_type": "stream",
     "text": [
      "Part 1: 2170\n",
      "Part 2: nfnfk,nbgklf,clvr,fttbhdr,qjxxpr,hdsm,sjhds,xchzh\n"
     ]
    }
   ],
   "source": [
    "possible_ingredients = defaultdict(set)\n",
    "for allergen in all_allergens:\n",
    "    for ingredient in all_ingredients: \n",
    "        is_possible = True\n",
    "        for line in lines: \n",
    "            ingredients, allergens = line.split(' (')\n",
    "            ingredients = ingredients.split(\" \")\n",
    "            allergens = allergens.removeprefix(\"contains \").removesuffix(\")\").split(\", \")\n",
    "            if allergen in allergens: \n",
    "                if not ingredient in ingredients: \n",
    "                    is_possible = False\n",
    "                    break\n",
    "        if is_possible:\n",
    "            possible_ingredients[allergen].add(ingredient)\n",
    "            \n",
    "can_contain = set()\n",
    "for key in all_allergens: \n",
    "    can_contain.update(possible_ingredients[key])\n",
    "    \n",
    "not_contained = all_ingredients - can_contain\n",
    "counted: int = 0 \n",
    "for line in lines: \n",
    "    ingredients, allergens = line.split(' (')\n",
    "    ingredients = ingredients.split(\" \")\n",
    "    for ing in not_contained: \n",
    "        counted += ingredients.count(ing)\n",
    "print(\"Part 1:\", counted)\n",
    "\n",
    "assigned = dict()\n",
    "for i in range(100):\n",
    "    for key in possible_ingredients: \n",
    "        if len(possible_ingredients[key]) == 1:\n",
    "            assigned[key] = list(possible_ingredients[key])[0]\n",
    "        else:\n",
    "            possible_ingredients[key] -= set(assigned.values())\n",
    "            \n",
    "to_sort = [(allergen, list(possible_ingredients[allergen])[0]) for allergen in possible_ingredients]\n",
    "to_sort.sort()\n",
    "print(\"Part 2:\", ','.join([x[1] for x in to_sort]))"
   ]
  }
 ],
 "metadata": {
  "kernelspec": {
   "display_name": "py39",
   "language": "python",
   "name": "py39"
  },
  "language_info": {
   "codemirror_mode": {
    "name": "ipython",
    "version": 3
   },
   "file_extension": ".py",
   "mimetype": "text/x-python",
   "name": "python",
   "nbconvert_exporter": "python",
   "pygments_lexer": "ipython3",
   "version": "3.9.1"
  }
 },
 "nbformat": 4,
 "nbformat_minor": 2
}
