{
 "cells": [
  {
   "cell_type": "code",
   "execution_count": 61,
   "metadata": {},
   "outputs": [],
   "source": [
    "import re\n",
    "\n",
    "inputs = \"\"\"Player 1:\n",
    "9\n",
    "2\n",
    "6\n",
    "3\n",
    "1\n",
    "\n",
    "Player 2:\n",
    "5\n",
    "8\n",
    "4\n",
    "7\n",
    "10\"\"\"\n",
    "\n",
    "p1, p2 = inputs.split(\"\\n\\n\")\n",
    "p1, p2 = open('inputs/day22.txt').read().split(\"\\n\\n\")\n",
    "              \n",
    "p1 = list(map(int, re.findall(r'\\d+', p1)))[1:]\n",
    "p2 = list(map(int, re.findall(r'\\d+', p2)))[1:]\n",
    "\n",
    "\n",
    "# print(p1)\n",
    "# print(p2)\n",
    "# rounds = 0\n",
    "# while p1 and p2:\n",
    "#     rounds += 1\n",
    "#     card1 = p1.pop(0)\n",
    "#     card2 = p2.pop(0)\n",
    "#     if card1 > card2:\n",
    "#         p1.extend([card1, card2])\n",
    "#     else:\n",
    "#         p2.extend([card2, card1])\n",
    "\n",
    "# print(p1)\n",
    "# print(p2)\n",
    "# print(rounds)"
   ]
  },
  {
   "cell_type": "code",
   "execution_count": 62,
   "metadata": {},
   "outputs": [],
   "source": [
    "# winner = p1 if p1 else p2\n",
    "# score = 0\n",
    "# for index, value in enumerate(winner[::-1]):\n",
    "#     score += (index+1)* value\n",
    "# score"
   ]
  },
  {
   "cell_type": "code",
   "execution_count": 63,
   "metadata": {},
   "outputs": [],
   "source": [
    "# 33294 is too low"
   ]
  },
  {
   "cell_type": "code",
   "execution_count": 64,
   "metadata": {},
   "outputs": [
    {
     "name": "stdout",
     "output_type": "stream",
     "text": [
      "[12, 7, 25, 16, 30, 17, 20, 2, 50, 27, 26, 10, 38, 21, 34, 33, 46, 15, 45, 11, 35, 6, 13, 4, 49, 39, 40, 37, 29, 18, 47, 43, 22, 9, 14, 1, 48, 36, 41, 32, 44, 31, 19, 3, 42, 24, 28, 8, 23, 5]\n",
      "[]\n",
      "345\n"
     ]
    }
   ],
   "source": [
    "import copy\n",
    "\n",
    "def determine_winner(depth, p1, p2):\n",
    "    games_seen = set()\n",
    "    rounds = 0\n",
    "    while p1 and p2:\n",
    "        str_repr = str(p1)+str(p2)\n",
    "        if str_repr in games_seen:\n",
    "            return p1, p2\n",
    "        else:\n",
    "            games_seen.add(str_repr)\n",
    "        rounds += 1\n",
    "#         print(\"Round\", rounds, p1, p2)\n",
    "        card1 = p1.pop(0)\n",
    "        card2 = p2.pop(0)\n",
    "        \n",
    "        if len(p1) >= card1 and len(p2) >= card2: \n",
    "            result1, result2 = determine_winner(depth+1, copy.copy(p1)[:card1], copy.copy(p2)[:card2])\n",
    "            p1wins = len(result1) > 0\n",
    "        else:\n",
    "            p1wins = card1 > card2\n",
    "            \n",
    "        if p1wins:\n",
    "            p1.extend([card1, card2])\n",
    "        else:\n",
    "            p2.extend([card2, card1])\n",
    "    return p1, p2\n",
    "\n",
    "result1, result2 = determine_winner(0, p1, p2)\n",
    "print(p1)\n",
    "print(p2)\n",
    "print(rounds)"
   ]
  },
  {
   "cell_type": "code",
   "execution_count": 65,
   "metadata": {},
   "outputs": [
    {
     "data": {
      "text/plain": [
       "[12,\n",
       " 7,\n",
       " 25,\n",
       " 16,\n",
       " 30,\n",
       " 17,\n",
       " 20,\n",
       " 2,\n",
       " 50,\n",
       " 27,\n",
       " 26,\n",
       " 10,\n",
       " 38,\n",
       " 21,\n",
       " 34,\n",
       " 33,\n",
       " 46,\n",
       " 15,\n",
       " 45,\n",
       " 11,\n",
       " 35,\n",
       " 6,\n",
       " 13,\n",
       " 4,\n",
       " 49,\n",
       " 39,\n",
       " 40,\n",
       " 37,\n",
       " 29,\n",
       " 18,\n",
       " 47,\n",
       " 43,\n",
       " 22,\n",
       " 9,\n",
       " 14,\n",
       " 1,\n",
       " 48,\n",
       " 36,\n",
       " 41,\n",
       " 32,\n",
       " 44,\n",
       " 31,\n",
       " 19,\n",
       " 3,\n",
       " 42,\n",
       " 24,\n",
       " 28,\n",
       " 8,\n",
       " 23,\n",
       " 5]"
      ]
     },
     "execution_count": 65,
     "metadata": {},
     "output_type": "execute_result"
    }
   ],
   "source": [
    "p1"
   ]
  },
  {
   "cell_type": "code",
   "execution_count": 66,
   "metadata": {},
   "outputs": [
    {
     "data": {
      "text/plain": [
       "[]"
      ]
     },
     "execution_count": 66,
     "metadata": {},
     "output_type": "execute_result"
    }
   ],
   "source": [
    "result2"
   ]
  },
  {
   "cell_type": "code",
   "execution_count": 67,
   "metadata": {
    "scrolled": true
   },
   "outputs": [
    {
     "data": {
      "text/plain": [
       "31835"
      ]
     },
     "execution_count": 67,
     "metadata": {},
     "output_type": "execute_result"
    }
   ],
   "source": [
    "winner = result1 if result1 else result2\n",
    "score = 0\n",
    "for index, value in enumerate(winner[::-1]):\n",
    "    score += (index+1)* value\n",
    "score"
   ]
  },
  {
   "cell_type": "code",
   "execution_count": null,
   "metadata": {},
   "outputs": [],
   "source": []
  },
  {
   "cell_type": "code",
   "execution_count": null,
   "metadata": {},
   "outputs": [],
   "source": []
  }
 ],
 "metadata": {
  "kernelspec": {
   "display_name": "py39",
   "language": "python",
   "name": "py39"
  },
  "language_info": {
   "codemirror_mode": {
    "name": "ipython",
    "version": 3
   },
   "file_extension": ".py",
   "mimetype": "text/x-python",
   "name": "python",
   "nbconvert_exporter": "python",
   "pygments_lexer": "ipython3",
   "version": "3.9.1"
  }
 },
 "nbformat": 4,
 "nbformat_minor": 2
}
