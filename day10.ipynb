{
 "cells": [
  {
   "cell_type": "code",
   "execution_count": 55,
   "metadata": {},
   "outputs": [],
   "source": [
    "inputs=\"\"\"28\n",
    "33\n",
    "18\n",
    "42\n",
    "31\n",
    "14\n",
    "46\n",
    "20\n",
    "48\n",
    "47\n",
    "24\n",
    "23\n",
    "49\n",
    "45\n",
    "19\n",
    "38\n",
    "39\n",
    "11\n",
    "1\n",
    "32\n",
    "25\n",
    "35\n",
    "8\n",
    "17\n",
    "7\n",
    "9\n",
    "4\n",
    "2\n",
    "34\n",
    "10\n",
    "3\"\"\"\n",
    "inputs = [int(x) for x in inputs.split('\\n')]\n",
    "\n"
   ]
  },
  {
   "cell_type": "code",
   "execution_count": 56,
   "metadata": {},
   "outputs": [
    {
     "name": "stdout",
     "output_type": "stream",
     "text": [
      "part 1: 2059\n",
      "Part 2: 86812553324672\n"
     ]
    }
   ],
   "source": [
    "from collections import Counter\n",
    "inputs = [int(x) for x in open('inputs/day10.txt')]\n",
    "\n",
    "# Sort the inputs and add the start and end result\n",
    "inputs.sort()\n",
    "inputs.append(inputs[-1]+3)\n",
    "inputs.insert(0, 0)\n",
    "\n",
    "# Create the difs between the joltages\n",
    "difs = list()\n",
    "for i in range(1, len(inputs)):\n",
    "    difs.append(inputs[i]-inputs[i-1])\n",
    "    \n",
    "# Count number of difs\n",
    "a = Counter(difs)\n",
    "print('part 1:',a[1]*a[3])\n",
    "\n",
    "# Calculate the options per subarray, going backwards\n",
    "options = [1 for _ in difs]\n",
    "for index_backwards in range(len(difs)-1, -1, -1):\n",
    "    num_options = 0\n",
    "    for index_forwards in range(1,4):\n",
    "        if index_backwards+index_forwards < len(difs):\n",
    "\n",
    "            if sum(difs[index_backwards:index_backwards+index_forwards]) <= 3:\n",
    "                num_options += options[index_backwards+index_forwards]\n",
    "            options[index_backwards] = num_options\n",
    "print(\"Part 2:\", options[0])"
   ]
  },
  {
   "cell_type": "code",
   "execution_count": 57,
   "metadata": {},
   "outputs": [
    {
     "data": {
      "text/plain": [
       "[0,\n",
       " 1,\n",
       " 2,\n",
       " 3,\n",
       " 4,\n",
       " 7,\n",
       " 10,\n",
       " 11,\n",
       " 12,\n",
       " 13,\n",
       " 14,\n",
       " 17,\n",
       " 18,\n",
       " 19,\n",
       " 20,\n",
       " 23,\n",
       " 24,\n",
       " 25,\n",
       " 26,\n",
       " 27,\n",
       " 30,\n",
       " 31,\n",
       " 32,\n",
       " 33,\n",
       " 34,\n",
       " 37,\n",
       " 38,\n",
       " 39,\n",
       " 42,\n",
       " 43,\n",
       " 46,\n",
       " 49,\n",
       " 50,\n",
       " 51,\n",
       " 52,\n",
       " 53,\n",
       " 56,\n",
       " 57,\n",
       " 58,\n",
       " 59,\n",
       " 60,\n",
       " 63,\n",
       " 64,\n",
       " 65,\n",
       " 66,\n",
       " 67,\n",
       " 70,\n",
       " 71,\n",
       " 72,\n",
       " 73,\n",
       " 74,\n",
       " 77,\n",
       " 78,\n",
       " 79,\n",
       " 80,\n",
       " 81,\n",
       " 84,\n",
       " 87,\n",
       " 88,\n",
       " 91,\n",
       " 92,\n",
       " 93,\n",
       " 94,\n",
       " 95,\n",
       " 98,\n",
       " 101,\n",
       " 102,\n",
       " 105,\n",
       " 106,\n",
       " 107,\n",
       " 108,\n",
       " 109,\n",
       " 112,\n",
       " 115,\n",
       " 116,\n",
       " 117,\n",
       " 118,\n",
       " 119,\n",
       " 122,\n",
       " 125,\n",
       " 128,\n",
       " 129,\n",
       " 130,\n",
       " 131,\n",
       " 134,\n",
       " 135,\n",
       " 136,\n",
       " 139,\n",
       " 140,\n",
       " 141,\n",
       " 144,\n",
       " 145,\n",
       " 146,\n",
       " 147,\n",
       " 148,\n",
       " 151,\n",
       " 152,\n",
       " 153,\n",
       " 154,\n",
       " 155,\n",
       " 158]"
      ]
     },
     "execution_count": 57,
     "metadata": {},
     "output_type": "execute_result"
    }
   ],
   "source": [
    "inputs"
   ]
  },
  {
   "cell_type": "code",
   "execution_count": 70,
   "metadata": {},
   "outputs": [
    {
     "data": {
      "text/plain": [
       "[4,\n",
       " 0,\n",
       " 4,\n",
       " 3,\n",
       " 4,\n",
       " 4,\n",
       " 2,\n",
       " 1,\n",
       " 0,\n",
       " 4,\n",
       " 4,\n",
       " 4,\n",
       " 4,\n",
       " 4,\n",
       " 0,\n",
       " 1,\n",
       " 4,\n",
       " 0,\n",
       " 1,\n",
       " 4,\n",
       " 0,\n",
       " 4,\n",
       " 0,\n",
       " 0,\n",
       " 3,\n",
       " 2,\n",
       " 2,\n",
       " 4,\n",
       " 4,\n",
       " 0]"
      ]
     },
     "execution_count": 70,
     "metadata": {},
     "output_type": "execute_result"
    }
   ],
   "source": [
    "test = ''.join([str(x) for x in difs])\n",
    "d = {\n",
    "    0:1,\n",
    "    1:1, \n",
    "    2:2,\n",
    "    3:4, \n",
    "    4:7,\n",
    "}\n",
    "test = [len(x) for x in test.split('3')]\n",
    "# test = [d[x] for x in test]\n",
    "test\n",
    "# [4, 1, 5, 4, 5, 5, 3, 2, 1, 5, 5, 5, 5, 5, 1, 2, 5, 1, 2, 5, 1, 5, 1, 1, 4, 3, 3, 5, 5]\n",
    "# print(inputs)\n",
    "\n",
    "# inputs = [d[x] for x in inputs]\n",
    "# print(inputs)"
   ]
  },
  {
   "cell_type": "code",
   "execution_count": 64,
   "metadata": {},
   "outputs": [
    {
     "data": {
      "text/plain": [
       "86812553324672"
      ]
     },
     "execution_count": 64,
     "metadata": {},
     "output_type": "execute_result"
    }
   ],
   "source": [
    "from functools import reduce\n",
    "import operator\n",
    "\n",
    "reduce(operator.mul, test, 1)\n"
   ]
  },
  {
   "cell_type": "code",
   "execution_count": null,
   "metadata": {},
   "outputs": [],
   "source": [
    "test"
   ]
  }
 ],
 "metadata": {
  "kernelspec": {
   "display_name": "Python 3",
   "language": "python",
   "name": "python3"
  },
  "language_info": {
   "codemirror_mode": {
    "name": "ipython",
    "version": 3
   },
   "file_extension": ".py",
   "mimetype": "text/x-python",
   "name": "python",
   "nbconvert_exporter": "python",
   "pygments_lexer": "ipython3",
   "version": "3.7.2"
  }
 },
 "nbformat": 4,
 "nbformat_minor": 4
}
