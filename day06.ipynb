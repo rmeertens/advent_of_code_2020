{
 "cells": [
  {
   "cell_type": "code",
   "execution_count": 59,
   "metadata": {},
   "outputs": [
    {
     "name": "stdout",
     "output_type": "stream",
     "text": [
      "6911\n",
      "3473\n"
     ]
    }
   ],
   "source": [
    "inputs = \"\"\"abc\n",
    "\n",
    "a\n",
    "b\n",
    "c\n",
    "\n",
    "ab\n",
    "ac\n",
    "\n",
    "a\n",
    "a\n",
    "a\n",
    "a\n",
    "\n",
    "b\"\"\"\n",
    "\n",
    "\n",
    "inputs = [\"🔥\" if len(x) == 0 else x+\"\\n\" for x in inputs.split(\"\\n\")]\n",
    "\n",
    "inputs = [x for x in open('inputs/day06.txt').readlines()]\n",
    "inputs = [\"🔥\" if len(x) == 1 else x for x in inputs]\n",
    "\n",
    "\n",
    "inputs = ''.join(inputs)\n",
    "inputs = inputs.split(\"🔥\")\n",
    "\n",
    "# Part 1\n",
    "total = 0\n",
    "for s in inputs: \n",
    "#     print(s)\n",
    "#     print('---')\n",
    "    total += len(set(s))-1 # removing one because newline is counted here as well\n",
    "print(total) # 6911\n",
    "\n",
    "# Part 2\n",
    "total = 0\n",
    "for s in inputs: \n",
    "#     print('----')\n",
    "#     print(s)\n",
    "\n",
    "    all_chars = set(''.join(s.split('\\n')))\n",
    "#     print(all_chars)\n",
    "    for char in all_chars:\n",
    "#         print([char in word or len(word) == 0 for word in s.split('\\n')])\n",
    "        if all([char in word or len(word) == 0 for word in s.split('\\n')]):\n",
    "            total += 1\n",
    "#     print(all_chars)\n",
    "#     print(s)\n",
    "#     print('---')\n",
    "#     total += len(set(s))-1 # removing one because newline is counted here as well\n",
    "print(total) # 6911"
   ]
  },
  {
   "cell_type": "code",
   "execution_count": 22,
   "metadata": {},
   "outputs": [
    {
     "data": {
      "text/plain": [
       "'abc🔥abc🔥abac🔥aaaa🔥b'"
      ]
     },
     "execution_count": 22,
     "metadata": {},
     "output_type": "execute_result"
    }
   ],
   "source": [
    "inputs"
   ]
  },
  {
   "cell_type": "code",
   "execution_count": null,
   "metadata": {},
   "outputs": [],
   "source": []
  },
  {
   "cell_type": "code",
   "execution_count": null,
   "metadata": {},
   "outputs": [],
   "source": []
  }
 ],
 "metadata": {
  "kernelspec": {
   "display_name": "Python 3",
   "language": "python",
   "name": "python3"
  },
  "language_info": {
   "codemirror_mode": {
    "name": "ipython",
    "version": 3
   },
   "file_extension": ".py",
   "mimetype": "text/x-python",
   "name": "python",
   "nbconvert_exporter": "python",
   "pygments_lexer": "ipython3",
   "version": "3.7.2"
  }
 },
 "nbformat": 4,
 "nbformat_minor": 4
}
