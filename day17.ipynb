{
 "cells": [
  {
   "cell_type": "code",
   "execution_count": 1,
   "metadata": {},
   "outputs": [
    {
     "name": "stdout",
     "output_type": "stream",
     "text": [
      "after cycle 1 11\n",
      "after cycle 2 21\n",
      "after cycle 3 38\n",
      "after cycle 4 58\n",
      "after cycle 5 101\n",
      "after cycle 6 112\n",
      "Part 1: 112\n"
     ]
    }
   ],
   "source": [
    "import itertools\n",
    "import numpy as np\n",
    "from collections import defaultdict\n",
    "import copy\n",
    "\n",
    "def get_maze(num_dimensions):\n",
    "    inputs = \"\"\".#.\n",
    "    ..#\n",
    "    ###\"\"\"\n",
    "    inputs = [line.strip() for line in inputs.split(\"\\n\")]\n",
    "#     inputs = [l.strip() for l in open('inputs/day17.txt')]\n",
    "    maze = defaultdict(lambda: 0) # (w,z,y,x)\n",
    "    \n",
    "    for y in range(len(inputs)):\n",
    "        for x in range(len(inputs[0])):\n",
    "            if inputs[y][x] == '#':\n",
    "                inp = [0 for _ in range(num_dimensions-2)] + [y] + [x]\n",
    "                maze[tuple(inp)] = 1\n",
    "    return maze\n",
    "\n",
    "def count_neighbours(maze, point, dimensions):\n",
    "    count = 0\n",
    "    point = np.array(point)\n",
    "    for delta in itertools.product([-1,0,1], repeat=dimensions):\n",
    "        if sum(abs(np.array(delta))) != 0:\n",
    "            index = tuple([point[x]+delta[x] for x in range(dimensions)])\n",
    "            count += maze[index]\n",
    "    return count\n",
    "\n",
    "def get_neighbours(maze, point, dimensions):\n",
    "    neighbours = list()\n",
    "    for delta in itertools.product([-1,0,1], repeat=dimensions):\n",
    "        neighbours.append(tuple([point[x]+delta[x] for x in range(dimensions)]))\n",
    "    return neighbours\n",
    "\n",
    "def get_active(maze, num_cycles, num_dimensions):        \n",
    "    for cycle in range(num_cycles):\n",
    "        to_expand = [key for key in maze if maze[key]]\n",
    "        expand_set = set()\n",
    "        for point in to_expand:\n",
    "            expand_set.update(get_neighbours(maze, point, num_dimensions))\n",
    "\n",
    "        newmaze = defaultdict(int)\n",
    "        for to_assess in expand_set:\n",
    "            n_neighbours = count_neighbours(maze, to_assess, num_dimensions)\n",
    "\n",
    "            if maze[to_assess]:\n",
    "                newmaze[to_assess] = int(n_neighbours in [2,3])\n",
    "            else:\n",
    "                newmaze[to_assess] = int(n_neighbours==3)\n",
    "        print(\"after cycle\", cycle+1, sum(newmaze.values()))\n",
    "        maze = copy.deepcopy(newmaze)\n",
    "    return sum(newmaze.values())\n",
    "\n",
    "print(\"Part 1:\", get_active(get_maze(3), 6, 3))\n",
    "# print(\"Part 2:\", get_active(get_maze(4), 6, 4))"
   ]
  },
  {
   "cell_type": "code",
   "execution_count": 2,
   "metadata": {},
   "outputs": [
    {
     "name": "stdout",
     "output_type": "stream",
     "text": [
      "after cycle 1 83\n",
      "after cycle 2 176\n",
      "after cycle 3 2288\n"
     ]
    },
    {
     "ename": "KeyboardInterrupt",
     "evalue": "",
     "output_type": "error",
     "traceback": [
      "\u001b[0;31m---------------------------------------------------------------------------\u001b[0m",
      "\u001b[0;31mKeyboardInterrupt\u001b[0m                         Traceback (most recent call last)",
      "\u001b[0;32m<ipython-input-2-0cf0fda28346>\u001b[0m in \u001b[0;36m<module>\u001b[0;34m\u001b[0m\n\u001b[0;32m----> 1\u001b[0;31m \u001b[0mprint\u001b[0m\u001b[0;34m(\u001b[0m\u001b[0;34m\"Part 3:\"\u001b[0m\u001b[0;34m,\u001b[0m \u001b[0mget_active\u001b[0m\u001b[0;34m(\u001b[0m\u001b[0mget_maze\u001b[0m\u001b[0;34m(\u001b[0m\u001b[0;36m5\u001b[0m\u001b[0;34m)\u001b[0m\u001b[0;34m,\u001b[0m \u001b[0;36m6\u001b[0m\u001b[0;34m,\u001b[0m \u001b[0;36m5\u001b[0m\u001b[0;34m)\u001b[0m\u001b[0;34m)\u001b[0m\u001b[0;34m\u001b[0m\u001b[0;34m\u001b[0m\u001b[0m\n\u001b[0m",
      "\u001b[0;32m<ipython-input-1-2dd354d6b74f>\u001b[0m in \u001b[0;36mget_active\u001b[0;34m(maze, num_cycles, num_dimensions)\u001b[0m\n\u001b[1;32m     43\u001b[0m         \u001b[0mnewmaze\u001b[0m \u001b[0;34m=\u001b[0m \u001b[0mdefaultdict\u001b[0m\u001b[0;34m(\u001b[0m\u001b[0mint\u001b[0m\u001b[0;34m)\u001b[0m\u001b[0;34m\u001b[0m\u001b[0;34m\u001b[0m\u001b[0m\n\u001b[1;32m     44\u001b[0m         \u001b[0;32mfor\u001b[0m \u001b[0mto_assess\u001b[0m \u001b[0;32min\u001b[0m \u001b[0mexpand_set\u001b[0m\u001b[0;34m:\u001b[0m\u001b[0;34m\u001b[0m\u001b[0;34m\u001b[0m\u001b[0m\n\u001b[0;32m---> 45\u001b[0;31m             \u001b[0mn_neighbours\u001b[0m \u001b[0;34m=\u001b[0m \u001b[0mcount_neighbours\u001b[0m\u001b[0;34m(\u001b[0m\u001b[0mmaze\u001b[0m\u001b[0;34m,\u001b[0m \u001b[0mto_assess\u001b[0m\u001b[0;34m,\u001b[0m \u001b[0mnum_dimensions\u001b[0m\u001b[0;34m)\u001b[0m\u001b[0;34m\u001b[0m\u001b[0;34m\u001b[0m\u001b[0m\n\u001b[0m\u001b[1;32m     46\u001b[0m \u001b[0;34m\u001b[0m\u001b[0m\n\u001b[1;32m     47\u001b[0m             \u001b[0;32mif\u001b[0m \u001b[0mmaze\u001b[0m\u001b[0;34m[\u001b[0m\u001b[0mto_assess\u001b[0m\u001b[0;34m]\u001b[0m\u001b[0;34m:\u001b[0m\u001b[0;34m\u001b[0m\u001b[0;34m\u001b[0m\u001b[0m\n",
      "\u001b[0;32m<ipython-input-1-2dd354d6b74f>\u001b[0m in \u001b[0;36mcount_neighbours\u001b[0;34m(maze, point, dimensions)\u001b[0m\n\u001b[1;32m     23\u001b[0m     \u001b[0mpoint\u001b[0m \u001b[0;34m=\u001b[0m \u001b[0mnp\u001b[0m\u001b[0;34m.\u001b[0m\u001b[0marray\u001b[0m\u001b[0;34m(\u001b[0m\u001b[0mpoint\u001b[0m\u001b[0;34m)\u001b[0m\u001b[0;34m\u001b[0m\u001b[0;34m\u001b[0m\u001b[0m\n\u001b[1;32m     24\u001b[0m     \u001b[0;32mfor\u001b[0m \u001b[0mdelta\u001b[0m \u001b[0;32min\u001b[0m \u001b[0mitertools\u001b[0m\u001b[0;34m.\u001b[0m\u001b[0mproduct\u001b[0m\u001b[0;34m(\u001b[0m\u001b[0;34m[\u001b[0m\u001b[0;34m-\u001b[0m\u001b[0;36m1\u001b[0m\u001b[0;34m,\u001b[0m\u001b[0;36m0\u001b[0m\u001b[0;34m,\u001b[0m\u001b[0;36m1\u001b[0m\u001b[0;34m]\u001b[0m\u001b[0;34m,\u001b[0m \u001b[0mrepeat\u001b[0m\u001b[0;34m=\u001b[0m\u001b[0mdimensions\u001b[0m\u001b[0;34m)\u001b[0m\u001b[0;34m:\u001b[0m\u001b[0;34m\u001b[0m\u001b[0;34m\u001b[0m\u001b[0m\n\u001b[0;32m---> 25\u001b[0;31m         \u001b[0;32mif\u001b[0m \u001b[0msum\u001b[0m\u001b[0;34m(\u001b[0m\u001b[0mabs\u001b[0m\u001b[0;34m(\u001b[0m\u001b[0mnp\u001b[0m\u001b[0;34m.\u001b[0m\u001b[0marray\u001b[0m\u001b[0;34m(\u001b[0m\u001b[0mdelta\u001b[0m\u001b[0;34m)\u001b[0m\u001b[0;34m)\u001b[0m\u001b[0;34m)\u001b[0m \u001b[0;34m!=\u001b[0m \u001b[0;36m0\u001b[0m\u001b[0;34m:\u001b[0m\u001b[0;34m\u001b[0m\u001b[0;34m\u001b[0m\u001b[0m\n\u001b[0m\u001b[1;32m     26\u001b[0m             \u001b[0mindex\u001b[0m \u001b[0;34m=\u001b[0m \u001b[0mtuple\u001b[0m\u001b[0;34m(\u001b[0m\u001b[0;34m[\u001b[0m\u001b[0mpoint\u001b[0m\u001b[0;34m[\u001b[0m\u001b[0mx\u001b[0m\u001b[0;34m]\u001b[0m\u001b[0;34m+\u001b[0m\u001b[0mdelta\u001b[0m\u001b[0;34m[\u001b[0m\u001b[0mx\u001b[0m\u001b[0;34m]\u001b[0m \u001b[0;32mfor\u001b[0m \u001b[0mx\u001b[0m \u001b[0;32min\u001b[0m \u001b[0mrange\u001b[0m\u001b[0;34m(\u001b[0m\u001b[0mdimensions\u001b[0m\u001b[0;34m)\u001b[0m\u001b[0;34m]\u001b[0m\u001b[0;34m)\u001b[0m\u001b[0;34m\u001b[0m\u001b[0;34m\u001b[0m\u001b[0m\n\u001b[1;32m     27\u001b[0m             \u001b[0mcount\u001b[0m \u001b[0;34m+=\u001b[0m \u001b[0mmaze\u001b[0m\u001b[0;34m[\u001b[0m\u001b[0mindex\u001b[0m\u001b[0;34m]\u001b[0m\u001b[0;34m\u001b[0m\u001b[0;34m\u001b[0m\u001b[0m\n",
      "\u001b[0;31mKeyboardInterrupt\u001b[0m: "
     ]
    }
   ],
   "source": [
    "print(\"Part 3:\", get_active(get_maze(5), 6, 5))"
   ]
  },
  {
   "cell_type": "code",
   "execution_count": 3,
   "metadata": {},
   "outputs": [
    {
     "name": "stdout",
     "output_type": "stream",
     "text": [
      "after cycle 1 29\n",
      "after cycle 2 60\n",
      "after cycle 3 320\n",
      "after cycle 4 188\n",
      "after cycle 5 1056\n",
      "after cycle 6 848\n",
      "Part 2: 848\n",
      "CPU times: user 18.1 s, sys: 318 ms, total: 18.4 s\n",
      "Wall time: 20.1 s\n"
     ]
    }
   ],
   "source": [
    "%time print(\"Part 2:\", get_active(get_maze(4), 6, 4))"
   ]
  },
  {
   "cell_type": "code",
   "execution_count": 5,
   "metadata": {},
   "outputs": [
    {
     "name": "stdout",
     "output_type": "stream",
     "text": [
      "2236\n"
     ]
    }
   ],
   "source": [
    "import numpy as np                                                              \n",
    "store = set()                                                                   \n",
    "min_x = min_y = min_z = max_z = min_w = max_w = 0                               \n",
    "with open('inputs/day17.txt', 'r') as f:                                               \n",
    "    for y, line in enumerate(f):                                                \n",
    "        for x, c in enumerate(line.strip()):                                    \n",
    "            if c == '#':                                                        \n",
    "                store.add((x,y,0,0))                                            \n",
    "max_x, max_y = x, y                                                             \n",
    "def neighbours(store, x, y, z, w):                                              \n",
    "    positive = 0                                                                \n",
    "    for i in [-1, 0, 1]:                                                        \n",
    "        for j in [-1, 0, 1]:                                                    \n",
    "            for k in [-1, 0, 1]:                                                \n",
    "                for l in [-1, 0, 1]:                                            \n",
    "                    if i == j == k == l == 0:                                   \n",
    "                        continue                                                \n",
    "                    else:                                                       \n",
    "                        if (x+i, y+j, z+k, w+l) in store:                       \n",
    "                            positive+=1                                         \n",
    "    return positive                                                             \n",
    "for iteration in range(1, 7):                                                   \n",
    "    tmp_store = set()                                                           \n",
    "    for x in range(min_x - iteration, max_x + iteration+1):                     \n",
    "        for y in range(min_y - iteration, max_y + iteration+1):                 \n",
    "            for z in range(min_z - iteration, max_z + iteration+1):             \n",
    "                for w in range(min_w - iteration, max_w + iteration+1):         \n",
    "                    n = neighbours(store, x, y, z, w)                           \n",
    "                    if (x, y, z, w) in store and n in [2, 3]:                   \n",
    "                        tmp_store.add((x, y, z, w))                             \n",
    "                    if (x, y, z, w) not in store and n == 3:                    \n",
    "                        tmp_store.add((x, y, z, w))                             \n",
    "    store = tmp_store                                                           \n",
    "print(len(store))  "
   ]
  },
  {
   "cell_type": "code",
   "execution_count": null,
   "metadata": {},
   "outputs": [],
   "source": []
  }
 ],
 "metadata": {
  "kernelspec": {
   "display_name": "Python 3",
   "language": "python",
   "name": "python3"
  },
  "language_info": {
   "codemirror_mode": {
    "name": "ipython",
    "version": 3
   },
   "file_extension": ".py",
   "mimetype": "text/x-python",
   "name": "python",
   "nbconvert_exporter": "python",
   "pygments_lexer": "ipython3",
   "version": "3.7.2"
  }
 },
 "nbformat": 4,
 "nbformat_minor": 4
}
