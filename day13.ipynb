{
 "cells": [
  {
   "cell_type": "code",
   "execution_count": 1,
   "metadata": {},
   "outputs": [],
   "source": [
    "import itertools\n",
    "\n",
    "lines = \"\"\"939\n",
    "7,13,x,x,59,x,31,19\"\"\"\n",
    "# lines = [l for l in lines.split(\"\\n\")]\n",
    "lines = [l for l in open('inputs/day13.txt')]\n",
    "\n",
    "ts, busses = lines\n",
    "ts = int(ts)\n",
    "busses = [int(b) for b in busses.split(',') if b != 'x']"
   ]
  },
  {
   "cell_type": "code",
   "execution_count": 2,
   "metadata": {},
   "outputs": [
    {
     "name": "stdout",
     "output_type": "stream",
     "text": [
      "Part 1 102\n"
     ]
    }
   ],
   "source": [
    "for depart in range(ts, ts*1000):\n",
    "    time_to_depart = [depart%b for b in busses]\n",
    "    \n",
    "    if min(time_to_depart)==0:\n",
    "        print(\"Part 1\", (depart-ts)*busses[time_to_depart.index(0)])\n",
    "        break"
   ]
  },
  {
   "cell_type": "code",
   "execution_count": 22,
   "metadata": {},
   "outputs": [
    {
     "name": "stdout",
     "output_type": "stream",
     "text": [
      "[(0, 19), (13, 37), (19, 523), (37, 13), (42, 23), (48, 29), (50, 547), (60, 41), (67, 17)]\n",
      "209 703\n",
      "317965 367669\n",
      "3994655 4779697\n",
      "85249504 109933031\n",
      "2173977093 3188057899\n",
      "1197695689218 1743867670753\n",
      "41306652116537 71498574500873\n",
      "327300950120029 1215475766514841\n",
      "Part 2: 327300950120029\n"
     ]
    }
   ],
   "source": [
    "busses = [(offset,int(linenumber)) for (offset,linenumber) in enumerate(lines[1].split(\",\")) if linenumber != 'x']\n",
    "print(busses)\n",
    "update_start = 0\n",
    "update_jump = busses[0][1]\n",
    "for index in range(1,len(busses)):\n",
    "    offset_start, number = busses[index]\n",
    "    places_found = list()\n",
    "    for i in itertools.count(update_start,step=update_jump):\n",
    "        if (i+offset_start)%number == 0:\n",
    "            places_found.append(i)\n",
    "            if len(places_found)==2:\n",
    "                update_start = places_found[0]\n",
    "                update_jump = places_found[1]-places_found[0]\n",
    "                print(update_start, update_jump)\n",
    "                break\n",
    "print(\"Part 2:\", update_start)"
   ]
  },
  {
   "cell_type": "code",
   "execution_count": 14,
   "metadata": {},
   "outputs": [
    {
     "data": {
      "text/plain": [
       "False"
      ]
     },
     "execution_count": 14,
     "metadata": {},
     "output_type": "execute_result"
    }
   ],
   "source": [
    "from sympy.solvers import solve\n",
    "from sympy import *\n",
    "x = Symbol('x')\n",
    "y = Symbol('y')\n",
    "z = Symbol('z')\n",
    "solve(x==0, x)"
   ]
  },
  {
   "cell_type": "code",
   "execution_count": 21,
   "metadata": {},
   "outputs": [
    {
     "data": {
      "text/plain": [
       "S.Complexes"
      ]
     },
     "execution_count": 21,
     "metadata": {},
     "output_type": "execute_result"
    }
   ],
   "source": [
    "solveset(Eq(y*17-(17*y/19 - 13/19)*19,13), y)"
   ]
  },
  {
   "cell_type": "code",
   "execution_count": null,
   "metadata": {},
   "outputs": [],
   "source": [
    " "
   ]
  }
 ],
 "metadata": {
  "kernelspec": {
   "display_name": "Python 3",
   "language": "python",
   "name": "python3"
  },
  "language_info": {
   "codemirror_mode": {
    "name": "ipython",
    "version": 3
   },
   "file_extension": ".py",
   "mimetype": "text/x-python",
   "name": "python",
   "nbconvert_exporter": "python",
   "pygments_lexer": "ipython3",
   "version": "3.7.2"
  }
 },
 "nbformat": 4,
 "nbformat_minor": 4
}
