{
 "cells": [
  {
   "cell_type": "code",
   "execution_count": 9,
   "metadata": {},
   "outputs": [
    {
     "name": "stdout",
     "output_type": "stream",
     "text": [
      "Part 1: 187\n",
      "Part 2: 392\n"
     ]
    }
   ],
   "source": [
    "lines = [line.strip() for line in open(\"inputs/day19.txt\")]\n",
    "\n",
    "rules = [line for line in lines if len(line) > 0 and line[0] not in \"ab\"]\n",
    "messages = [line for line in lines if len(line) > 0 and line[0] in \"ab\"]\n",
    "\n",
    "\n",
    "import copy\n",
    "from collections import defaultdict\n",
    "import re\n",
    "\n",
    "def combine_rules(regex_dict, subrules):\n",
    "    combined_regex = \"\"\n",
    "    found_all = True\n",
    "    for subrule in subrules:\n",
    "        if subrule in regex_dict: \n",
    "            combined_regex += regex_dict[subrule]\n",
    "        else:\n",
    "            found_all=False\n",
    "    return found_all, combined_regex\n",
    "            \n",
    "def get_regex_dict(rules, repeat_rule_8, repeat_rule_11):\n",
    "    regex_dict = dict()\n",
    "    for i in range(100):\n",
    "        for rule in rules: \n",
    "            number, value = rule.split(\":\")\n",
    "            value = value.strip()\n",
    "            if \"a\" in value or \"b\" in value:\n",
    "                regex_dict[number] = value[1] # just get the number\n",
    "            if \"|\" in value:\n",
    "                option1, option2 = value.split(\"|\")\n",
    "                option1, option2 = option1.strip(), option2.strip()\n",
    "\n",
    "                found_all1, combined1 = combine_rules(regex_dict, option1.split(\" \"))\n",
    "                found_all2, combined2 = combine_rules(regex_dict, option2.split(\" \"))\n",
    "                \n",
    "                if found_all1 and found_all2:\n",
    "                    regex_dict[number] = \"(\"+combined1+\"|\"+combined2+\")\"\n",
    "                    \n",
    "            else:\n",
    "                found_all, combined = combine_rules(regex_dict, value.split(\" \"))\n",
    "                if found_all:\n",
    "                    if number == \"8\":  \n",
    "                        regex_dict['8'] = regex_dict['42']+\"{repeat_rule_8}\"\n",
    "                    elif number == \"11\":\n",
    "                        regex_dict['11'] = regex_dict['42']+\"{repeat_rule_11}\" + regex_dict['31']+\"{repeat_rule_11}\"\n",
    "                    else:\n",
    "                        regex_dict[number] = combined\n",
    "    return regex_dict\n",
    "\n",
    "\n",
    "def get_number_matches(max_range):\n",
    "    regex_dict = get_regex_dict(rules, 1,1) \n",
    "    can_match = defaultdict(lambda: false)\n",
    "    for repeat_rule_8 in range(1,max_range):\n",
    "        for repeat_rule_11 in range(1,max_range):\n",
    "            for message in messages: \n",
    "                regexp = re.compile(r'^'+regex_dict['0'].replace(\"repeat_rule_8\", str(repeat_rule_8)).replace(\"repeat_rule_11\", str(repeat_rule_11))+'$')\n",
    "                if regexp.search(message):\n",
    "                    can_match[message] = True\n",
    "    return sum(can_match.values())\n",
    "\n",
    "print(\"Part 1:\", get_number_matches(2))\n",
    "print(\"Part 2:\", get_number_matches(10))"
   ]
  },
  {
   "cell_type": "code",
   "execution_count": null,
   "metadata": {},
   "outputs": [],
   "source": []
  }
 ],
 "metadata": {
  "kernelspec": {
   "display_name": "Python 3",
   "language": "python",
   "name": "python3"
  },
  "language_info": {
   "codemirror_mode": {
    "name": "ipython",
    "version": 3
   },
   "file_extension": ".py",
   "mimetype": "text/x-python",
   "name": "python",
   "nbconvert_exporter": "python",
   "pygments_lexer": "ipython3",
   "version": "3.7.2"
  }
 },
 "nbformat": 4,
 "nbformat_minor": 4
}
