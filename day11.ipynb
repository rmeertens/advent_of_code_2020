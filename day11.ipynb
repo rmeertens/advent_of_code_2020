{
 "cells": [
  {
   "cell_type": "code",
   "execution_count": 1,
   "metadata": {},
   "outputs": [],
   "source": [
    "\n",
    "inputs = \"\"\"L.LL.LL.LL\n",
    "LLLLLLL.LL\n",
    "L.L.L..L..\n",
    "LLLL.LL.LL\n",
    "L.LL.LL.LL\n",
    "L.LLLLL.LL\n",
    "..L.L.....\n",
    "LLLLLLLLLL\n",
    "L.LLLLLL.L\n",
    "L.LLLLL.LL\"\"\"\n",
    "\n",
    "inputs = [line for line in inputs.split(\"\\n\")]\n",
    "\n",
    "from collections import defaultdict\n",
    "\n",
    "inputs = [line for line in open('inputs/day11.txt')]\n",
    "\n",
    "diagonals = [(-1,-1), (-1, 0), (-1, 1), (0, -1), (0,1), (1,-1), (1,0), (1,1)]\n",
    "\n",
    "def print_state(state, num_lines, num_columns):\n",
    "    string_rep = ''\n",
    "    for y in range(num_lines):\n",
    "        for x in range(num_columns):\n",
    "            string_rep += state[(y,x)]\n",
    "        string_rep += '\\n'\n",
    "    return string_rep"
   ]
  },
  {
   "cell_type": "code",
   "execution_count": 4,
   "metadata": {},
   "outputs": [
    {
     "name": "stdout",
     "output_type": "stream",
     "text": [
      "done 81 2386\n",
      "CPU times: user 1.4 s, sys: 8.99 ms, total: 1.4 s\n",
      "Wall time: 1.41 s\n"
     ]
    }
   ],
   "source": [
    "%%time\n",
    "\n",
    "def get_occupied_part1(inp, y, x, num_lines, num_columns):\n",
    "    num_occupied = 0\n",
    "    for dy, dx in diagonals: \n",
    "        if inp[(y+dy, x+dx)] == \"#\":\n",
    "            num_occupied += 1\n",
    "    return num_occupied\n",
    "\n",
    "\n",
    "def step(inp, num_lines, num_columns, num_occupied_empy, occupied_strategy):\n",
    "    new_state = defaultdict(lambda : '.')\n",
    "    for y in range(num_lines):\n",
    "        for x in range(num_columns):\n",
    "            # Skip the ground \n",
    "            if inp[(y,x)] == \".\":\n",
    "                continue\n",
    "            \n",
    "            # Count num occupied in line of sight\n",
    "            num_occupied = occupied_strategy(inp, y, x, num_lines, num_columns)\n",
    "                        \n",
    "            if inp[(y,x)] == 'L':\n",
    "                new_state[(y,x)] = \"#\" if num_occupied ==0 else \"L\"\n",
    "            elif inp[(y,x)] == '#':\n",
    "                new_state[(y,x)] = \"L\" if num_occupied >=num_occupied_empy else \"#\"\n",
    "    return new_state\n",
    "\n",
    "\n",
    "# Initialise the inputs and variables\n",
    "start_state = defaultdict(lambda: '.')\n",
    "num_lines = len(inputs)\n",
    "num_columns = len(inputs[0])\n",
    "for y in range(num_lines):\n",
    "    for x in range(num_columns):\n",
    "        start_state[(y,x)] = inputs[y][x]\n",
    "        \n",
    "        \n",
    "old_state = start_state\n",
    "for step_count in range(10000):\n",
    "    new_state = step(old_state, num_lines, num_columns, 4, get_occupied_part1)\n",
    "    if print_state(old_state, \n",
    "                   num_lines, \n",
    "                   num_columns) == print_state(new_state, \n",
    "                                               num_lines, \n",
    "                                               num_columns):\n",
    "        print('done', step_count,print_state(old_state, \n",
    "                   num_lines, \n",
    "                   num_columns).count('#') )\n",
    "        break\n",
    "    old_state = new_state"
   ]
  },
  {
   "cell_type": "code",
   "execution_count": 8,
   "metadata": {},
   "outputs": [
    {
     "name": "stdout",
     "output_type": "stream",
     "text": [
      "done 87 2091\n",
      "CPU times: user 5.61 s, sys: 26.3 ms, total: 5.64 s\n",
      "Wall time: 5.67 s\n"
     ]
    }
   ],
   "source": [
    "%%time\n",
    "\n",
    "def get_occupied_part2(inp, y, x, num_lines, num_columns):\n",
    "    num_occupied = 0\n",
    "    for dy, dx in diagonals:\n",
    "        ly, lx = y,x\n",
    "        while ly in range(num_lines) and lx in range(num_columns):\n",
    "            ly, lx = ly+dy,lx+dx\n",
    "            if inp[(ly,lx)] == \"#\":\n",
    "                num_occupied += 1\n",
    "            if inp[(ly,lx)] in \"#L\":\n",
    "                break\n",
    "    return num_occupied\n",
    "\n",
    "\n",
    "\n",
    "old_state = start_state\n",
    "for step_count in range(10000):\n",
    "    new_state = step(old_state, num_lines, num_columns, 5, get_occupied_part2)\n",
    "    if print_state(old_state, \n",
    "                   num_lines, \n",
    "                   num_columns) == print_state(new_state, \n",
    "                                               num_lines, \n",
    "                                               num_columns):\n",
    "        print('done', step_count,print_state(old_state, \n",
    "                   num_lines, \n",
    "                   num_columns).count('#') )\n",
    "        break\n",
    "    old_state = new_state\n"
   ]
  },
  {
   "cell_type": "code",
   "execution_count": null,
   "metadata": {},
   "outputs": [],
   "source": []
  },
  {
   "cell_type": "code",
   "execution_count": null,
   "metadata": {},
   "outputs": [],
   "source": []
  }
 ],
 "metadata": {
  "kernelspec": {
   "display_name": "Python 3",
   "language": "python",
   "name": "python3"
  },
  "language_info": {
   "codemirror_mode": {
    "name": "ipython",
    "version": 3
   },
   "file_extension": ".py",
   "mimetype": "text/x-python",
   "name": "python",
   "nbconvert_exporter": "python",
   "pygments_lexer": "ipython3",
   "version": "3.7.2"
  }
 },
 "nbformat": 4,
 "nbformat_minor": 4
}
