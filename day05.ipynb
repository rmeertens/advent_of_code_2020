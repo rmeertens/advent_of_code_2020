{
 "cells": [
  {
   "cell_type": "code",
   "execution_count": 54,
   "metadata": {},
   "outputs": [
    {
     "name": "stdout",
     "output_type": "stream",
     "text": [
      "Part 1 850\n",
      "Part 2 599\n"
     ]
    }
   ],
   "source": [
    "def get_seat_id(string):\n",
    "    bin_rows, bin_cols = 7, 3\n",
    "    minr, maxr = 0, 2**bin_rows\n",
    "    \n",
    "    # determine row\n",
    "    for character in string[:bin_rows]:\n",
    "        middle = (minr+maxr)//2\n",
    "        if character == \"B\":\n",
    "            minr = middle\n",
    "        elif character == \"F\":\n",
    "            maxr = middle\n",
    "    \n",
    "    # determine column    \n",
    "    minc, maxc = 0, 2**bin_cols\n",
    "    for character in string[bin_rows:]:\n",
    "        middle = (minc+maxc)//2\n",
    "        if character == \"R\":\n",
    "            minc = middle\n",
    "        elif character == \"L\":\n",
    "            maxc = middle\n",
    "    \n",
    "    return minr*8+minc\n",
    "\n",
    "# Look at that, unit-tests! \n",
    "assert get_seat_id(\"BFFFBBFRRR\") == 567\n",
    "assert get_seat_id(\"FFFBBBFRRR\") == 119\n",
    "assert get_seat_id(\"BBFFBBFRLL\") == 820\n",
    "\n",
    "maxfound = 0\n",
    "all_ids = list()\n",
    "with open('inputs/day05.txt') as f:\n",
    "    for line in f:\n",
    "        seat_id = get_seat_id(line)\n",
    "        maxfound = max(maxfound, seat_id)\n",
    "        all_ids.append(seat_id)\n",
    "\n",
    "\n",
    "print(\"Part 1\", maxfound)\n",
    "\n",
    "for i in range(1023):\n",
    "    if i not in all_ids and i+1 in all_ids and i-1 in all_ids:\n",
    "        print(\"Part 2\", i)"
   ]
  },
  {
   "cell_type": "code",
   "execution_count": 56,
   "metadata": {},
   "outputs": [
    {
     "data": {
      "text/plain": [
       "{0, 1, 2, 3, 4, 5, 6, 7, 8, 9, 10, 599}"
      ]
     },
     "execution_count": 56,
     "metadata": {},
     "output_type": "execute_result"
    }
   ],
   "source": [
    "\n",
    "set(range(0, 850)) - set(all_ids)"
   ]
  },
  {
   "cell_type": "code",
   "execution_count": 60,
   "metadata": {},
   "outputs": [
    {
     "data": {
      "text/plain": [
       "5"
      ]
     },
     "execution_count": 60,
     "metadata": {},
     "output_type": "execute_result"
    }
   ],
   "source": [
    "int(\"0000101\", 2)"
   ]
  },
  {
   "cell_type": "code",
   "execution_count": 61,
   "metadata": {},
   "outputs": [],
   "source": [
    "test = 'sfsfs'"
   ]
  },
  {
   "cell_type": "code",
   "execution_count": 63,
   "metadata": {},
   "outputs": [],
   "source": [
    "test = test.translate({\"s\":\"0\"})"
   ]
  },
  {
   "cell_type": "code",
   "execution_count": 64,
   "metadata": {},
   "outputs": [
    {
     "data": {
      "text/plain": [
       "'sfsfs'"
      ]
     },
     "execution_count": 64,
     "metadata": {},
     "output_type": "execute_result"
    }
   ],
   "source": [
    "test"
   ]
  },
  {
   "cell_type": "code",
   "execution_count": 72,
   "metadata": {},
   "outputs": [],
   "source": [
    "test = test.translate(''.maketrans('sLBR', '0011'))"
   ]
  },
  {
   "cell_type": "code",
   "execution_count": 70,
   "metadata": {},
   "outputs": [
    {
     "data": {
      "text/plain": [
       "'0f0f0'"
      ]
     },
     "execution_count": 70,
     "metadata": {},
     "output_type": "execute_result"
    }
   ],
   "source": [
    "test"
   ]
  },
  {
   "cell_type": "code",
   "execution_count": null,
   "metadata": {},
   "outputs": [],
   "source": []
  }
 ],
 "metadata": {
  "kernelspec": {
   "display_name": "Python 3",
   "language": "python",
   "name": "python3"
  },
  "language_info": {
   "codemirror_mode": {
    "name": "ipython",
    "version": 3
   },
   "file_extension": ".py",
   "mimetype": "text/x-python",
   "name": "python",
   "nbconvert_exporter": "python",
   "pygments_lexer": "ipython3",
   "version": "3.7.2"
  }
 },
 "nbformat": 4,
 "nbformat_minor": 4
}
