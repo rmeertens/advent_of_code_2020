{
 "cells": [
  {
   "cell_type": "code",
   "execution_count": 47,
   "metadata": {},
   "outputs": [],
   "source": [
    "inputs = \"\"\"ecl:gry pid:860033327 eyr:2020 hcl:#fffffd\n",
    "byr:1937 iyr:2017 cid:147 hgt:183cm\n",
    "\n",
    "iyr:2013 ecl:amb cid:350 eyr:2023 pid:028048884\n",
    "hcl:#cfa07d byr:1929\n",
    "\n",
    "hcl:#ae17e1 iyr:2013\n",
    "eyr:2024\n",
    "ecl:brn pid:760753108 byr:1931\n",
    "hgt:179cm\n",
    "\n",
    "hcl:#cfa07d eyr:2025 pid:166559648\n",
    "iyr:2011 ecl:brn hgt:59in\"\"\"\n",
    "# inputs = [line for line in inputs.split('\\n')]\n",
    "\n",
    "import re\n",
    "inputs = open(\"inputs/day04.txt\").read().splitlines()\n",
    "inputs = ' '.join([\"😀\" if len(x)==0 else x for x in inputs]).split(\"😀\")"
   ]
  },
  {
   "cell_type": "code",
   "execution_count": 48,
   "metadata": {},
   "outputs": [
    {
     "name": "stdout",
     "output_type": "stream",
     "text": [
      "213\n"
     ]
    }
   ],
   "source": [
    "# Part 1\n",
    "valid_lines = list()\n",
    "for line in inputs: \n",
    "    entries = {x.split(\":\")[0]:x.split(\":\")[1] for x in line.split()}\n",
    "\n",
    "    if all([k in entries for k in [\"byr\", \"iyr\", \"eyr\", \"hgt\", \"hcl\", \"ecl\", \"pid\"]]):\n",
    "        valid_lines.append(entries)\n",
    "print(len(valid_lines))"
   ]
  },
  {
   "cell_type": "code",
   "execution_count": 49,
   "metadata": {
    "scrolled": false
   },
   "outputs": [
    {
     "name": "stdout",
     "output_type": "stream",
     "text": [
      "147\n"
     ]
    }
   ],
   "source": [
    "# Part 2\n",
    "num_valid = 0\n",
    "for entries in valid_lines: \n",
    "    if int(entries['byr']) not in range(1920, 2002+1):\n",
    "        continue\n",
    "\n",
    "    if int(entries['iyr']) not in range(2010, 2020+1):\n",
    "        continue\n",
    "\n",
    "    if int(entries['eyr']) not in range(2020, 2030+1):\n",
    "        continue\n",
    "\n",
    "    test = entries['hgt']\n",
    "    if test.endswith('cm'):\n",
    "        if int(test[:-2]) not in range(150, 193+1):\n",
    "            continue\n",
    "    elif test.endswith('in'):\n",
    "        if int(test[:-2]) not in range(59, 76+1):\n",
    "            continue\n",
    "    else: # does not end in cm or in\n",
    "        continue\n",
    "\n",
    "    if not re.search(\"^(#[\\da-f]{6})$\", entries['hcl']):\n",
    "        continue\n",
    "\n",
    "    if entries['ecl'] not in \"amb blu brn gry grn hzl oth\".split():\n",
    "        continue\n",
    "\n",
    "    if not re.search(\"^(\\d{9})$\", entries['pid']):\n",
    "        continue\n",
    "\n",
    "    num_valid += 1\n",
    "print(num_valid)\n"
   ]
  },
  {
   "cell_type": "code",
   "execution_count": null,
   "metadata": {},
   "outputs": [],
   "source": []
  }
 ],
 "metadata": {
  "kernelspec": {
   "display_name": "Python 3",
   "language": "python",
   "name": "python3"
  },
  "language_info": {
   "codemirror_mode": {
    "name": "ipython",
    "version": 3
   },
   "file_extension": ".py",
   "mimetype": "text/x-python",
   "name": "python",
   "nbconvert_exporter": "python",
   "pygments_lexer": "ipython3",
   "version": "3.7.2"
  }
 },
 "nbformat": 4,
 "nbformat_minor": 4
}
