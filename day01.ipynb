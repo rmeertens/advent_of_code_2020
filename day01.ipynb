{
 "cells": [
  {
   "cell_type": "code",
   "execution_count": 28,
   "metadata": {},
   "outputs": [],
   "source": [
    "inputs = \"\"\"1721\n",
    "979\n",
    "366\n",
    "299\n",
    "675\n",
    "1456\"\"\"\n",
    "# inputs = [int(x) for x in inputs.split(\"\\n\")]\n",
    "\n",
    "with open('inputs/day01.txt') as f:\n",
    "    inputs = f.readlines()\n",
    "\n",
    "inputs = [int(x) for x in inputs]"
   ]
  },
  {
   "cell_type": "code",
   "execution_count": null,
   "metadata": {},
   "outputs": [],
   "source": []
  },
  {
   "cell_type": "code",
   "execution_count": 29,
   "metadata": {},
   "outputs": [],
   "source": [
    "import itertools\n",
    "from operator import mul\n",
    "import functools"
   ]
  },
  {
   "cell_type": "code",
   "execution_count": 30,
   "metadata": {},
   "outputs": [
    {
     "name": "stdout",
     "output_type": "stream",
     "text": [
      "691771\n"
     ]
    }
   ],
   "source": [
    "\n",
    "for comb in itertools.combinations(inputs, 2):\n",
    "    if sum(comb)==2020:\n",
    "        print(functools.reduce(mul, comb))"
   ]
  },
  {
   "cell_type": "code",
   "execution_count": 31,
   "metadata": {},
   "outputs": [
    {
     "name": "stdout",
     "output_type": "stream",
     "text": [
      "232508760\n"
     ]
    }
   ],
   "source": [
    "for comb in itertools.combinations(inputs, 3):\n",
    "    if sum(comb)==2020:\n",
    "        print(functools.reduce(mul, comb))"
   ]
  },
  {
   "cell_type": "code",
   "execution_count": 34,
   "metadata": {},
   "outputs": [
    {
     "name": "stdout",
     "output_type": "stream",
     "text": [
      "Got it:  691771\n",
      "Got it:  691771\n"
     ]
    }
   ],
   "source": [
    "inputs = [int(x) for x in inputs]\n",
    "input_set = set(inputs)\n",
    "for number in inputs:\n",
    "    if 2020-number in input_set: \n",
    "        print(\"Got it: \", number*(2020-number))"
   ]
  },
  {
   "cell_type": "code",
   "execution_count": null,
   "metadata": {},
   "outputs": [],
   "source": []
  }
 ],
 "metadata": {
  "kernelspec": {
   "display_name": "Python 3",
   "language": "python",
   "name": "python3"
  },
  "language_info": {
   "codemirror_mode": {
    "name": "ipython",
    "version": 3
   },
   "file_extension": ".py",
   "mimetype": "text/x-python",
   "name": "python",
   "nbconvert_exporter": "python",
   "pygments_lexer": "ipython3",
   "version": "3.7.2"
  }
 },
 "nbformat": 4,
 "nbformat_minor": 4
}
